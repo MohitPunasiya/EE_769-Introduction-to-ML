{
  "cells": [
    {
      "cell_type": "markdown",
      "metadata": {
        "id": "view-in-github",
        "colab_type": "text"
      },
      "source": [
        "<a href=\"https://colab.research.google.com/github/MohitPunasiya/EE_769-Introduction-to-ML/blob/main/A2.ipynb\" target=\"_parent\"><img src=\"https://colab.research.google.com/assets/colab-badge.svg\" alt=\"Open In Colab\"/></a>"
      ]
    },
    {
      "cell_type": "markdown",
      "id": "VB1xArfwSqvC",
      "metadata": {
        "id": "VB1xArfwSqvC"
      },
      "source": [
        "##Assignment 2 : Classification Models\n",
        "##Submitted by Mohit Punasiya: 213170006 & Ankur Kumar: 213170001\n"
      ]
    },
    {
      "cell_type": "code",
      "execution_count": null,
      "id": "395a8921",
      "metadata": {
        "id": "395a8921"
      },
      "outputs": [],
      "source": [
        "import pandas as pd\n",
        "import numpy as np\n",
        "import matplotlib.pyplot as plt\n",
        "import seaborn as sns\n",
        "%matplotlib inline"
      ]
    },
    {
      "cell_type": "code",
      "execution_count": null,
      "id": "2e800aa6",
      "metadata": {
        "colab": {
          "base_uri": "https://localhost:8080/"
        },
        "id": "2e800aa6",
        "outputId": "103af916-d10a-478b-871c-d9b4b2089deb"
      },
      "outputs": [
        {
          "output_type": "stream",
          "name": "stdout",
          "text": [
            "<class 'pandas.core.frame.DataFrame'>\n",
            "RangeIndex: 762 entries, 0 to 761\n",
            "Data columns (total 79 columns):\n",
            " #   Column              Non-Null Count  Dtype  \n",
            "---  ------              --------------  -----  \n",
            " 0   DYRK1A_N            762 non-null    float64\n",
            " 1   ITSN1_N             762 non-null    float64\n",
            " 2   BDNF_N              762 non-null    float64\n",
            " 3   NR1_N               762 non-null    float64\n",
            " 4   NR2A_N              762 non-null    float64\n",
            " 5   pAKT_N              762 non-null    float64\n",
            " 6   pBRAF_N             762 non-null    float64\n",
            " 7   pCAMKII_N           762 non-null    float64\n",
            " 8   pCREB_N             762 non-null    float64\n",
            " 9   pELK_N              762 non-null    float64\n",
            " 10  pERK_N              762 non-null    float64\n",
            " 11  pJNK_N              762 non-null    float64\n",
            " 12  PKCA_N              762 non-null    float64\n",
            " 13  pMEK_N              762 non-null    float64\n",
            " 14  pNR1_N              762 non-null    float64\n",
            " 15  pNR2A_N             762 non-null    float64\n",
            " 16  pNR2B_N             762 non-null    float64\n",
            " 17  pPKCAB_N            762 non-null    float64\n",
            " 18  pRSK_N              762 non-null    float64\n",
            " 19  AKT_N               762 non-null    float64\n",
            " 20  BRAF_N              762 non-null    float64\n",
            " 21  CAMKII_N            762 non-null    float64\n",
            " 22  CREB_N              762 non-null    float64\n",
            " 23  ELK_N               747 non-null    float64\n",
            " 24  ERK_N               762 non-null    float64\n",
            " 25  GSK3B_N             762 non-null    float64\n",
            " 26  JNK_N               762 non-null    float64\n",
            " 27  MEK_N               758 non-null    float64\n",
            " 28  TRKA_N              762 non-null    float64\n",
            " 29  RSK_N               762 non-null    float64\n",
            " 30  APP_N               762 non-null    float64\n",
            " 31  Bcatenin_N          747 non-null    float64\n",
            " 32  SOD1_N              762 non-null    float64\n",
            " 33  MTOR_N              762 non-null    float64\n",
            " 34  P38_N               762 non-null    float64\n",
            " 35  pMTOR_N             762 non-null    float64\n",
            " 36  DSCR1_N             762 non-null    float64\n",
            " 37  AMPKA_N             762 non-null    float64\n",
            " 38  NR2B_N              762 non-null    float64\n",
            " 39  pNUMB_N             762 non-null    float64\n",
            " 40  RAPTOR_N            762 non-null    float64\n",
            " 41  TIAM1_N             762 non-null    float64\n",
            " 42  pP70S6_N            762 non-null    float64\n",
            " 43  NUMB_N              762 non-null    float64\n",
            " 44  P70S6_N             762 non-null    float64\n",
            " 45  pGSK3B_N            762 non-null    float64\n",
            " 46  pPKCG_N             762 non-null    float64\n",
            " 47  CDK5_N              762 non-null    float64\n",
            " 48  S6_N                762 non-null    float64\n",
            " 49  ADARB1_N            762 non-null    float64\n",
            " 50  AcetylH3K9_N        762 non-null    float64\n",
            " 51  RRP1_N              762 non-null    float64\n",
            " 52  BAX_N               762 non-null    float64\n",
            " 53  ARC_N               762 non-null    float64\n",
            " 54  ERBB4_N             762 non-null    float64\n",
            " 55  nNOS_N              762 non-null    float64\n",
            " 56  Tau_N               762 non-null    float64\n",
            " 57  GFAP_N              762 non-null    float64\n",
            " 58  GluR3_N             762 non-null    float64\n",
            " 59  GluR4_N             762 non-null    float64\n",
            " 60  IL1B_N              762 non-null    float64\n",
            " 61  P3525_N             762 non-null    float64\n",
            " 62  pCASP9_N            762 non-null    float64\n",
            " 63  PSD95_N             762 non-null    float64\n",
            " 64  SNCA_N              762 non-null    float64\n",
            " 65  Ubiquitin_N         762 non-null    float64\n",
            " 66  pGSK3B_Tyr216_N     762 non-null    float64\n",
            " 67  SHH_N               762 non-null    float64\n",
            " 68  BAD_N               582 non-null    float64\n",
            " 69  BCL2_N              567 non-null    float64\n",
            " 70  pS6_N               762 non-null    float64\n",
            " 71  pCFOS_N             702 non-null    float64\n",
            " 72  SYP_N               762 non-null    float64\n",
            " 73  H3AcK18_N           612 non-null    float64\n",
            " 74  EGR1_N              582 non-null    float64\n",
            " 75  H3MeK4_N            582 non-null    float64\n",
            " 76  CaNA_N              762 non-null    float64\n",
            " 77  Genotype            762 non-null    object \n",
            " 78  Treatment_Behavior  762 non-null    object \n",
            "dtypes: float64(77), object(2)\n",
            "memory usage: 470.4+ KB\n"
          ]
        }
      ],
      "source": [
        "df = pd.read_csv('https://www.ee.iitb.ac.in/~asethi/Dump/MouseTrain.csv')\n",
        "df.info()"
      ]
    },
    {
      "cell_type": "markdown",
      "id": "TSYFvaIzHz8V",
      "metadata": {
        "id": "TSYFvaIzHz8V"
      },
      "source": [
        "##Are the classes balanced?"
      ]
    },
    {
      "cell_type": "code",
      "execution_count": null,
      "id": "a068c161",
      "metadata": {
        "colab": {
          "base_uri": "https://localhost:8080/",
          "height": 296
        },
        "id": "a068c161",
        "outputId": "ce48dc0d-6b13-46a3-db14-c185542e8676",
        "scrolled": true
      },
      "outputs": [
        {
          "output_type": "execute_result",
          "data": {
            "text/plain": [
              "<matplotlib.axes._subplots.AxesSubplot at 0x7fcdc40b1550>"
            ]
          },
          "metadata": {},
          "execution_count": 3
        },
        {
          "output_type": "display_data",
          "data": {
            "text/plain": [
              "<Figure size 432x288 with 1 Axes>"
            ],
            "image/png": "[encoded data removed]"
          },
          "metadata": {
            "needs_background": "light"
          }
        }
      ],
      "source": [
        "sns.countplot(x='Genotype',data=df)"
      ]
    },
    {
      "cell_type": "code",
      "execution_count": null,
      "id": "FruH6Q5FWksI",
      "metadata": {
        "colab": {
          "base_uri": "https://localhost:8080/"
        },
        "id": "FruH6Q5FWksI",
        "outputId": "5097be36-010b-46c9-da1d-677bf8903ef4"
      },
      "outputs": [
        {
          "output_type": "stream",
          "name": "stdout",
          "text": [
            "Control    57.086614\n",
            "Ts65Dn     42.913386\n",
            "Name: Genotype, dtype: float64\n",
            "We can observe that the classes are balanced in training set\n"
          ]
        }
      ],
      "source": [
        "n  = df['Genotype'].value_counts(normalize=True)\n",
        "print(n*100)\n",
        "print('We can observe that the classes are balanced in training set')\n",
        "#https://www.kaggle.com/getting-started/100018 this article talks about criteria to decide classes are balanced or not and suggests 60:40 to consider balanced"
      ]
    },
    {
      "cell_type": "code",
      "execution_count": null,
      "id": "96c0a056",
      "metadata": {
        "colab": {
          "base_uri": "https://localhost:8080/",
          "height": 298
        },
        "id": "96c0a056",
        "outputId": "1bbf02af-72d3-4b71-8508-392aa1a92682"
      },
      "outputs": [
        {
          "output_type": "execute_result",
          "data": {
            "text/plain": [
              "<matplotlib.axes._subplots.AxesSubplot at 0x7fcdc3b83f90>"
            ]
          },
          "metadata": {},
          "execution_count": 5
        },
        {
          "output_type": "display_data",
          "data": {
            "text/plain": [
              "<Figure size 432x288 with 1 Axes>"
            ],
            "image/png": "[encoded data removed]"
          },
          "metadata": {
            "needs_background": "light"
          }
        }
      ],
      "source": [
        "sns.countplot(x='Treatment_Behavior',data=df)"
      ]
    },
    {
      "cell_type": "code",
      "execution_count": null,
      "id": "ntoIDNhuYr_4",
      "metadata": {
        "colab": {
          "base_uri": "https://localhost:8080/"
        },
        "id": "ntoIDNhuYr_4",
        "outputId": "5514b382-da1f-4fe2-fd87-12ee5bd138ad"
      },
      "outputs": [
        {
          "output_type": "stream",
          "name": "stdout",
          "text": [
            "Memantine_C/S    29.527559\n",
            "Memantine_S/C    29.527559\n",
            "Saline_C/S       23.622047\n",
            "Saline_S/C       17.322835\n",
            "Name: Treatment_Behavior, dtype: float64\n",
            "Data is well balanced for this class too.\n"
          ]
        }
      ],
      "source": [
        "m  = df['Treatment_Behavior'].value_counts(normalize=True)\n",
        "print(m*100)\n",
        "print('Data is well balanced for this class too.')"
      ]
    },
    {
      "cell_type": "markdown",
      "id": "gukZssJpH9uL",
      "metadata": {
        "id": "gukZssJpH9uL"
      },
      "source": [
        "##Exploratory data analysis"
      ]
    },
    {
      "cell_type": "code",
      "execution_count": null,
      "id": "37510fc6",
      "metadata": {
        "id": "37510fc6"
      },
      "outputs": [],
      "source": [
        "corr_matrix = np.abs(df.corr())  #Correlation matrix of data"
      ]
    },
    {
      "cell_type": "code",
      "execution_count": null,
      "id": "7f1ccbac",
      "metadata": {
        "colab": {
          "base_uri": "https://localhost:8080/",
          "height": 597
        },
        "id": "7f1ccbac",
        "outputId": "b262548b-de3d-46d6-d8d1-a5947cfa0106"
      },
      "outputs": [
        {
          "output_type": "execute_result",
          "data": {
            "text/plain": [
              "<matplotlib.axes._subplots.AxesSubplot at 0x7fcdc36bf5d0>"
            ]
          },
          "metadata": {},
          "execution_count": 8
        },
        {
          "output_type": "display_data",
          "data": {
            "text/plain": [
              "<Figure size 1080x576 with 2 Axes>"
            ],
            "image/png": "[encoded data removed]"
          },
          "metadata": {}
        }
      ],
      "source": [
        "sns.set(rc = {'figure.figsize':(15,8)})\n",
        "sns.heatmap(corr_matrix,cmap=\"YlGnBu\")\n",
        "##Due to high number of features heatmap seems messy we can't really get anything out of it\n",
        "##So to visualise Features Beyond a certain threshold only  we can try setting all other values to zero "
      ]
    },
    {
      "cell_type": "code",
      "execution_count": null,
      "id": "9fd87d5a",
      "metadata": {
        "colab": {
          "base_uri": "https://localhost:8080/",
          "height": 488
        },
        "id": "9fd87d5a",
        "outputId": "e8709efb-bd7f-4381-d802-17d7a096c3ec"
      },
      "outputs": [
        {
          "output_type": "execute_result",
          "data": {
            "text/plain": [
              "<matplotlib.axes._subplots.AxesSubplot at 0x7fcdc0cc16d0>"
            ]
          },
          "metadata": {},
          "execution_count": 9
        },
        {
          "output_type": "display_data",
          "data": {
            "text/plain": [
              "<Figure size 864x432 with 2 Axes>"
            ],
            "image/png": "[encoded data removed]"
          },
          "metadata": {}
        }
      ],
      "source": [
        "sns.set(rc = {'figure.figsize':(12,6)})\n",
        "sns.heatmap(np.abs(df.corr())[np.abs(df.corr())>0.8].fillna(value=0),cmap=\"YlGnBu\") \n",
        "#To visualise correlated features clearly\n",
        "#setting all values which are below a certain threshold to zero \n",
        "#we used this to quickly visualise how many features we will be lossing while setting a certain threshold\n",
        "\n",
        "# Ref : https://seaborn.pydata.org/generated/seaborn.heatmap.html \n",
        "#To understand heatmap and its application"
      ]
    },
    {
      "cell_type": "markdown",
      "id": "Y92Y8gfkIHiP",
      "metadata": {
        "id": "Y92Y8gfkIHiP"
      },
      "source": [
        "Filling Missing values"
      ]
    },
    {
      "cell_type": "code",
      "execution_count": null,
      "id": "f324f0dc",
      "metadata": {
        "id": "f324f0dc"
      },
      "outputs": [],
      "source": [
        "##we had tried with univariate imputation as well but We get better results with multivariate feature imputation\n",
        "from sklearn.experimental import enable_iterative_imputer \n",
        "from sklearn.impute import IterativeImputer\n",
        "imp = IterativeImputer(max_iter=10, random_state=0)\n",
        "imp.fit(df.drop(['Genotype','Treatment_Behavior'],axis = 1))  #fitting to iterative imputer\n",
        "df_trans = pd.DataFrame(imp.transform(df.drop(['Genotype','Treatment_Behavior'],axis = 1)))  #transforming and imputing the values \n",
        "\n",
        "#https://scikit-learn.org/stable/modules/impute.html \n",
        "#reading about iterative imputer"
      ]
    },
    {
      "cell_type": "code",
      "execution_count": null,
      "id": "0e817d60",
      "metadata": {
        "colab": {
          "base_uri": "https://localhost:8080/",
          "height": 299
        },
        "id": "0e817d60",
        "outputId": "19bb3455-ead7-4baf-eb5d-8ba35e8f98e2"
      },
      "outputs": [
        {
          "output_type": "execute_result",
          "data": {
            "text/plain": [
              "   DYRK1A_N   ITSN1_N    BDNF_N     NR1_N    NR2A_N    pAKT_N   pBRAF_N  \\\n",
              "0  0.503644  0.747193  0.430175  2.816329  5.990152  0.218830  0.177565   \n",
              "1  0.514617  0.689064  0.411770  2.789514  5.685038  0.211636  0.172817   \n",
              "2  0.509183  0.730247  0.418309  2.687201  5.622059  0.209011  0.175722   \n",
              "3  0.442107  0.617076  0.358626  2.466947  4.979503  0.222886  0.176463   \n",
              "4  0.434940  0.617430  0.358802  2.365785  4.718679  0.213106  0.173627   \n",
              "\n",
              "   pCAMKII_N   pCREB_N    pELK_N  ...    BCL2_N     pS6_N   pCFOS_N     SYP_N  \\\n",
              "0   2.373744  0.232224  1.750936  ...  0.107515  0.106305  0.108336  0.427099   \n",
              "1   2.292150  0.226972  1.596377  ...  0.109055  0.106592  0.104315  0.441581   \n",
              "2   2.283337  0.230247  1.561316  ...  0.108598  0.108303  0.106219  0.435777   \n",
              "3   2.152301  0.207004  1.595086  ...  0.118362  0.103184  0.111262  0.391691   \n",
              "4   2.134014  0.192158  1.504230  ...  0.118030  0.104784  0.110694  0.434154   \n",
              "\n",
              "   H3AcK18_N    EGR1_N  H3MeK4_N    CaNA_N  Genotype  Treatment_Behavior  \n",
              "0   0.114783  0.131790  0.128186  1.675652   Control       Memantine_C/S  \n",
              "1   0.111974  0.135103  0.131119  1.743610   Control       Memantine_C/S  \n",
              "2   0.111883  0.133362  0.127431  1.926427   Control       Memantine_C/S  \n",
              "3   0.130405  0.147444  0.146901  1.700563   Control       Memantine_C/S  \n",
              "4   0.118481  0.140314  0.148380  1.839730   Control       Memantine_C/S  \n",
              "\n",
              "[5 rows x 79 columns]"
            ],
            "text/html": [
              "\n",
              "  <div id=\"df-9c0bbc1e-bb16-4345-a7e8-2477702cfbee\">\n",
              "    <div class=\"colab-df-container\">\n",
              "      <div>\n",
              "<style scoped>\n",
              "    .dataframe tbody tr th:only-of-type {\n",
              "        vertical-align: middle;\n",
              "    }\n",
              "\n",
              "    .dataframe tbody tr th {\n",
              "        vertical-align: top;\n",
              "    }\n",
              "\n",
              "    .dataframe thead th {\n",
              "        text-align: right;\n",
              "    }\n",
              "</style>\n",
              "<table border=\"1\" class=\"dataframe\">\n",
              "  <thead>\n",
              "    <tr style=\"text-align: right;\">\n",
              "      <th></th>\n",
              "      <th>DYRK1A_N</th>\n",
              "      <th>ITSN1_N</th>\n",
              "      <th>BDNF_N</th>\n",
              "      <th>NR1_N</th>\n",
              "      <th>NR2A_N</th>\n",
              "      <th>pAKT_N</th>\n",
              "      <th>pBRAF_N</th>\n",
              "      <th>pCAMKII_N</th>\n",
              "      <th>pCREB_N</th>\n",
              "      <th>pELK_N</th>\n",
              "      <th>...</th>\n",
              "      <th>BCL2_N</th>\n",
              "      <th>pS6_N</th>\n",
              "      <th>pCFOS_N</th>\n",
              "      <th>SYP_N</th>\n",
              "      <th>H3AcK18_N</th>\n",
              "      <th>EGR1_N</th>\n",
              "      <th>H3MeK4_N</th>\n",
              "      <th>CaNA_N</th>\n",
              "      <th>Genotype</th>\n",
              "      <th>Treatment_Behavior</th>\n",
              "    </tr>\n",
              "  </thead>\n",
              "  <tbody>\n",
              "    <tr>\n",
              "      <th>0</th>\n",
              "      <td>0.503644</td>\n",
              "      <td>0.747193</td>\n",
              "      <td>0.430175</td>\n",
              "      <td>2.816329</td>\n",
              "      <td>5.990152</td>\n",
              "      <td>0.218830</td>\n",
              "      <td>0.177565</td>\n",
              "      <td>2.373744</td>\n",
              "      <td>0.232224</td>\n",
              "      <td>1.750936</td>\n",
              "      <td>...</td>\n",
              "      <td>0.107515</td>\n",
              "      <td>0.106305</td>\n",
              "      <td>0.108336</td>\n",
              "      <td>0.427099</td>\n",
              "      <td>0.114783</td>\n",
              "      <td>0.131790</td>\n",
              "      <td>0.128186</td>\n",
              "      <td>1.675652</td>\n",
              "      <td>Control</td>\n",
              "      <td>Memantine_C/S</td>\n",
              "    </tr>\n",
              "    <tr>\n",
              "      <th>1</th>\n",
              "      <td>0.514617</td>\n",
              "      <td>0.689064</td>\n",
              "      <td>0.411770</td>\n",
              "      <td>2.789514</td>\n",
              "      <td>5.685038</td>\n",
              "      <td>0.211636</td>\n",
              "      <td>0.172817</td>\n",
              "      <td>2.292150</td>\n",
              "      <td>0.226972</td>\n",
              "      <td>1.596377</td>\n",
              "      <td>...</td>\n",
              "      <td>0.109055</td>\n",
              "      <td>0.106592</td>\n",
              "      <td>0.104315</td>\n",
              "      <td>0.441581</td>\n",
              "      <td>0.111974</td>\n",
              "      <td>0.135103</td>\n",
              "      <td>0.131119</td>\n",
              "      <td>1.743610</td>\n",
              "      <td>Control</td>\n",
              "      <td>Memantine_C/S</td>\n",
              "    </tr>\n",
              "    <tr>\n",
              "      <th>2</th>\n",
              "      <td>0.509183</td>\n",
              "      <td>0.730247</td>\n",
              "      <td>0.418309</td>\n",
              "      <td>2.687201</td>\n",
              "      <td>5.622059</td>\n",
              "      <td>0.209011</td>\n",
              "      <td>0.175722</td>\n",
              "      <td>2.283337</td>\n",
              "      <td>0.230247</td>\n",
              "      <td>1.561316</td>\n",
              "      <td>...</td>\n",
              "      <td>0.108598</td>\n",
              "      <td>0.108303</td>\n",
              "      <td>0.106219</td>\n",
              "      <td>0.435777</td>\n",
              "      <td>0.111883</td>\n",
              "      <td>0.133362</td>\n",
              "      <td>0.127431</td>\n",
              "      <td>1.926427</td>\n",
              "      <td>Control</td>\n",
              "      <td>Memantine_C/S</td>\n",
              "    </tr>\n",
              "    <tr>\n",
              "      <th>3</th>\n",
              "      <td>0.442107</td>\n",
              "      <td>0.617076</td>\n",
              "      <td>0.358626</td>\n",
              "      <td>2.466947</td>\n",
              "      <td>4.979503</td>\n",
              "      <td>0.222886</td>\n",
              "      <td>0.176463</td>\n",
              "      <td>2.152301</td>\n",
              "      <td>0.207004</td>\n",
              "      <td>1.595086</td>\n",
              "      <td>...</td>\n",
              "      <td>0.118362</td>\n",
              "      <td>0.103184</td>\n",
              "      <td>0.111262</td>\n",
              "      <td>0.391691</td>\n",
              "      <td>0.130405</td>\n",
              "      <td>0.147444</td>\n",
              "      <td>0.146901</td>\n",
              "      <td>1.700563</td>\n",
              "      <td>Control</td>\n",
              "      <td>Memantine_C/S</td>\n",
              "    </tr>\n",
              "    <tr>\n",
              "      <th>4</th>\n",
              "      <td>0.434940</td>\n",
              "      <td>0.617430</td>\n",
              "      <td>0.358802</td>\n",
              "      <td>2.365785</td>\n",
              "      <td>4.718679</td>\n",
              "      <td>0.213106</td>\n",
              "      <td>0.173627</td>\n",
              "      <td>2.134014</td>\n",
              "      <td>0.192158</td>\n",
              "      <td>1.504230</td>\n",
              "      <td>...</td>\n",
              "      <td>0.118030</td>\n",
              "      <td>0.104784</td>\n",
              "      <td>0.110694</td>\n",
              "      <td>0.434154</td>\n",
              "      <td>0.118481</td>\n",
              "      <td>0.140314</td>\n",
              "      <td>0.148380</td>\n",
              "      <td>1.839730</td>\n",
              "      <td>Control</td>\n",
              "      <td>Memantine_C/S</td>\n",
              "    </tr>\n",
              "  </tbody>\n",
              "</table>\n",
              "<p>5 rows × 79 columns</p>\n",
              "</div>\n",
              "      <button class=\"colab-df-convert\" onclick=\"convertToInteractive('df-9c0bbc1e-bb16-4345-a7e8-2477702cfbee')\"\n",
              "              title=\"Convert this dataframe to an interactive table.\"\n",
              "              style=\"display:none;\">\n",
              "        \n",
              "  <svg xmlns=\"http://www.w3.org/2000/svg\" height=\"24px\"viewBox=\"0 0 24 24\"\n",
              "       width=\"24px\">\n",
              "    <path d=\"M0 0h24v24H0V0z\" fill=\"none\"/>\n",
              "    <path d=\"M18.56 5.44l.94 2.06.94-2.06 2.06-.94-2.06-.94-.94-2.06-.94 2.06-2.06.94zm-11 1L8.5 8.5l.94-2.06 2.06-.94-2.06-.94L8.5 2.5l-.94 2.06-2.06.94zm10 10l.94 2.06.94-2.06 2.06-.94-2.06-.94-.94-2.06-.94 2.06-2.06.94z\"/><path d=\"M17.41 7.96l-1.37-1.37c-.4-.4-.92-.59-1.43-.59-.52 0-1.04.2-1.43.59L10.3 9.45l-7.72 7.72c-.78.78-.78 2.05 0 2.83L4 21.41c.39.39.9.59 1.41.59.51 0 1.02-.2 1.41-.59l7.78-7.78 2.81-2.81c.8-.78.8-2.07 0-2.86zM5.41 20L4 18.59l7.72-7.72 1.47 1.35L5.41 20z\"/>\n",
              "  </svg>\n",
              "      </button>\n",
              "      \n",
              "  <style>\n",
              "    .colab-df-container {\n",
              "      display:flex;\n",
              "      flex-wrap:wrap;\n",
              "      gap: 12px;\n",
              "    }\n",
              "\n",
              "    .colab-df-convert {\n",
              "      background-color: #E8F0FE;\n",
              "      border: none;\n",
              "      border-radius: 50%;\n",
              "      cursor: pointer;\n",
              "      display: none;\n",
              "      fill: #1967D2;\n",
              "      height: 32px;\n",
              "      padding: 0 0 0 0;\n",
              "      width: 32px;\n",
              "    }\n",
              "\n",
              "    .colab-df-convert:hover {\n",
              "      background-color: #E2EBFA;\n",
              "      box-shadow: 0px 1px 2px rgba(60, 64, 67, 0.3), 0px 1px 3px 1px rgba(60, 64, 67, 0.15);\n",
              "      fill: #174EA6;\n",
              "    }\n",
              "\n",
              "    [theme=dark] .colab-df-convert {\n",
              "      background-color: #3B4455;\n",
              "      fill: #D2E3FC;\n",
              "    }\n",
              "\n",
              "    [theme=dark] .colab-df-convert:hover {\n",
              "      background-color: #434B5C;\n",
              "      box-shadow: 0px 1px 3px 1px rgba(0, 0, 0, 0.15);\n",
              "      filter: drop-shadow(0px 1px 2px rgba(0, 0, 0, 0.3));\n",
              "      fill: #FFFFFF;\n",
              "    }\n",
              "  </style>\n",
              "\n",
              "      <script>\n",
              "        const buttonEl =\n",
              "          document.querySelector('#df-9c0bbc1e-bb16-4345-a7e8-2477702cfbee button.colab-df-convert');\n",
              "        buttonEl.style.display =\n",
              "          google.colab.kernel.accessAllowed ? 'block' : 'none';\n",
              "\n",
              "        async function convertToInteractive(key) {\n",
              "          const element = document.querySelector('#df-9c0bbc1e-bb16-4345-a7e8-2477702cfbee');\n",
              "          const dataTable =\n",
              "            await google.colab.kernel.invokeFunction('convertToInteractive',\n",
              "                                                     [key], {});\n",
              "          if (!dataTable) return;\n",
              "\n",
              "          const docLinkHtml = 'Like what you see? Visit the ' +\n",
              "            '<a target=\"_blank\" href=https://colab.research.google.com/notebooks/data_table.ipynb>data table notebook</a>'\n",
              "            + ' to learn more about interactive tables.';\n",
              "          element.innerHTML = '';\n",
              "          dataTable['output_type'] = 'display_data';\n",
              "          await google.colab.output.renderOutput(dataTable, element);\n",
              "          const docLink = document.createElement('div');\n",
              "          docLink.innerHTML = docLinkHtml;\n",
              "          element.appendChild(docLink);\n",
              "        }\n",
              "      </script>\n",
              "    </div>\n",
              "  </div>\n",
              "  "
            ]
          },
          "metadata": {},
          "execution_count": 11
        }
      ],
      "source": [
        "df_trans = pd.concat([df_trans , df[['Genotype','Treatment_Behavior']]],axis = 1) \n",
        "#contanation of last two columns and setting columns name\n",
        "df_trans.columns = df.columns\n",
        "df_trans.head()"
      ]
    },
    {
      "cell_type": "markdown",
      "id": "lDcfHql6ISzY",
      "metadata": {
        "id": "lDcfHql6ISzY"
      },
      "source": [
        "Correlation check and Feature elimination"
      ]
    },
    {
      "cell_type": "code",
      "execution_count": null,
      "id": "1898b773",
      "metadata": {
        "colab": {
          "base_uri": "https://localhost:8080/",
          "height": 299
        },
        "id": "1898b773",
        "outputId": "c21e7a6f-b63f-41e7-e014-7fbf5d7fd368",
        "scrolled": true
      },
      "outputs": [
        {
          "output_type": "execute_result",
          "data": {
            "text/plain": [
              "          DYRK1A_N   ITSN1_N    BDNF_N     NR1_N    NR2A_N    pAKT_N  \\\n",
              "DYRK1A_N       0.0  0.961321  0.407110  0.314795  0.340011  0.182126   \n",
              "ITSN1_N        0.0  0.000000  0.495102  0.428745  0.421034  0.149509   \n",
              "BDNF_N         0.0  0.000000  0.000000  0.817986  0.746004  0.241501   \n",
              "NR1_N          0.0  0.000000  0.000000  0.000000  0.866667  0.185322   \n",
              "NR2A_N         0.0  0.000000  0.000000  0.000000  0.000000  0.076446   \n",
              "\n",
              "           pBRAF_N  pCAMKII_N   pCREB_N    pELK_N  ...     SHH_N     BAD_N  \\\n",
              "DYRK1A_N  0.085401   0.158167  0.082463  0.811398  ...  0.223812  0.255974   \n",
              "ITSN1_N   0.068712   0.114789  0.200468  0.796880  ...  0.220720  0.341409   \n",
              "BDNF_N    0.332689   0.129602  0.569146  0.458951  ...  0.112984  0.241762   \n",
              "NR1_N     0.220929   0.253744  0.599846  0.399791  ...  0.100915  0.431328   \n",
              "NR2A_N    0.079740   0.223203  0.362348  0.387644  ...  0.237932  0.515386   \n",
              "\n",
              "            BCL2_N     pS6_N   pCFOS_N     SYP_N  H3AcK18_N    EGR1_N  \\\n",
              "DYRK1A_N  0.216103  0.358480  0.251624  0.035929   0.335634  0.318127   \n",
              "ITSN1_N   0.307867  0.299066  0.323878  0.039384   0.357801  0.404352   \n",
              "BDNF_N    0.170503  0.070504  0.261622  0.454025   0.284638  0.245891   \n",
              "NR1_N     0.329547  0.227674  0.354048  0.486483   0.339320  0.371601   \n",
              "NR2A_N    0.360714  0.215495  0.398397  0.377628   0.365133  0.404731   \n",
              "\n",
              "          H3MeK4_N    CaNA_N  \n",
              "DYRK1A_N  0.303629  0.457907  \n",
              "ITSN1_N   0.374469  0.495085  \n",
              "BDNF_N    0.316513  0.304098  \n",
              "NR1_N     0.416312  0.205033  \n",
              "NR2A_N    0.495630  0.185840  \n",
              "\n",
              "[5 rows x 77 columns]"
            ],
            "text/html": [
              "\n",
              "  <div id=\"df-13060c79-95aa-4f9c-9ebe-32217d0410a8\">\n",
              "    <div class=\"colab-df-container\">\n",
              "      <div>\n",
              "<style scoped>\n",
              "    .dataframe tbody tr th:only-of-type {\n",
              "        vertical-align: middle;\n",
              "    }\n",
              "\n",
              "    .dataframe tbody tr th {\n",
              "        vertical-align: top;\n",
              "    }\n",
              "\n",
              "    .dataframe thead th {\n",
              "        text-align: right;\n",
              "    }\n",
              "</style>\n",
              "<table border=\"1\" class=\"dataframe\">\n",
              "  <thead>\n",
              "    <tr style=\"text-align: right;\">\n",
              "      <th></th>\n",
              "      <th>DYRK1A_N</th>\n",
              "      <th>ITSN1_N</th>\n",
              "      <th>BDNF_N</th>\n",
              "      <th>NR1_N</th>\n",
              "      <th>NR2A_N</th>\n",
              "      <th>pAKT_N</th>\n",
              "      <th>pBRAF_N</th>\n",
              "      <th>pCAMKII_N</th>\n",
              "      <th>pCREB_N</th>\n",
              "      <th>pELK_N</th>\n",
              "      <th>...</th>\n",
              "      <th>SHH_N</th>\n",
              "      <th>BAD_N</th>\n",
              "      <th>BCL2_N</th>\n",
              "      <th>pS6_N</th>\n",
              "      <th>pCFOS_N</th>\n",
              "      <th>SYP_N</th>\n",
              "      <th>H3AcK18_N</th>\n",
              "      <th>EGR1_N</th>\n",
              "      <th>H3MeK4_N</th>\n",
              "      <th>CaNA_N</th>\n",
              "    </tr>\n",
              "  </thead>\n",
              "  <tbody>\n",
              "    <tr>\n",
              "      <th>DYRK1A_N</th>\n",
              "      <td>0.0</td>\n",
              "      <td>0.961321</td>\n",
              "      <td>0.407110</td>\n",
              "      <td>0.314795</td>\n",
              "      <td>0.340011</td>\n",
              "      <td>0.182126</td>\n",
              "      <td>0.085401</td>\n",
              "      <td>0.158167</td>\n",
              "      <td>0.082463</td>\n",
              "      <td>0.811398</td>\n",
              "      <td>...</td>\n",
              "      <td>0.223812</td>\n",
              "      <td>0.255974</td>\n",
              "      <td>0.216103</td>\n",
              "      <td>0.358480</td>\n",
              "      <td>0.251624</td>\n",
              "      <td>0.035929</td>\n",
              "      <td>0.335634</td>\n",
              "      <td>0.318127</td>\n",
              "      <td>0.303629</td>\n",
              "      <td>0.457907</td>\n",
              "    </tr>\n",
              "    <tr>\n",
              "      <th>ITSN1_N</th>\n",
              "      <td>0.0</td>\n",
              "      <td>0.000000</td>\n",
              "      <td>0.495102</td>\n",
              "      <td>0.428745</td>\n",
              "      <td>0.421034</td>\n",
              "      <td>0.149509</td>\n",
              "      <td>0.068712</td>\n",
              "      <td>0.114789</td>\n",
              "      <td>0.200468</td>\n",
              "      <td>0.796880</td>\n",
              "      <td>...</td>\n",
              "      <td>0.220720</td>\n",
              "      <td>0.341409</td>\n",
              "      <td>0.307867</td>\n",
              "      <td>0.299066</td>\n",
              "      <td>0.323878</td>\n",
              "      <td>0.039384</td>\n",
              "      <td>0.357801</td>\n",
              "      <td>0.404352</td>\n",
              "      <td>0.374469</td>\n",
              "      <td>0.495085</td>\n",
              "    </tr>\n",
              "    <tr>\n",
              "      <th>BDNF_N</th>\n",
              "      <td>0.0</td>\n",
              "      <td>0.000000</td>\n",
              "      <td>0.000000</td>\n",
              "      <td>0.817986</td>\n",
              "      <td>0.746004</td>\n",
              "      <td>0.241501</td>\n",
              "      <td>0.332689</td>\n",
              "      <td>0.129602</td>\n",
              "      <td>0.569146</td>\n",
              "      <td>0.458951</td>\n",
              "      <td>...</td>\n",
              "      <td>0.112984</td>\n",
              "      <td>0.241762</td>\n",
              "      <td>0.170503</td>\n",
              "      <td>0.070504</td>\n",
              "      <td>0.261622</td>\n",
              "      <td>0.454025</td>\n",
              "      <td>0.284638</td>\n",
              "      <td>0.245891</td>\n",
              "      <td>0.316513</td>\n",
              "      <td>0.304098</td>\n",
              "    </tr>\n",
              "    <tr>\n",
              "      <th>NR1_N</th>\n",
              "      <td>0.0</td>\n",
              "      <td>0.000000</td>\n",
              "      <td>0.000000</td>\n",
              "      <td>0.000000</td>\n",
              "      <td>0.866667</td>\n",
              "      <td>0.185322</td>\n",
              "      <td>0.220929</td>\n",
              "      <td>0.253744</td>\n",
              "      <td>0.599846</td>\n",
              "      <td>0.399791</td>\n",
              "      <td>...</td>\n",
              "      <td>0.100915</td>\n",
              "      <td>0.431328</td>\n",
              "      <td>0.329547</td>\n",
              "      <td>0.227674</td>\n",
              "      <td>0.354048</td>\n",
              "      <td>0.486483</td>\n",
              "      <td>0.339320</td>\n",
              "      <td>0.371601</td>\n",
              "      <td>0.416312</td>\n",
              "      <td>0.205033</td>\n",
              "    </tr>\n",
              "    <tr>\n",
              "      <th>NR2A_N</th>\n",
              "      <td>0.0</td>\n",
              "      <td>0.000000</td>\n",
              "      <td>0.000000</td>\n",
              "      <td>0.000000</td>\n",
              "      <td>0.000000</td>\n",
              "      <td>0.076446</td>\n",
              "      <td>0.079740</td>\n",
              "      <td>0.223203</td>\n",
              "      <td>0.362348</td>\n",
              "      <td>0.387644</td>\n",
              "      <td>...</td>\n",
              "      <td>0.237932</td>\n",
              "      <td>0.515386</td>\n",
              "      <td>0.360714</td>\n",
              "      <td>0.215495</td>\n",
              "      <td>0.398397</td>\n",
              "      <td>0.377628</td>\n",
              "      <td>0.365133</td>\n",
              "      <td>0.404731</td>\n",
              "      <td>0.495630</td>\n",
              "      <td>0.185840</td>\n",
              "    </tr>\n",
              "  </tbody>\n",
              "</table>\n",
              "<p>5 rows × 77 columns</p>\n",
              "</div>\n",
              "      <button class=\"colab-df-convert\" onclick=\"convertToInteractive('df-13060c79-95aa-4f9c-9ebe-32217d0410a8')\"\n",
              "              title=\"Convert this dataframe to an interactive table.\"\n",
              "              style=\"display:none;\">\n",
              "        \n",
              "  <svg xmlns=\"http://www.w3.org/2000/svg\" height=\"24px\"viewBox=\"0 0 24 24\"\n",
              "       width=\"24px\">\n",
              "    <path d=\"M0 0h24v24H0V0z\" fill=\"none\"/>\n",
              "    <path d=\"M18.56 5.44l.94 2.06.94-2.06 2.06-.94-2.06-.94-.94-2.06-.94 2.06-2.06.94zm-11 1L8.5 8.5l.94-2.06 2.06-.94-2.06-.94L8.5 2.5l-.94 2.06-2.06.94zm10 10l.94 2.06.94-2.06 2.06-.94-2.06-.94-.94-2.06-.94 2.06-2.06.94z\"/><path d=\"M17.41 7.96l-1.37-1.37c-.4-.4-.92-.59-1.43-.59-.52 0-1.04.2-1.43.59L10.3 9.45l-7.72 7.72c-.78.78-.78 2.05 0 2.83L4 21.41c.39.39.9.59 1.41.59.51 0 1.02-.2 1.41-.59l7.78-7.78 2.81-2.81c.8-.78.8-2.07 0-2.86zM5.41 20L4 18.59l7.72-7.72 1.47 1.35L5.41 20z\"/>\n",
              "  </svg>\n",
              "      </button>\n",
              "      \n",
              "  <style>\n",
              "    .colab-df-container {\n",
              "      display:flex;\n",
              "      flex-wrap:wrap;\n",
              "      gap: 12px;\n",
              "    }\n",
              "\n",
              "    .colab-df-convert {\n",
              "      background-color: #E8F0FE;\n",
              "      border: none;\n",
              "      border-radius: 50%;\n",
              "      cursor: pointer;\n",
              "      display: none;\n",
              "      fill: #1967D2;\n",
              "      height: 32px;\n",
              "      padding: 0 0 0 0;\n",
              "      width: 32px;\n",
              "    }\n",
              "\n",
              "    .colab-df-convert:hover {\n",
              "      background-color: #E2EBFA;\n",
              "      box-shadow: 0px 1px 2px rgba(60, 64, 67, 0.3), 0px 1px 3px 1px rgba(60, 64, 67, 0.15);\n",
              "      fill: #174EA6;\n",
              "    }\n",
              "\n",
              "    [theme=dark] .colab-df-convert {\n",
              "      background-color: #3B4455;\n",
              "      fill: #D2E3FC;\n",
              "    }\n",
              "\n",
              "    [theme=dark] .colab-df-convert:hover {\n",
              "      background-color: #434B5C;\n",
              "      box-shadow: 0px 1px 3px 1px rgba(0, 0, 0, 0.15);\n",
              "      filter: drop-shadow(0px 1px 2px rgba(0, 0, 0, 0.3));\n",
              "      fill: #FFFFFF;\n",
              "    }\n",
              "  </style>\n",
              "\n",
              "      <script>\n",
              "        const buttonEl =\n",
              "          document.querySelector('#df-13060c79-95aa-4f9c-9ebe-32217d0410a8 button.colab-df-convert');\n",
              "        buttonEl.style.display =\n",
              "          google.colab.kernel.accessAllowed ? 'block' : 'none';\n",
              "\n",
              "        async function convertToInteractive(key) {\n",
              "          const element = document.querySelector('#df-13060c79-95aa-4f9c-9ebe-32217d0410a8');\n",
              "          const dataTable =\n",
              "            await google.colab.kernel.invokeFunction('convertToInteractive',\n",
              "                                                     [key], {});\n",
              "          if (!dataTable) return;\n",
              "\n",
              "          const docLinkHtml = 'Like what you see? Visit the ' +\n",
              "            '<a target=\"_blank\" href=https://colab.research.google.com/notebooks/data_table.ipynb>data table notebook</a>'\n",
              "            + ' to learn more about interactive tables.';\n",
              "          element.innerHTML = '';\n",
              "          dataTable['output_type'] = 'display_data';\n",
              "          await google.colab.output.renderOutput(dataTable, element);\n",
              "          const docLink = document.createElement('div');\n",
              "          docLink.innerHTML = docLinkHtml;\n",
              "          element.appendChild(docLink);\n",
              "        }\n",
              "      </script>\n",
              "    </div>\n",
              "  </div>\n",
              "  "
            ]
          },
          "metadata": {},
          "execution_count": 12
        }
      ],
      "source": [
        "upper_triangle = pd.DataFrame(np.triu(np.abs(df_trans.corr()),k = 1),index = df_trans.columns[:-2],columns = df_trans.columns[:-2]) #transforming correlation matrix to upper triangle\n",
        "upper_triangle.head(5)\n",
        "\n",
        "#reference : https://stackoverflow.com/questions/29294983/how-to-calculate-correlation-between-all-columns-and-remove-highly-correlated-on\n",
        "#From the above reference we understood how we can extract upper triangle and than use it to get correlated features"
      ]
    },
    {
      "cell_type": "code",
      "execution_count": null,
      "id": "429b94a5",
      "metadata": {
        "id": "429b94a5"
      },
      "outputs": [],
      "source": [
        "\"\"\"Creating a function which perform t test on feature and return the t test score\"\"\"\n",
        "def t_test(df,X):\n",
        "    mean = df.groupby('Genotype')[X].mean()\n",
        "    std = df.groupby('Genotype')[X].std()\n",
        "    count = df['Genotype'].value_counts()\n",
        "    #at index 0 Control & @index 1 Ts65Dn\n",
        "    t_test = np.abs(mean[0]-mean[1]) / np.sqrt((std[0]**2 /count[0]) + (std[1]**2/count[1]))\n",
        "    return(t_test)"
      ]
    },
    {
      "cell_type": "code",
      "execution_count": null,
      "id": "2584e8e0",
      "metadata": {
        "colab": {
          "base_uri": "https://localhost:8080/"
        },
        "id": "2584e8e0",
        "outputId": "ef956a1a-263a-4734-de1f-886bad40909b"
      },
      "outputs": [
        {
          "output_type": "stream",
          "name": "stdout",
          "text": [
            "Features dropped finally : ['ITSN1_N', 'DYRK1A_N', 'pNR1_N', 'pNR2B_N', 'BRAF_N', 'NR1_N', 'pS6_N']\n"
          ]
        }
      ],
      "source": [
        "# performing T-test on correlated feature and than decide which one to drop\n",
        "threshold = 0.9\n",
        "FeatureCorrelated = [column for column in upper_triangle.columns if any(upper_triangle[column] > threshold)] #getting correlated column feature from triangle corr matrix\n",
        "correlated_feature = []   #to store pair of correlated features\n",
        "for feature in FeatureCorrelated:\n",
        "    correlated_feature.append((feature,upper_triangle[upper_triangle[feature]>threshold].index[0])) \n",
        "to_be_dropped = [] #to store the feature which will be dropped finally\n",
        "for feature in correlated_feature:\n",
        "    t_test1 = t_test(df,feature[0]) #performing t_test on one feature \n",
        "    t_test2 = t_test(df,feature[1]) #performing t_test on another feature\n",
        "    if (t_test2>t_test1) and (feature[1] not in to_be_dropped): #deciding which feature to drop based on t_test score, the one with higher T-test is preferred\n",
        "        to_be_dropped.append(feature[1])\n",
        "    else:\n",
        "        to_be_dropped.append(feature[0])       \n",
        "print('Features dropped finally :',to_be_dropped)\n",
        "df_trans.drop(to_be_dropped,axis = 1, inplace = True)\n",
        "#seven features were dropped based on threshold criteria of 0.9\n",
        "#https://www.analyticsvidhya.com/blog/2021/07/t-test-performing-hypothesis-testing-with-python/\n",
        "#the above mentioned article talks about t-test and how it can be used to compare features"
      ]
    },
    {
      "cell_type": "code",
      "execution_count": null,
      "id": "7642ad67",
      "metadata": {
        "colab": {
          "base_uri": "https://localhost:8080/",
          "height": 391
        },
        "id": "7642ad67",
        "outputId": "067e84bb-4fa9-4c6a-c08c-28086a404f1c"
      },
      "outputs": [
        {
          "output_type": "stream",
          "name": "stdout",
          "text": [
            "Visualising distribution of samples among classes for correlated features \n",
            "It can be seen in above graphs that difference between the means of two groups is more significant in feature \"ITSN1_N\" \n",
            "And based on that we choose to keep ITSN1_N and discard DYRK1A_N the same has been done for all correlated features\n"
          ]
        },
        {
          "output_type": "display_data",
          "data": {
            "text/plain": [
              "<Figure size 1080x360 with 2 Axes>"
            ],
            "image/png": "[encoded data removed]"
          },
          "metadata": {}
        }
      ],
      "source": [
        "print('Visualising distribution of samples among classes for correlated features ')\n",
        "fig, axes = plt.subplots(1, 2, figsize=(15, 5), sharey=True)\n",
        "sns.boxplot(ax = axes[0],x = 'Genotype' , y = 'ITSN1_N',data = df ) \n",
        "sns.boxplot(ax = axes[1],x = 'Genotype' , y = 'DYRK1A_N',data = df)\n",
        "print('It can be seen in above graphs that difference between the means of two groups is more significant in feature \"ITSN1_N\" \\nAnd based on that we choose to keep ITSN1_N and discard DYRK1A_N the same has been done for all correlated features')\n",
        "#Refernce : https://www.geeksforgeeks.org/box-plot-visualization-with-pandas-and-seaborn/\n"
      ]
    },
    {
      "cell_type": "code",
      "execution_count": null,
      "id": "248b1ad8",
      "metadata": {
        "colab": {
          "base_uri": "https://localhost:8080/",
          "height": 561
        },
        "id": "248b1ad8",
        "outputId": "a5a7aa8b-9b1f-4bda-c86c-23ea05dbf56c",
        "scrolled": true
      },
      "outputs": [
        {
          "output_type": "stream",
          "name": "stderr",
          "text": [
            "/usr/local/lib/python3.7/dist-packages/seaborn/distributions.py:2619: FutureWarning: `distplot` is a deprecated function and will be removed in a future version. Please adapt your code to use either `displot` (a figure-level function with similar flexibility) or `histplot` (an axes-level function for histograms).\n",
            "  warnings.warn(msg, FutureWarning)\n",
            "/usr/local/lib/python3.7/dist-packages/seaborn/distributions.py:2619: FutureWarning: `distplot` is a deprecated function and will be removed in a future version. Please adapt your code to use either `displot` (a figure-level function with similar flexibility) or `histplot` (an axes-level function for histograms).\n",
            "  warnings.warn(msg, FutureWarning)\n",
            "/usr/local/lib/python3.7/dist-packages/seaborn/distributions.py:1689: FutureWarning: The `vertical` parameter is deprecated and will be removed in a future version. Assign the data to the `y` variable instead.\n",
            "  warnings.warn(msg, FutureWarning)\n"
          ]
        },
        {
          "output_type": "display_data",
          "data": {
            "text/plain": [
              "<Figure size 432x432 with 3 Axes>"
            ],
            "image/png": "[encoded data removed]"
          },
          "metadata": {}
        }
      ],
      "source": [
        "#Visualising correlated features and there correlation\n",
        "sns.set(rc = {'figure.figsize':(15,8)})\n",
        "g = sns.JointGrid(x=\"ITSN1_N\", y=\"DYRK1A_N\", data=df)\n",
        "g = g.plot(sns.regplot, sns.distplot)\n",
        "\n",
        "#https://seaborn.pydata.org/generated/seaborn.jointplot.html  reference\n",
        "#Reference from sample code \n",
        "##underlying assumption that data points are normally distributed while calculating t-test is true this can be seen from distribution plots on margin"
      ]
    },
    {
      "cell_type": "code",
      "execution_count": null,
      "id": "e1e0b7f8",
      "metadata": {
        "colab": {
          "base_uri": "https://localhost:8080/",
          "height": 299
        },
        "id": "e1e0b7f8",
        "outputId": "1d1d51f0-913a-417e-f600-36e5d25bb25c"
      },
      "outputs": [
        {
          "output_type": "execute_result",
          "data": {
            "text/plain": [
              "     BDNF_N    NR2A_N    pAKT_N   pBRAF_N  pCAMKII_N   pCREB_N    pELK_N  \\\n",
              "0  0.430175  5.990152  0.218830  0.177565   2.373744  0.232224  1.750936   \n",
              "1  0.411770  5.685038  0.211636  0.172817   2.292150  0.226972  1.596377   \n",
              "2  0.418309  5.622059  0.209011  0.175722   2.283337  0.230247  1.561316   \n",
              "3  0.358626  4.979503  0.222886  0.176463   2.152301  0.207004  1.595086   \n",
              "4  0.358802  4.718679  0.213106  0.173627   2.134014  0.192158  1.504230   \n",
              "\n",
              "     pERK_N    pJNK_N    PKCA_N  ...     BAD_N    BCL2_N   pCFOS_N     SYP_N  \\\n",
              "0  0.687906  0.306382  0.402698  ...  0.122652  0.107515  0.108336  0.427099   \n",
              "1  0.695006  0.299051  0.385987  ...  0.116682  0.109055  0.104315  0.441581   \n",
              "2  0.677348  0.291276  0.381002  ...  0.118508  0.108598  0.106219  0.435777   \n",
              "3  0.583277  0.296729  0.377087  ...  0.132781  0.118362  0.111262  0.391691   \n",
              "4  0.550960  0.286961  0.363502  ...  0.129954  0.118030  0.110694  0.434154   \n",
              "\n",
              "   H3AcK18_N    EGR1_N  H3MeK4_N    CaNA_N  Genotype  Treatment_Behavior  \n",
              "0   0.114783  0.131790  0.128186  1.675652   Control       Memantine_C/S  \n",
              "1   0.111974  0.135103  0.131119  1.743610   Control       Memantine_C/S  \n",
              "2   0.111883  0.133362  0.127431  1.926427   Control       Memantine_C/S  \n",
              "3   0.130405  0.147444  0.146901  1.700563   Control       Memantine_C/S  \n",
              "4   0.118481  0.140314  0.148380  1.839730   Control       Memantine_C/S  \n",
              "\n",
              "[5 rows x 72 columns]"
            ],
            "text/html": [
              "\n",
              "  <div id=\"df-a5ad8dc2-3315-44de-a0fc-2cd0273e9365\">\n",
              "    <div class=\"colab-df-container\">\n",
              "      <div>\n",
              "<style scoped>\n",
              "    .dataframe tbody tr th:only-of-type {\n",
              "        vertical-align: middle;\n",
              "    }\n",
              "\n",
              "    .dataframe tbody tr th {\n",
              "        vertical-align: top;\n",
              "    }\n",
              "\n",
              "    .dataframe thead th {\n",
              "        text-align: right;\n",
              "    }\n",
              "</style>\n",
              "<table border=\"1\" class=\"dataframe\">\n",
              "  <thead>\n",
              "    <tr style=\"text-align: right;\">\n",
              "      <th></th>\n",
              "      <th>BDNF_N</th>\n",
              "      <th>NR2A_N</th>\n",
              "      <th>pAKT_N</th>\n",
              "      <th>pBRAF_N</th>\n",
              "      <th>pCAMKII_N</th>\n",
              "      <th>pCREB_N</th>\n",
              "      <th>pELK_N</th>\n",
              "      <th>pERK_N</th>\n",
              "      <th>pJNK_N</th>\n",
              "      <th>PKCA_N</th>\n",
              "      <th>...</th>\n",
              "      <th>BAD_N</th>\n",
              "      <th>BCL2_N</th>\n",
              "      <th>pCFOS_N</th>\n",
              "      <th>SYP_N</th>\n",
              "      <th>H3AcK18_N</th>\n",
              "      <th>EGR1_N</th>\n",
              "      <th>H3MeK4_N</th>\n",
              "      <th>CaNA_N</th>\n",
              "      <th>Genotype</th>\n",
              "      <th>Treatment_Behavior</th>\n",
              "    </tr>\n",
              "  </thead>\n",
              "  <tbody>\n",
              "    <tr>\n",
              "      <th>0</th>\n",
              "      <td>0.430175</td>\n",
              "      <td>5.990152</td>\n",
              "      <td>0.218830</td>\n",
              "      <td>0.177565</td>\n",
              "      <td>2.373744</td>\n",
              "      <td>0.232224</td>\n",
              "      <td>1.750936</td>\n",
              "      <td>0.687906</td>\n",
              "      <td>0.306382</td>\n",
              "      <td>0.402698</td>\n",
              "      <td>...</td>\n",
              "      <td>0.122652</td>\n",
              "      <td>0.107515</td>\n",
              "      <td>0.108336</td>\n",
              "      <td>0.427099</td>\n",
              "      <td>0.114783</td>\n",
              "      <td>0.131790</td>\n",
              "      <td>0.128186</td>\n",
              "      <td>1.675652</td>\n",
              "      <td>Control</td>\n",
              "      <td>Memantine_C/S</td>\n",
              "    </tr>\n",
              "    <tr>\n",
              "      <th>1</th>\n",
              "      <td>0.411770</td>\n",
              "      <td>5.685038</td>\n",
              "      <td>0.211636</td>\n",
              "      <td>0.172817</td>\n",
              "      <td>2.292150</td>\n",
              "      <td>0.226972</td>\n",
              "      <td>1.596377</td>\n",
              "      <td>0.695006</td>\n",
              "      <td>0.299051</td>\n",
              "      <td>0.385987</td>\n",
              "      <td>...</td>\n",
              "      <td>0.116682</td>\n",
              "      <td>0.109055</td>\n",
              "      <td>0.104315</td>\n",
              "      <td>0.441581</td>\n",
              "      <td>0.111974</td>\n",
              "      <td>0.135103</td>\n",
              "      <td>0.131119</td>\n",
              "      <td>1.743610</td>\n",
              "      <td>Control</td>\n",
              "      <td>Memantine_C/S</td>\n",
              "    </tr>\n",
              "    <tr>\n",
              "      <th>2</th>\n",
              "      <td>0.418309</td>\n",
              "      <td>5.622059</td>\n",
              "      <td>0.209011</td>\n",
              "      <td>0.175722</td>\n",
              "      <td>2.283337</td>\n",
              "      <td>0.230247</td>\n",
              "      <td>1.561316</td>\n",
              "      <td>0.677348</td>\n",
              "      <td>0.291276</td>\n",
              "      <td>0.381002</td>\n",
              "      <td>...</td>\n",
              "      <td>0.118508</td>\n",
              "      <td>0.108598</td>\n",
              "      <td>0.106219</td>\n",
              "      <td>0.435777</td>\n",
              "      <td>0.111883</td>\n",
              "      <td>0.133362</td>\n",
              "      <td>0.127431</td>\n",
              "      <td>1.926427</td>\n",
              "      <td>Control</td>\n",
              "      <td>Memantine_C/S</td>\n",
              "    </tr>\n",
              "    <tr>\n",
              "      <th>3</th>\n",
              "      <td>0.358626</td>\n",
              "      <td>4.979503</td>\n",
              "      <td>0.222886</td>\n",
              "      <td>0.176463</td>\n",
              "      <td>2.152301</td>\n",
              "      <td>0.207004</td>\n",
              "      <td>1.595086</td>\n",
              "      <td>0.583277</td>\n",
              "      <td>0.296729</td>\n",
              "      <td>0.377087</td>\n",
              "      <td>...</td>\n",
              "      <td>0.132781</td>\n",
              "      <td>0.118362</td>\n",
              "      <td>0.111262</td>\n",
              "      <td>0.391691</td>\n",
              "      <td>0.130405</td>\n",
              "      <td>0.147444</td>\n",
              "      <td>0.146901</td>\n",
              "      <td>1.700563</td>\n",
              "      <td>Control</td>\n",
              "      <td>Memantine_C/S</td>\n",
              "    </tr>\n",
              "    <tr>\n",
              "      <th>4</th>\n",
              "      <td>0.358802</td>\n",
              "      <td>4.718679</td>\n",
              "      <td>0.213106</td>\n",
              "      <td>0.173627</td>\n",
              "      <td>2.134014</td>\n",
              "      <td>0.192158</td>\n",
              "      <td>1.504230</td>\n",
              "      <td>0.550960</td>\n",
              "      <td>0.286961</td>\n",
              "      <td>0.363502</td>\n",
              "      <td>...</td>\n",
              "      <td>0.129954</td>\n",
              "      <td>0.118030</td>\n",
              "      <td>0.110694</td>\n",
              "      <td>0.434154</td>\n",
              "      <td>0.118481</td>\n",
              "      <td>0.140314</td>\n",
              "      <td>0.148380</td>\n",
              "      <td>1.839730</td>\n",
              "      <td>Control</td>\n",
              "      <td>Memantine_C/S</td>\n",
              "    </tr>\n",
              "  </tbody>\n",
              "</table>\n",
              "<p>5 rows × 72 columns</p>\n",
              "</div>\n",
              "      <button class=\"colab-df-convert\" onclick=\"convertToInteractive('df-a5ad8dc2-3315-44de-a0fc-2cd0273e9365')\"\n",
              "              title=\"Convert this dataframe to an interactive table.\"\n",
              "              style=\"display:none;\">\n",
              "        \n",
              "  <svg xmlns=\"http://www.w3.org/2000/svg\" height=\"24px\"viewBox=\"0 0 24 24\"\n",
              "       width=\"24px\">\n",
              "    <path d=\"M0 0h24v24H0V0z\" fill=\"none\"/>\n",
              "    <path d=\"M18.56 5.44l.94 2.06.94-2.06 2.06-.94-2.06-.94-.94-2.06-.94 2.06-2.06.94zm-11 1L8.5 8.5l.94-2.06 2.06-.94-2.06-.94L8.5 2.5l-.94 2.06-2.06.94zm10 10l.94 2.06.94-2.06 2.06-.94-2.06-.94-.94-2.06-.94 2.06-2.06.94z\"/><path d=\"M17.41 7.96l-1.37-1.37c-.4-.4-.92-.59-1.43-.59-.52 0-1.04.2-1.43.59L10.3 9.45l-7.72 7.72c-.78.78-.78 2.05 0 2.83L4 21.41c.39.39.9.59 1.41.59.51 0 1.02-.2 1.41-.59l7.78-7.78 2.81-2.81c.8-.78.8-2.07 0-2.86zM5.41 20L4 18.59l7.72-7.72 1.47 1.35L5.41 20z\"/>\n",
              "  </svg>\n",
              "      </button>\n",
              "      \n",
              "  <style>\n",
              "    .colab-df-container {\n",
              "      display:flex;\n",
              "      flex-wrap:wrap;\n",
              "      gap: 12px;\n",
              "    }\n",
              "\n",
              "    .colab-df-convert {\n",
              "      background-color: #E8F0FE;\n",
              "      border: none;\n",
              "      border-radius: 50%;\n",
              "      cursor: pointer;\n",
              "      display: none;\n",
              "      fill: #1967D2;\n",
              "      height: 32px;\n",
              "      padding: 0 0 0 0;\n",
              "      width: 32px;\n",
              "    }\n",
              "\n",
              "    .colab-df-convert:hover {\n",
              "      background-color: #E2EBFA;\n",
              "      box-shadow: 0px 1px 2px rgba(60, 64, 67, 0.3), 0px 1px 3px 1px rgba(60, 64, 67, 0.15);\n",
              "      fill: #174EA6;\n",
              "    }\n",
              "\n",
              "    [theme=dark] .colab-df-convert {\n",
              "      background-color: #3B4455;\n",
              "      fill: #D2E3FC;\n",
              "    }\n",
              "\n",
              "    [theme=dark] .colab-df-convert:hover {\n",
              "      background-color: #434B5C;\n",
              "      box-shadow: 0px 1px 3px 1px rgba(0, 0, 0, 0.15);\n",
              "      filter: drop-shadow(0px 1px 2px rgba(0, 0, 0, 0.3));\n",
              "      fill: #FFFFFF;\n",
              "    }\n",
              "  </style>\n",
              "\n",
              "      <script>\n",
              "        const buttonEl =\n",
              "          document.querySelector('#df-a5ad8dc2-3315-44de-a0fc-2cd0273e9365 button.colab-df-convert');\n",
              "        buttonEl.style.display =\n",
              "          google.colab.kernel.accessAllowed ? 'block' : 'none';\n",
              "\n",
              "        async function convertToInteractive(key) {\n",
              "          const element = document.querySelector('#df-a5ad8dc2-3315-44de-a0fc-2cd0273e9365');\n",
              "          const dataTable =\n",
              "            await google.colab.kernel.invokeFunction('convertToInteractive',\n",
              "                                                     [key], {});\n",
              "          if (!dataTable) return;\n",
              "\n",
              "          const docLinkHtml = 'Like what you see? Visit the ' +\n",
              "            '<a target=\"_blank\" href=https://colab.research.google.com/notebooks/data_table.ipynb>data table notebook</a>'\n",
              "            + ' to learn more about interactive tables.';\n",
              "          element.innerHTML = '';\n",
              "          dataTable['output_type'] = 'display_data';\n",
              "          await google.colab.output.renderOutput(dataTable, element);\n",
              "          const docLink = document.createElement('div');\n",
              "          docLink.innerHTML = docLinkHtml;\n",
              "          element.appendChild(docLink);\n",
              "        }\n",
              "      </script>\n",
              "    </div>\n",
              "  </div>\n",
              "  "
            ]
          },
          "metadata": {},
          "execution_count": 17
        }
      ],
      "source": [
        "df_trans.head(5)"
      ]
    },
    {
      "cell_type": "code",
      "execution_count": null,
      "id": "f56f16ee",
      "metadata": {
        "id": "f56f16ee"
      },
      "outputs": [],
      "source": [
        "X_train, y1_train,y2_train = df_trans.drop(['Genotype', 'Treatment_Behavior'],axis = 1), df_trans['Genotype'],df_trans['Treatment_Behavior']  #here i have done one hot bit encoding of target variable also"
      ]
    },
    {
      "cell_type": "code",
      "execution_count": null,
      "id": "5dDcK1zqcDAF",
      "metadata": {
        "colab": {
          "base_uri": "https://localhost:8080/",
          "height": 299
        },
        "id": "5dDcK1zqcDAF",
        "outputId": "25958e95-1a43-4df1-e514-e7fbd047e709"
      },
      "outputs": [
        {
          "output_type": "execute_result",
          "data": {
            "text/plain": [
              "     BDNF_N    NR2A_N    pAKT_N   pBRAF_N  pCAMKII_N   pCREB_N    pELK_N  \\\n",
              "0  0.430175  5.990152  0.218830  0.177565   2.373744  0.232224  1.750936   \n",
              "1  0.411770  5.685038  0.211636  0.172817   2.292150  0.226972  1.596377   \n",
              "2  0.418309  5.622059  0.209011  0.175722   2.283337  0.230247  1.561316   \n",
              "3  0.358626  4.979503  0.222886  0.176463   2.152301  0.207004  1.595086   \n",
              "4  0.358802  4.718679  0.213106  0.173627   2.134014  0.192158  1.504230   \n",
              "\n",
              "     pERK_N    pJNK_N    PKCA_N  ...  pGSK3B_Tyr216_N     SHH_N     BAD_N  \\\n",
              "0  0.687906  0.306382  0.402698  ...         0.831557  0.188852  0.122652   \n",
              "1  0.695006  0.299051  0.385987  ...         0.849270  0.200404  0.116682   \n",
              "2  0.677348  0.291276  0.381002  ...         0.846709  0.193685  0.118508   \n",
              "3  0.583277  0.296729  0.377087  ...         0.833277  0.192112  0.132781   \n",
              "4  0.550960  0.286961  0.363502  ...         0.878668  0.205604  0.129954   \n",
              "\n",
              "     BCL2_N   pCFOS_N     SYP_N  H3AcK18_N    EGR1_N  H3MeK4_N    CaNA_N  \n",
              "0  0.107515  0.108336  0.427099   0.114783  0.131790  0.128186  1.675652  \n",
              "1  0.109055  0.104315  0.441581   0.111974  0.135103  0.131119  1.743610  \n",
              "2  0.108598  0.106219  0.435777   0.111883  0.133362  0.127431  1.926427  \n",
              "3  0.118362  0.111262  0.391691   0.130405  0.147444  0.146901  1.700563  \n",
              "4  0.118030  0.110694  0.434154   0.118481  0.140314  0.148380  1.839730  \n",
              "\n",
              "[5 rows x 70 columns]"
            ],
            "text/html": [
              "\n",
              "  <div id=\"df-902384f0-6d4f-4d86-b964-3906e4698279\">\n",
              "    <div class=\"colab-df-container\">\n",
              "      <div>\n",
              "<style scoped>\n",
              "    .dataframe tbody tr th:only-of-type {\n",
              "        vertical-align: middle;\n",
              "    }\n",
              "\n",
              "    .dataframe tbody tr th {\n",
              "        vertical-align: top;\n",
              "    }\n",
              "\n",
              "    .dataframe thead th {\n",
              "        text-align: right;\n",
              "    }\n",
              "</style>\n",
              "<table border=\"1\" class=\"dataframe\">\n",
              "  <thead>\n",
              "    <tr style=\"text-align: right;\">\n",
              "      <th></th>\n",
              "      <th>BDNF_N</th>\n",
              "      <th>NR2A_N</th>\n",
              "      <th>pAKT_N</th>\n",
              "      <th>pBRAF_N</th>\n",
              "      <th>pCAMKII_N</th>\n",
              "      <th>pCREB_N</th>\n",
              "      <th>pELK_N</th>\n",
              "      <th>pERK_N</th>\n",
              "      <th>pJNK_N</th>\n",
              "      <th>PKCA_N</th>\n",
              "      <th>...</th>\n",
              "      <th>pGSK3B_Tyr216_N</th>\n",
              "      <th>SHH_N</th>\n",
              "      <th>BAD_N</th>\n",
              "      <th>BCL2_N</th>\n",
              "      <th>pCFOS_N</th>\n",
              "      <th>SYP_N</th>\n",
              "      <th>H3AcK18_N</th>\n",
              "      <th>EGR1_N</th>\n",
              "      <th>H3MeK4_N</th>\n",
              "      <th>CaNA_N</th>\n",
              "    </tr>\n",
              "  </thead>\n",
              "  <tbody>\n",
              "    <tr>\n",
              "      <th>0</th>\n",
              "      <td>0.430175</td>\n",
              "      <td>5.990152</td>\n",
              "      <td>0.218830</td>\n",
              "      <td>0.177565</td>\n",
              "      <td>2.373744</td>\n",
              "      <td>0.232224</td>\n",
              "      <td>1.750936</td>\n",
              "      <td>0.687906</td>\n",
              "      <td>0.306382</td>\n",
              "      <td>0.402698</td>\n",
              "      <td>...</td>\n",
              "      <td>0.831557</td>\n",
              "      <td>0.188852</td>\n",
              "      <td>0.122652</td>\n",
              "      <td>0.107515</td>\n",
              "      <td>0.108336</td>\n",
              "      <td>0.427099</td>\n",
              "      <td>0.114783</td>\n",
              "      <td>0.131790</td>\n",
              "      <td>0.128186</td>\n",
              "      <td>1.675652</td>\n",
              "    </tr>\n",
              "    <tr>\n",
              "      <th>1</th>\n",
              "      <td>0.411770</td>\n",
              "      <td>5.685038</td>\n",
              "      <td>0.211636</td>\n",
              "      <td>0.172817</td>\n",
              "      <td>2.292150</td>\n",
              "      <td>0.226972</td>\n",
              "      <td>1.596377</td>\n",
              "      <td>0.695006</td>\n",
              "      <td>0.299051</td>\n",
              "      <td>0.385987</td>\n",
              "      <td>...</td>\n",
              "      <td>0.849270</td>\n",
              "      <td>0.200404</td>\n",
              "      <td>0.116682</td>\n",
              "      <td>0.109055</td>\n",
              "      <td>0.104315</td>\n",
              "      <td>0.441581</td>\n",
              "      <td>0.111974</td>\n",
              "      <td>0.135103</td>\n",
              "      <td>0.131119</td>\n",
              "      <td>1.743610</td>\n",
              "    </tr>\n",
              "    <tr>\n",
              "      <th>2</th>\n",
              "      <td>0.418309</td>\n",
              "      <td>5.622059</td>\n",
              "      <td>0.209011</td>\n",
              "      <td>0.175722</td>\n",
              "      <td>2.283337</td>\n",
              "      <td>0.230247</td>\n",
              "      <td>1.561316</td>\n",
              "      <td>0.677348</td>\n",
              "      <td>0.291276</td>\n",
              "      <td>0.381002</td>\n",
              "      <td>...</td>\n",
              "      <td>0.846709</td>\n",
              "      <td>0.193685</td>\n",
              "      <td>0.118508</td>\n",
              "      <td>0.108598</td>\n",
              "      <td>0.106219</td>\n",
              "      <td>0.435777</td>\n",
              "      <td>0.111883</td>\n",
              "      <td>0.133362</td>\n",
              "      <td>0.127431</td>\n",
              "      <td>1.926427</td>\n",
              "    </tr>\n",
              "    <tr>\n",
              "      <th>3</th>\n",
              "      <td>0.358626</td>\n",
              "      <td>4.979503</td>\n",
              "      <td>0.222886</td>\n",
              "      <td>0.176463</td>\n",
              "      <td>2.152301</td>\n",
              "      <td>0.207004</td>\n",
              "      <td>1.595086</td>\n",
              "      <td>0.583277</td>\n",
              "      <td>0.296729</td>\n",
              "      <td>0.377087</td>\n",
              "      <td>...</td>\n",
              "      <td>0.833277</td>\n",
              "      <td>0.192112</td>\n",
              "      <td>0.132781</td>\n",
              "      <td>0.118362</td>\n",
              "      <td>0.111262</td>\n",
              "      <td>0.391691</td>\n",
              "      <td>0.130405</td>\n",
              "      <td>0.147444</td>\n",
              "      <td>0.146901</td>\n",
              "      <td>1.700563</td>\n",
              "    </tr>\n",
              "    <tr>\n",
              "      <th>4</th>\n",
              "      <td>0.358802</td>\n",
              "      <td>4.718679</td>\n",
              "      <td>0.213106</td>\n",
              "      <td>0.173627</td>\n",
              "      <td>2.134014</td>\n",
              "      <td>0.192158</td>\n",
              "      <td>1.504230</td>\n",
              "      <td>0.550960</td>\n",
              "      <td>0.286961</td>\n",
              "      <td>0.363502</td>\n",
              "      <td>...</td>\n",
              "      <td>0.878668</td>\n",
              "      <td>0.205604</td>\n",
              "      <td>0.129954</td>\n",
              "      <td>0.118030</td>\n",
              "      <td>0.110694</td>\n",
              "      <td>0.434154</td>\n",
              "      <td>0.118481</td>\n",
              "      <td>0.140314</td>\n",
              "      <td>0.148380</td>\n",
              "      <td>1.839730</td>\n",
              "    </tr>\n",
              "  </tbody>\n",
              "</table>\n",
              "<p>5 rows × 70 columns</p>\n",
              "</div>\n",
              "      <button class=\"colab-df-convert\" onclick=\"convertToInteractive('df-902384f0-6d4f-4d86-b964-3906e4698279')\"\n",
              "              title=\"Convert this dataframe to an interactive table.\"\n",
              "              style=\"display:none;\">\n",
              "        \n",
              "  <svg xmlns=\"http://www.w3.org/2000/svg\" height=\"24px\"viewBox=\"0 0 24 24\"\n",
              "       width=\"24px\">\n",
              "    <path d=\"M0 0h24v24H0V0z\" fill=\"none\"/>\n",
              "    <path d=\"M18.56 5.44l.94 2.06.94-2.06 2.06-.94-2.06-.94-.94-2.06-.94 2.06-2.06.94zm-11 1L8.5 8.5l.94-2.06 2.06-.94-2.06-.94L8.5 2.5l-.94 2.06-2.06.94zm10 10l.94 2.06.94-2.06 2.06-.94-2.06-.94-.94-2.06-.94 2.06-2.06.94z\"/><path d=\"M17.41 7.96l-1.37-1.37c-.4-.4-.92-.59-1.43-.59-.52 0-1.04.2-1.43.59L10.3 9.45l-7.72 7.72c-.78.78-.78 2.05 0 2.83L4 21.41c.39.39.9.59 1.41.59.51 0 1.02-.2 1.41-.59l7.78-7.78 2.81-2.81c.8-.78.8-2.07 0-2.86zM5.41 20L4 18.59l7.72-7.72 1.47 1.35L5.41 20z\"/>\n",
              "  </svg>\n",
              "      </button>\n",
              "      \n",
              "  <style>\n",
              "    .colab-df-container {\n",
              "      display:flex;\n",
              "      flex-wrap:wrap;\n",
              "      gap: 12px;\n",
              "    }\n",
              "\n",
              "    .colab-df-convert {\n",
              "      background-color: #E8F0FE;\n",
              "      border: none;\n",
              "      border-radius: 50%;\n",
              "      cursor: pointer;\n",
              "      display: none;\n",
              "      fill: #1967D2;\n",
              "      height: 32px;\n",
              "      padding: 0 0 0 0;\n",
              "      width: 32px;\n",
              "    }\n",
              "\n",
              "    .colab-df-convert:hover {\n",
              "      background-color: #E2EBFA;\n",
              "      box-shadow: 0px 1px 2px rgba(60, 64, 67, 0.3), 0px 1px 3px 1px rgba(60, 64, 67, 0.15);\n",
              "      fill: #174EA6;\n",
              "    }\n",
              "\n",
              "    [theme=dark] .colab-df-convert {\n",
              "      background-color: #3B4455;\n",
              "      fill: #D2E3FC;\n",
              "    }\n",
              "\n",
              "    [theme=dark] .colab-df-convert:hover {\n",
              "      background-color: #434B5C;\n",
              "      box-shadow: 0px 1px 3px 1px rgba(0, 0, 0, 0.15);\n",
              "      filter: drop-shadow(0px 1px 2px rgba(0, 0, 0, 0.3));\n",
              "      fill: #FFFFFF;\n",
              "    }\n",
              "  </style>\n",
              "\n",
              "      <script>\n",
              "        const buttonEl =\n",
              "          document.querySelector('#df-902384f0-6d4f-4d86-b964-3906e4698279 button.colab-df-convert');\n",
              "        buttonEl.style.display =\n",
              "          google.colab.kernel.accessAllowed ? 'block' : 'none';\n",
              "\n",
              "        async function convertToInteractive(key) {\n",
              "          const element = document.querySelector('#df-902384f0-6d4f-4d86-b964-3906e4698279');\n",
              "          const dataTable =\n",
              "            await google.colab.kernel.invokeFunction('convertToInteractive',\n",
              "                                                     [key], {});\n",
              "          if (!dataTable) return;\n",
              "\n",
              "          const docLinkHtml = 'Like what you see? Visit the ' +\n",
              "            '<a target=\"_blank\" href=https://colab.research.google.com/notebooks/data_table.ipynb>data table notebook</a>'\n",
              "            + ' to learn more about interactive tables.';\n",
              "          element.innerHTML = '';\n",
              "          dataTable['output_type'] = 'display_data';\n",
              "          await google.colab.output.renderOutput(dataTable, element);\n",
              "          const docLink = document.createElement('div');\n",
              "          docLink.innerHTML = docLinkHtml;\n",
              "          element.appendChild(docLink);\n",
              "        }\n",
              "      </script>\n",
              "    </div>\n",
              "  </div>\n",
              "  "
            ]
          },
          "metadata": {},
          "execution_count": 19
        }
      ],
      "source": [
        "X_train.head()"
      ]
    },
    {
      "cell_type": "markdown",
      "id": "R3r8DrtBdxYq",
      "metadata": {
        "id": "R3r8DrtBdxYq"
      },
      "source": [
        "##Performance Metrics "
      ]
    },
    {
      "cell_type": "markdown",
      "id": "6Ysv3ZLxeUxM",
      "metadata": {
        "id": "6Ysv3ZLxeUxM"
      },
      "source": [
        "We will use accuracy, F1 score, balanced accuracy, AUC\n",
        "As classes seemed to be well balanced \n",
        "\n",
        "*   Accuracy\n",
        "*   Precision \n",
        "\n",
        "*   Recall\n",
        "*   F1 Score\n",
        "\n",
        "\n",
        "*   AUC ROC metric\n",
        "\n",
        "\n",
        "And to get all this, We will use confusion metric and classification metric"
      ]
    },
    {
      "cell_type": "code",
      "execution_count": null,
      "id": "x5U6J2fzs78n",
      "metadata": {
        "id": "x5U6J2fzs78n"
      },
      "outputs": [],
      "source": [
        "from sklearn.metrics import classification_report,confusion_matrix\n",
        "from sklearn.metrics import roc_auc_score\n",
        "from sklearn.metrics import accuracy_score\n",
        "from sklearn.metrics import f1_score\n",
        "#artical on multiclass performace metric https://www.datascienceblog.net/post/machine-learning/performance-measures-multi-class-problems/"
      ]
    },
    {
      "cell_type": "markdown",
      "id": "cUUkrV0VHKys",
      "metadata": {
        "id": "cUUkrV0VHKys"
      },
      "source": [
        "##Binary Classification Models"
      ]
    },
    {
      "cell_type": "markdown",
      "id": "97bb174f",
      "metadata": {
        "id": "97bb174f"
      },
      "source": [
        "Elastic Net Logistics Regression"
      ]
    },
    {
      "cell_type": "code",
      "execution_count": null,
      "id": "bd5db329",
      "metadata": {
        "colab": {
          "base_uri": "https://localhost:8080/"
        },
        "id": "bd5db329",
        "outputId": "e44db305-bcf9-430a-f931-fe82866d7767"
      },
      "outputs": [
        {
          "output_type": "stream",
          "name": "stdout",
          "text": [
            "Fitting 5 folds for each of 33 candidates, totalling 165 fits\n"
          ]
        },
        {
          "output_type": "execute_result",
          "data": {
            "text/plain": [
              "GridSearchCV(cv=5,\n",
              "             estimator=LogisticRegression(max_iter=1500, penalty='elasticnet',\n",
              "                                          solver='saga'),\n",
              "             param_grid={'C': (0.01, 1, 10),\n",
              "                         'l1_ratio': array([0. , 0.1, 0.2, 0.3, 0.4, 0.5, 0.6, 0.7, 0.8, 0.9, 1. ])},\n",
              "             scoring='accuracy', verbose=1)"
            ]
          },
          "metadata": {},
          "execution_count": 21
        }
      ],
      "source": [
        "import warnings   #to hide convergence warning while fitting model \n",
        "warnings.filterwarnings('ignore')\n",
        "from sklearn.model_selection import GridSearchCV\n",
        "from sklearn.linear_model import LogisticRegression\n",
        "params = {'C': (0.01,1,10),               #making dictionary of parameters for grid search\n",
        "         'l1_ratio': np.arange(0,1.1,0.1)}\n",
        "gs_ElasticNet = GridSearchCV(LogisticRegression(penalty= 'elasticnet',max_iter=1500,solver = 'saga'),   #running a grid search to find best set of parameters with 5 fold cross validation\n",
        "                      param_grid=params, \n",
        "                      scoring='accuracy', #the performance parameter used here is accuracy\n",
        "                      cv=5, verbose = 1) \n",
        "gs_ElasticNet.fit(X_train, y1_train)\n",
        "# https://scikit-learn.org/stable/modules/generated/sklearn.linear_model.ElasticNet.html"
      ]
    },
    {
      "cell_type": "code",
      "execution_count": null,
      "id": "40bc3d0c",
      "metadata": {
        "colab": {
          "base_uri": "https://localhost:8080/"
        },
        "id": "40bc3d0c",
        "outputId": "8ec98f80-f0d0-47ff-a917-8311052299a9"
      },
      "outputs": [
        {
          "output_type": "stream",
          "name": "stdout",
          "text": [
            "L1_penalty 1.0\n",
            "L2_penalty 0.0\n",
            "Best score(accuracy): 0.7702614379084968\n",
            "BestParameter {'C': 1, 'l1_ratio': 1.0}\n"
          ]
        }
      ],
      "source": [
        "b = gs_ElasticNet.best_params_\n",
        "L1_penalty = b['l1_ratio']*(1/(b['C']))\n",
        "print('L1_penalty',L1_penalty)\n",
        "L2_penalty = (1-b['l1_ratio'])*(1/b['C'])\n",
        "print('L2_penalty',L2_penalty)\n",
        "print('Best score(accuracy):' , gs_ElasticNet.best_score_)\n",
        "print('BestParameter',gs_ElasticNet.best_params_)"
      ]
    },
    {
      "cell_type": "markdown",
      "id": "ce2ee44d",
      "metadata": {
        "id": "ce2ee44d"
      },
      "source": [
        "Neural Net"
      ]
    },
    {
      "cell_type": "code",
      "execution_count": null,
      "id": "d76b11fa",
      "metadata": {
        "colab": {
          "base_uri": "https://localhost:8080/"
        },
        "id": "d76b11fa",
        "outputId": "f540b3db-304c-4006-b968-e1697717e14d"
      },
      "outputs": [
        {
          "output_type": "execute_result",
          "data": {
            "text/plain": [
              "GridSearchCV(cv=5, estimator=MLPClassifier(max_iter=1000),\n",
              "             param_grid=[{'alpha': [0, 0.0001, 0.001, 0.01, 0.1],\n",
              "                          'hidden_layer_sizes': [30, 100, 120]}],\n",
              "             scoring='accuracy')"
            ]
          },
          "metadata": {},
          "execution_count": 23
        }
      ],
      "source": [
        "from sklearn.model_selection import GridSearchCV\n",
        "from sklearn.neural_network import MLPClassifier\n",
        "params = [{'hidden_layer_sizes': [30,100,120],                        #making dictionary of parameters for grid search\n",
        "         'alpha': [0,0.0001,0.001,0.01,0.1]}]\n",
        "gs_NeuralNet = GridSearchCV(MLPClassifier(max_iter=1000),                      #running a grid search to find best set of parameters with 5 fold cross validation\n",
        "                           param_grid=params, \n",
        "                           scoring='accuracy',                                 #the performance parameter used here is accuracy\n",
        "                           cv=5) \n",
        "gs_NeuralNet.fit(X_train, y1_train)"
      ]
    },
    {
      "cell_type": "code",
      "execution_count": null,
      "id": "110a6147",
      "metadata": {
        "colab": {
          "base_uri": "https://localhost:8080/"
        },
        "id": "110a6147",
        "outputId": "2f49beef-afcf-4613-92ed-a9c38a53410d"
      },
      "outputs": [
        {
          "output_type": "stream",
          "name": "stdout",
          "text": [
            "Best parameters : {'alpha': 0.0001, 'hidden_layer_sizes': 100}\n",
            "Best Score :  0.6442466460268317\n"
          ]
        }
      ],
      "source": [
        "print('Best parameters :' , gs_NeuralNet.best_params_)\n",
        "print('Best Score : ' , gs_NeuralNet.best_score_)"
      ]
    },
    {
      "cell_type": "markdown",
      "id": "c9461bb1",
      "metadata": {
        "id": "c9461bb1"
      },
      "source": [
        "SVM"
      ]
    },
    {
      "cell_type": "code",
      "execution_count": null,
      "id": "6c737e7f",
      "metadata": {
        "colab": {
          "base_uri": "https://localhost:8080/"
        },
        "id": "6c737e7f",
        "outputId": "1603d727-ccd9-4dce-e7c5-7ce6dd65b373"
      },
      "outputs": [
        {
          "output_type": "stream",
          "name": "stdout",
          "text": [
            "Fitting 5 folds for each of 50 candidates, totalling 250 fits\n"
          ]
        },
        {
          "output_type": "execute_result",
          "data": {
            "text/plain": [
              "GridSearchCV(estimator=SVC(),\n",
              "             param_grid={'C': [0.1, 1, 10, 100, 1000],\n",
              "                         'gamma': [1, 0.1, 0.01, 0.001, 0.0001],\n",
              "                         'kernel': ['rbf', 'sigmoid']},\n",
              "             verbose=1)"
            ]
          },
          "metadata": {},
          "execution_count": 25
        }
      ],
      "source": [
        "from sklearn.svm import SVC\n",
        "param_grid = {'C': [0.1,1, 10, 100, 1000], 'gamma': [1,0.1,0.01,0.001,0.0001], 'kernel': [ 'rbf', 'sigmoid']} \n",
        "gs_SVC = GridSearchCV(SVC(),param_grid,refit=True,verbose=1)\n",
        "gs_SVC.fit(X_train,y1_train)\n"
      ]
    },
    {
      "cell_type": "code",
      "execution_count": null,
      "id": "a2e47e1b",
      "metadata": {
        "colab": {
          "base_uri": "https://localhost:8080/"
        },
        "id": "a2e47e1b",
        "outputId": "8faf2491-9af5-44fa-df86-385d7fb1f16c",
        "scrolled": true
      },
      "outputs": [
        {
          "output_type": "stream",
          "name": "stdout",
          "text": [
            "BestParameters: {'C': 1000, 'gamma': 0.001, 'kernel': 'rbf'}\n",
            "BestScore: 0.7610595115239078\n"
          ]
        }
      ],
      "source": [
        "print('BestParameters:', gs_SVC.best_params_)\n",
        "print('BestScore:',gs_SVC.best_score_)"
      ]
    },
    {
      "cell_type": "markdown",
      "id": "8woM20ZnjRwY",
      "metadata": {
        "id": "8woM20ZnjRwY"
      },
      "source": [
        "Random Forest"
      ]
    },
    {
      "cell_type": "code",
      "execution_count": null,
      "id": "75c4dbcc",
      "metadata": {
        "colab": {
          "base_uri": "https://localhost:8080/"
        },
        "id": "75c4dbcc",
        "outputId": "55975c41-fc06-49a8-f848-df5788169ea1"
      },
      "outputs": [
        {
          "output_type": "stream",
          "name": "stdout",
          "text": [
            "Fitting 5 folds for each of 40 candidates, totalling 200 fits\n"
          ]
        },
        {
          "output_type": "execute_result",
          "data": {
            "text/plain": [
              "GridSearchCV(estimator=RandomForestClassifier(),\n",
              "             param_grid={'max_depth': array([ 5,  7,  9, 11, 13]),\n",
              "                         'max_features': ('auto', 'sqrt'),\n",
              "                         'n_estimators': [5, 8, 10, 20]},\n",
              "             verbose=1)"
            ]
          },
          "metadata": {},
          "execution_count": 27
        }
      ],
      "source": [
        "from sklearn.ensemble import RandomForestClassifier\n",
        "param_grid = {'n_estimators': [5,8,10,20], 'max_depth': np.arange(5,15,2),'max_features' :(\"auto\", \"sqrt\")} \n",
        "gs_rfc = GridSearchCV(RandomForestClassifier(),param_grid,refit=True,verbose=1)\n",
        "gs_rfc.fit(X_train,y1_train)"
      ]
    },
    {
      "cell_type": "code",
      "execution_count": null,
      "id": "3001d25f",
      "metadata": {
        "colab": {
          "base_uri": "https://localhost:8080/"
        },
        "id": "3001d25f",
        "outputId": "d202e8a5-f799-43aa-b84d-6f18aa9d4424"
      },
      "outputs": [
        {
          "output_type": "stream",
          "name": "stdout",
          "text": [
            "Best Parameters: {'max_depth': 9, 'max_features': 'sqrt', 'n_estimators': 5}\n",
            "BestScore: 0.684907120743034\n"
          ]
        }
      ],
      "source": [
        "print('Best Parameters:',gs_rfc.best_params_)\n",
        "print('BestScore:',gs_rfc.best_score_)\n"
      ]
    },
    {
      "cell_type": "markdown",
      "id": "-2sAyoUbjjnT",
      "metadata": {
        "id": "-2sAyoUbjjnT"
      },
      "source": [
        "##Multiclass Classification models"
      ]
    },
    {
      "cell_type": "markdown",
      "id": "D8spm24ojpHY",
      "metadata": {
        "id": "D8spm24ojpHY"
      },
      "source": [
        "Logistics regression"
      ]
    },
    {
      "cell_type": "code",
      "execution_count": null,
      "id": "mA99YZBmGa9n",
      "metadata": {
        "colab": {
          "base_uri": "https://localhost:8080/"
        },
        "id": "mA99YZBmGa9n",
        "outputId": "793fafe4-c61b-49cb-aee8-39184ca81157"
      },
      "outputs": [
        {
          "output_type": "stream",
          "name": "stdout",
          "text": [
            "Fitting 5 folds for each of 18 candidates, totalling 90 fits\n"
          ]
        },
        {
          "output_type": "execute_result",
          "data": {
            "text/plain": [
              "GridSearchCV(cv=5,\n",
              "             estimator=LogisticRegression(max_iter=1500, multi_class='ovr',\n",
              "                                          penalty='elasticnet', solver='saga'),\n",
              "             param_grid=[{'C': (0.01, 1, 10),\n",
              "                          'l1_ratio': array([0. , 0.2, 0.4, 0.6, 0.8, 1. ])}],\n",
              "             scoring='accuracy', verbose=1)"
            ]
          },
          "metadata": {},
          "execution_count": 29
        }
      ],
      "source": [
        "params = [{'C': (0.01,1,10),               #making dictionary of parameters for grid search\n",
        "         'l1_ratio': np.arange(0,1.1,0.2)}]\n",
        "gs_MultiClass_LR = GridSearchCV(LogisticRegression(penalty= 'elasticnet',max_iter=1500,solver = 'saga',multi_class='ovr'),   #running a grid search to find best set of parameters with 5 fold cross validation\n",
        "                      param_grid=params, \n",
        "                      scoring='accuracy', #the performance parameter used here is accuracy\n",
        "                      cv=5, verbose = 1) \n",
        "gs_MultiClass_LR.fit(X_train, y2_train)"
      ]
    },
    {
      "cell_type": "code",
      "execution_count": null,
      "id": "MuHpDFWwGcvw",
      "metadata": {
        "colab": {
          "base_uri": "https://localhost:8080/"
        },
        "id": "MuHpDFWwGcvw",
        "outputId": "81cce81a-24e8-4ef2-deae-a71eb694230a"
      },
      "outputs": [
        {
          "output_type": "stream",
          "name": "stdout",
          "text": [
            "Best Parameters: {'C': 10, 'l1_ratio': 1.0}\n",
            "Best Scores:  0.6889146886824906\n",
            "L1_penalty 0.1\n",
            "L2_penalty 0.0\n"
          ]
        }
      ],
      "source": [
        "print('Best Parameters:',gs_MultiClass_LR.best_params_)\n",
        "print('Best Scores: ',gs_MultiClass_LR.best_score_)\n",
        "b = gs_MultiClass_LR.best_params_\n",
        "L1_penalty = b['l1_ratio']*(1/(b['C']))\n",
        "print('L1_penalty',L1_penalty)\n",
        "L2_penalty = (1-b['l1_ratio'])*(1/b['C'])\n",
        "print('L2_penalty',L2_penalty)"
      ]
    },
    {
      "cell_type": "markdown",
      "id": "k_WEJ10qj0KM",
      "metadata": {
        "id": "k_WEJ10qj0KM"
      },
      "source": [
        "Neural Net"
      ]
    },
    {
      "cell_type": "code",
      "execution_count": null,
      "id": "gALxTTH2Z-60",
      "metadata": {
        "colab": {
          "base_uri": "https://localhost:8080/"
        },
        "id": "gALxTTH2Z-60",
        "outputId": "8f39fdf1-fc43-48d6-a178-521cb94a475f"
      },
      "outputs": [
        {
          "output_type": "stream",
          "name": "stdout",
          "text": [
            "Fitting 5 folds for each of 15 candidates, totalling 75 fits\n"
          ]
        },
        {
          "output_type": "execute_result",
          "data": {
            "text/plain": [
              "GridSearchCV(cv=5, estimator=MLPClassifier(max_iter=3000),\n",
              "             param_grid={'alpha': [0, 0.0001, 0.01, 0.1, 1],\n",
              "                         'hidden_layer_sizes': [100, 120, 200]},\n",
              "             scoring='accuracy', verbose=1)"
            ]
          },
          "metadata": {},
          "execution_count": 31
        }
      ],
      "source": [
        "from sklearn.model_selection import GridSearchCV\n",
        "from sklearn.neural_network import MLPClassifier\n",
        "params = {'hidden_layer_sizes': [100,120,200],                          #making dictionary of parameters for grid search\n",
        "         'alpha': [0,0.0001,0.01,0.1,1]}\n",
        "gs_NeuralNet_multiclass = GridSearchCV(MLPClassifier(max_iter=3000),              #running a grid search to find best set of parameters with 5 fold cross validation\n",
        "                      param_grid=params, \n",
        "                      scoring='accuracy',                                         #the performance parameter used here is accuracy\n",
        "                      cv=5,verbose = 1) \n",
        "gs_NeuralNet_multiclass.fit(X_train, y2_train)"
      ]
    },
    {
      "cell_type": "code",
      "execution_count": null,
      "id": "EIWl9pu3APJ-",
      "metadata": {
        "colab": {
          "base_uri": "https://localhost:8080/"
        },
        "id": "EIWl9pu3APJ-",
        "outputId": "981117de-73ac-4bcf-a6ff-93e61146e551"
      },
      "outputs": [
        {
          "output_type": "stream",
          "name": "stdout",
          "text": [
            "Best Parameters:  {'alpha': 0.0001, 'hidden_layer_sizes': 100}\n",
            "Best Score:  0.7348727210182318\n"
          ]
        }
      ],
      "source": [
        "print('Best Parameters: ',gs_NeuralNet_multiclass.best_params_)\n",
        "print('Best Score: ',gs_NeuralNet_multiclass.best_score_)"
      ]
    },
    {
      "cell_type": "markdown",
      "id": "8MbXmweakIz0",
      "metadata": {
        "id": "8MbXmweakIz0"
      },
      "source": [
        "SVM"
      ]
    },
    {
      "cell_type": "code",
      "execution_count": null,
      "id": "pJf0LeTof4aw",
      "metadata": {
        "colab": {
          "base_uri": "https://localhost:8080/"
        },
        "id": "pJf0LeTof4aw",
        "outputId": "05fb3895-f160-412f-e058-ec3b3169a110"
      },
      "outputs": [
        {
          "output_type": "stream",
          "name": "stdout",
          "text": [
            "Fitting 5 folds for each of 30 candidates, totalling 150 fits\n"
          ]
        },
        {
          "output_type": "execute_result",
          "data": {
            "text/plain": [
              "{'C': 100, 'gamma': 0.1, 'kernel': 'rbf'}"
            ]
          },
          "metadata": {},
          "execution_count": 33
        }
      ],
      "source": [
        "from sklearn.svm import SVC\n",
        "param_grid = {'C': [0.1,1, 10, 100,120], 'gamma': [1,0.1,0.0001], 'kernel': ['rbf', 'sigmoid']} \n",
        "gs_SVC_multiclass = GridSearchCV(SVC(),param_grid,refit=True,verbose=1)\n",
        "gs_SVC_multiclass.fit(X_train,y2_train)\n",
        "gs_SVC_multiclass.best_params_"
      ]
    },
    {
      "cell_type": "code",
      "execution_count": null,
      "id": "uE3LuZsYECh9",
      "metadata": {
        "colab": {
          "base_uri": "https://localhost:8080/"
        },
        "id": "uE3LuZsYECh9",
        "outputId": "7ec70697-b8a6-42dc-c935-4523b6e3b46c"
      },
      "outputs": [
        {
          "output_type": "stream",
          "name": "stdout",
          "text": [
            "BestScore:  0.6980736154110767\n",
            "Best Parameter:  {'C': 100, 'gamma': 0.1, 'kernel': 'rbf'}\n"
          ]
        }
      ],
      "source": [
        "print('BestScore: ', gs_SVC_multiclass.best_score_)\n",
        "print('Best Parameter: ',gs_SVC_multiclass.best_params_)"
      ]
    },
    {
      "cell_type": "markdown",
      "id": "FUpI6atxkURh",
      "metadata": {
        "id": "FUpI6atxkURh"
      },
      "source": [
        "RandomForest"
      ]
    },
    {
      "cell_type": "code",
      "execution_count": null,
      "id": "96GKYba6VbiI",
      "metadata": {
        "colab": {
          "base_uri": "https://localhost:8080/"
        },
        "id": "96GKYba6VbiI",
        "outputId": "dace87f3-1793-4373-8865-ef3fe802e83e"
      },
      "outputs": [
        {
          "output_type": "stream",
          "name": "stdout",
          "text": [
            "Fitting 5 folds for each of 72 candidates, totalling 360 fits\n"
          ]
        },
        {
          "output_type": "execute_result",
          "data": {
            "text/plain": [
              "GridSearchCV(estimator=RandomForestClassifier(),\n",
              "             param_grid={'max_depth': array([ 2,  4,  6,  8, 10, 12, 14, 16, 18]),\n",
              "                         'max_features': ('auto', 'sqrt'),\n",
              "                         'n_estimators': [5, 10, 20, 60]},\n",
              "             verbose=1)"
            ]
          },
          "metadata": {},
          "execution_count": 35
        }
      ],
      "source": [
        "from sklearn.ensemble import RandomForestClassifier\n",
        "param_grid = {'n_estimators': [5,10,20,60], 'max_depth': np.arange(2,20,2),'max_features' :(\"auto\", \"sqrt\")} \n",
        "gs_rfc_multiclass = GridSearchCV(RandomForestClassifier(),param_grid,refit=True,verbose=1)\n",
        "gs_rfc_multiclass.fit(X_train,y2_train)"
      ]
    },
    {
      "cell_type": "code",
      "execution_count": null,
      "id": "gz8pMQy-D9aJ",
      "metadata": {
        "colab": {
          "base_uri": "https://localhost:8080/"
        },
        "id": "gz8pMQy-D9aJ",
        "outputId": "e2b54c0c-6b1f-4e76-caa9-b812fd45cbec"
      },
      "outputs": [
        {
          "output_type": "stream",
          "name": "stdout",
          "text": [
            "{'max_depth': 8, 'max_features': 'sqrt', 'n_estimators': 10}\n",
            "0.6720330237358102\n"
          ]
        }
      ],
      "source": [
        "print(gs_rfc_multiclass.best_params_)\n",
        "print(gs_rfc_multiclass.best_score_)"
      ]
    },
    {
      "cell_type": "markdown",
      "id": "nmO_QzCckZmz",
      "metadata": {
        "id": "nmO_QzCckZmz"
      },
      "source": [
        "##Testing"
      ]
    },
    {
      "cell_type": "markdown",
      "id": "l4LU2wkVc7kz",
      "metadata": {
        "id": "l4LU2wkVc7kz"
      },
      "source": [
        "data preparation"
      ]
    },
    {
      "cell_type": "code",
      "execution_count": null,
      "id": "kTKNumB8CAXI",
      "metadata": {
        "id": "kTKNumB8CAXI"
      },
      "outputs": [],
      "source": [
        "df_test = pd.read_csv('https://www.ee.iitb.ac.in/~asethi/Dump/MouseTest.csv')"
      ]
    },
    {
      "cell_type": "code",
      "execution_count": null,
      "id": "L9lN_EZgD9Od",
      "metadata": {
        "id": "L9lN_EZgD9Od"
      },
      "outputs": [],
      "source": [
        "df_testReady = pd.DataFrame(imp.transform(df_test.drop(['Genotype','Treatment_Behavior'],axis = 1)))  #transforming and imputing the values\n",
        "df_testReady = pd.concat([df_testReady , df_test[['Genotype','Treatment_Behavior']]],axis = 1)\n",
        "df_testReady.columns = df_test.columns\n",
        "df_testReady.drop(to_be_dropped,axis = 1,inplace = True ) #dropping correlated features"
      ]
    },
    {
      "cell_type": "code",
      "execution_count": null,
      "id": "JXvg-GKQFstI",
      "metadata": {
        "id": "JXvg-GKQFstI"
      },
      "outputs": [],
      "source": [
        "X_test, y1_test , y2_test = df_testReady.drop(['Genotype', 'Treatment_Behavior'],axis = 1), df_testReady['Genotype'], df_testReady['Treatment_Behavior']\n",
        "#preparing input and target variable"
      ]
    },
    {
      "cell_type": "markdown",
      "id": "m7NP0I9CcyDO",
      "metadata": {
        "id": "m7NP0I9CcyDO"
      },
      "source": [
        "Binary class"
      ]
    },
    {
      "cell_type": "code",
      "execution_count": null,
      "id": "c_dU27KVrgyf",
      "metadata": {
        "colab": {
          "base_uri": "https://localhost:8080/"
        },
        "id": "c_dU27KVrgyf",
        "outputId": "03f9d91d-5bc3-45a0-a4cc-f94d68766f69"
      },
      "outputs": [
        {
          "output_type": "stream",
          "name": "stdout",
          "text": [
            "Accuracy of various binary classification models on validation data were : \n",
            " Logistic Regression:0.7702614379084968 \n",
            " Neural Net: 0.6442466460268317 \n",
            " SVM:0.7610595115239078 \n",
            " Random Forest Classifier:0.684907120743034\n"
          ]
        }
      ],
      "source": [
        "'''Making prediction on best model with accuracy as performance metric we see that SVM and Logistic regression performs best'''\n",
        "print(\"Accuracy of various binary classification models on validation data were : \\n Logistic Regression:{} \\n Neural Net: {} \\n SVM:{} \\n Random Forest Classifier:{}\".format(gs_ElasticNet.best_score_,gs_NeuralNet.best_score_,gs_SVC.best_score_,gs_rfc.best_score_))\n"
      ]
    },
    {
      "cell_type": "code",
      "execution_count": null,
      "id": "P9nGMq64P4kX",
      "metadata": {
        "colab": {
          "base_uri": "https://localhost:8080/"
        },
        "id": "P9nGMq64P4kX",
        "outputId": "71b73a74-2ca7-4ac0-aec3-864d6cb3672c"
      },
      "outputs": [
        {
          "output_type": "stream",
          "name": "stdout",
          "text": [
            "fitting best model on test data \n",
            "for SVM\n",
            "Confusion Matrix: \n",
            " [[112  23]\n",
            " [ 10  80]]\n",
            "Classification report :\n",
            "               precision    recall  f1-score   support\n",
            "\n",
            "     Control       0.92      0.83      0.87       135\n",
            "      Ts65Dn       0.78      0.89      0.83        90\n",
            "\n",
            "    accuracy                           0.85       225\n",
            "   macro avg       0.85      0.86      0.85       225\n",
            "weighted avg       0.86      0.85      0.85       225\n",
            "\n"
          ]
        }
      ],
      "source": [
        "print('fitting best model on test data \\nfor SVM')\n",
        "predictions2  = gs_SVC.predict(X_test)\n",
        "print('Confusion Matrix: \\n',confusion_matrix(y1_test,predictions2))\n",
        "print('Classification report :\\n',classification_report(y1_test,predictions2))"
      ]
    },
    {
      "cell_type": "code",
      "execution_count": null,
      "id": "c6Wc10ZCvLaJ",
      "metadata": {
        "colab": {
          "base_uri": "https://localhost:8080/"
        },
        "id": "c6Wc10ZCvLaJ",
        "outputId": "3df64500-9a6a-485e-cbff-3be646c8b72f"
      },
      "outputs": [
        {
          "output_type": "stream",
          "name": "stdout",
          "text": [
            "Confusion Matrix: \n",
            " [[107  28]\n",
            " [ 14  76]]\n",
            "Classification report :\n",
            "               precision    recall  f1-score   support\n",
            "\n",
            "     Control       0.88      0.79      0.84       135\n",
            "      Ts65Dn       0.73      0.84      0.78        90\n",
            "\n",
            "    accuracy                           0.81       225\n",
            "   macro avg       0.81      0.82      0.81       225\n",
            "weighted avg       0.82      0.81      0.81       225\n",
            "\n"
          ]
        }
      ],
      "source": [
        "predictions3  = gs_ElasticNet.predict(X_test)\n",
        "print('Confusion Matrix: \\n',confusion_matrix(y1_test,predictions3))\n",
        "print('Classification report :\\n',classification_report(y1_test,predictions3))"
      ]
    },
    {
      "cell_type": "code",
      "execution_count": null,
      "id": "-6m0WkLd3fQL",
      "metadata": {
        "colab": {
          "base_uri": "https://localhost:8080/"
        },
        "id": "-6m0WkLd3fQL",
        "outputId": "ce41591a-f813-4c37-edf4-72ffd89c3fb8"
      },
      "outputs": [
        {
          "output_type": "stream",
          "name": "stdout",
          "text": [
            "Test Data Performace\n",
            "SVM \n",
            "Accuracy:  0.8533333333333334 \tF1_score 0.8545634160601602 \tAUC-ROC-score 0.8592592592592593 \n",
            "\n",
            "Logistic Regression \n",
            "Accuracy:  0.8133333333333334 \tF1_score 0.8149645618556701 \tAUC-ROC-score 0.8185185185185186 \n",
            "\n",
            "Neural Network \n",
            "Accuracy:  0.7822222222222223 \tF1_score 0.783868685439366 \tAUC-ROC-score 0.7833333333333333 \n",
            "\n",
            "Random Forest Classifier \n",
            "Accuracy:  0.6311111111111111 \tF1_score 0.6283090920473279 \tAUC-ROC-score 0.6092592592592594 \n",
            "\n"
          ]
        }
      ],
      "source": [
        "model_ = [gs_SVC,gs_ElasticNet,gs_NeuralNet,gs_rfc]\n",
        "model_name_ = [\"SVM\",\"Logistic Regression\",\"Neural Network\",\"Random Forest Classifier\"]\n",
        "print('Test Data Performace')\n",
        "for i,model in enumerate(model_):\n",
        "  prediction_ = model.predict(X_test)\n",
        "  accuracy = accuracy_score(y1_test,prediction_)\n",
        "  F1_score = f1_score(y1_test,prediction_,average='weighted')\n",
        "  AUC = roc_auc_score(y1_test.replace(['Control', 'Ts65Dn'], [0,1]),pd.DataFrame(model.predict(X_test)).replace(['Control', 'Ts65Dn'], [0,1]))\n",
        "  print(model_name_[i],'\\nAccuracy: ',accuracy,'\\tF1_score',F1_score,'\\tAUC-ROC-score',AUC,'\\n')"
      ]
    },
    {
      "cell_type": "markdown",
      "id": "GoZd3y89c3Oi",
      "metadata": {
        "id": "GoZd3y89c3Oi"
      },
      "source": [
        "Multiclass "
      ]
    },
    {
      "cell_type": "code",
      "execution_count": null,
      "id": "sGk9Mr_MeHYB",
      "metadata": {
        "colab": {
          "base_uri": "https://localhost:8080/"
        },
        "id": "sGk9Mr_MeHYB",
        "outputId": "7c0e2bd0-e205-4ebc-858a-034725beb77c"
      },
      "outputs": [
        {
          "output_type": "stream",
          "name": "stdout",
          "text": [
            "Accuracy of various multiclass classification models : \n",
            " Logistic Regression:0.6889146886824906 \n",
            " Neural Net: 0.7348727210182318 \n",
            " SVM:0.6980736154110767 \n",
            " Random Forest Classifier:0.6720330237358102\n"
          ]
        }
      ],
      "source": [
        "print(\"Accuracy of various multiclass classification models : \\n Logistic Regression:{} \\n Neural Net: {} \\n SVM:{} \\n Random Forest Classifier:{}\".format(gs_MultiClass_LR.best_score_,gs_NeuralNet_multiclass.best_score_,gs_SVC_multiclass.best_score_,gs_rfc_multiclass.best_score_))"
      ]
    },
    {
      "cell_type": "code",
      "execution_count": null,
      "id": "n5Gr0dvWiaSU",
      "metadata": {
        "colab": {
          "base_uri": "https://localhost:8080/"
        },
        "id": "n5Gr0dvWiaSU",
        "outputId": "b3d2f3eb-b2e5-4106-a832-2fbac34e4a72"
      },
      "outputs": [
        {
          "output_type": "stream",
          "name": "stdout",
          "text": [
            "Confusion Matrix : \n",
            " [[35  0 25  0]\n",
            " [ 0 51  0  9]\n",
            " [23  0 37  0]\n",
            " [ 0 15  0 30]]\n",
            "Classification Report : \n",
            "                precision    recall  f1-score   support\n",
            "\n",
            "Memantine_C/S       0.60      0.58      0.59        60\n",
            "Memantine_S/C       0.77      0.85      0.81        60\n",
            "   Saline_C/S       0.60      0.62      0.61        60\n",
            "   Saline_S/C       0.77      0.67      0.71        45\n",
            "\n",
            "     accuracy                           0.68       225\n",
            "    macro avg       0.69      0.68      0.68       225\n",
            " weighted avg       0.68      0.68      0.68       225\n",
            "\n"
          ]
        }
      ],
      "source": [
        "predictions7 = gs_SVC_multiclass.predict(X_test)\n",
        "print('Confusion Matrix : \\n',confusion_matrix(y2_test,predictions7))\n",
        "print('Classification Report : \\n',classification_report(y2_test,predictions7))"
      ]
    },
    {
      "cell_type": "code",
      "execution_count": null,
      "id": "K2uPXCItT5wI",
      "metadata": {
        "colab": {
          "base_uri": "https://localhost:8080/"
        },
        "id": "K2uPXCItT5wI",
        "outputId": "045d51d4-34c3-4421-d90e-c3bc3bdd5155"
      },
      "outputs": [
        {
          "output_type": "stream",
          "name": "stdout",
          "text": [
            "               precision    recall  f1-score   support\n",
            "\n",
            "Memantine_C/S       0.68      0.70      0.69        60\n",
            "Memantine_S/C       0.97      0.95      0.96        60\n",
            "   Saline_C/S       0.69      0.67      0.68        60\n",
            "   Saline_S/C       0.93      0.96      0.95        45\n",
            "\n",
            "     accuracy                           0.81       225\n",
            "    macro avg       0.82      0.82      0.82       225\n",
            " weighted avg       0.81      0.81      0.81       225\n",
            "\n"
          ]
        }
      ],
      "source": [
        "predictions4 = gs_MultiClass_LR.predict(X_test)\n",
        "print(classification_report(y2_test,predictions4))"
      ]
    },
    {
      "cell_type": "code",
      "execution_count": null,
      "id": "uziBP0vS0YT1",
      "metadata": {
        "colab": {
          "base_uri": "https://localhost:8080/"
        },
        "id": "uziBP0vS0YT1",
        "outputId": "faed86c8-21b9-48bd-ca39-e8400c72c625"
      },
      "outputs": [
        {
          "output_type": "stream",
          "name": "stdout",
          "text": [
            "Test Data Performace\n",
            "SVM \n",
            "Accuracy:  0.68 \tF1_score 0.6786708830054203 \tROC_AUC 0.7856060606060605 \n",
            "\n",
            "Logistic Regression \n",
            "Accuracy:  0.8088888888888889 \tF1_score 0.8088706917139651 \tROC_AUC 0.8766414141414142 \n",
            "\n",
            "Neural Network \n",
            "Accuracy:  0.7111111111111111 \tF1_score 0.710748277621469 \tROC_AUC 0.8070707070707072 \n",
            "\n",
            "Random Forest Classifier \n",
            "Accuracy:  0.6311111111111111 \tF1_score 0.631951261543452 \tROC_AUC 0.7551767676767677 \n",
            "\n"
          ]
        }
      ],
      "source": [
        "model_ = [gs_SVC_multiclass,gs_MultiClass_LR,gs_NeuralNet_multiclass,gs_rfc_multiclass]\n",
        "model_name_ = [\"SVM\",\"Logistic Regression\",\"Neural Network\",\"Random Forest Classifier\"]\n",
        "from sklearn.preprocessing import label_binarize\n",
        "y_ = label_binarize(y2_test,classes=['Memantine_C/S', 'Memantine_S/C', 'Saline_C/S', 'Saline_S/C'])\n",
        "\n",
        "\n",
        "print('Test Data Performace')\n",
        "for i,model in enumerate(model_):\n",
        "  prediction_ = model.predict(X_test)\n",
        "  accuracy = accuracy_score(y2_test,prediction_)\n",
        "  F1_score = f1_score(y2_test,prediction_,average='weighted')\n",
        "  y__ = label_binarize(prediction_,classes=['Memantine_C/S', 'Memantine_S/C', 'Saline_C/S', 'Saline_S/C'])\n",
        "  auc_score = roc_auc_score(y_,y__)\n",
        "  print(model_name_[i],'\\nAccuracy: ',accuracy,'\\tF1_score',F1_score,'\\tROC_AUC',auc_score,'\\n')"
      ]
    },
    {
      "cell_type": "markdown",
      "id": "qweB_eesvcdl",
      "metadata": {
        "id": "qweB_eesvcdl"
      },
      "source": [
        "##Feature Importance"
      ]
    },
    {
      "cell_type": "code",
      "execution_count": null,
      "id": "Z2E8V0JlvfEr",
      "metadata": {
        "colab": {
          "base_uri": "https://localhost:8080/",
          "height": 424
        },
        "id": "Z2E8V0JlvfEr",
        "outputId": "d0eed7ed-eb04-42bc-be14-3b3a1eae86f2"
      },
      "outputs": [
        {
          "output_type": "execute_result",
          "data": {
            "text/plain": [
              "          feature importance\n",
              "APP_N               0.113154\n",
              "GluR3_N             0.057698\n",
              "S6_N                0.053104\n",
              "P38_N               0.051279\n",
              "pNUMB_N             0.037445\n",
              "...                      ...\n",
              "pBRAF_N             0.000832\n",
              "pP70S6_N            0.000410\n",
              "SNCA_N              0.000000\n",
              "pNR2A_N             0.000000\n",
              "MEK_N               0.000000\n",
              "\n",
              "[70 rows x 1 columns]"
            ],
            "text/html": [
              "\n",
              "  <div id=\"df-18579599-b496-444a-ab3c-0e2da6ac5b04\">\n",
              "    <div class=\"colab-df-container\">\n",
              "      <div>\n",
              "<style scoped>\n",
              "    .dataframe tbody tr th:only-of-type {\n",
              "        vertical-align: middle;\n",
              "    }\n",
              "\n",
              "    .dataframe tbody tr th {\n",
              "        vertical-align: top;\n",
              "    }\n",
              "\n",
              "    .dataframe thead th {\n",
              "        text-align: right;\n",
              "    }\n",
              "</style>\n",
              "<table border=\"1\" class=\"dataframe\">\n",
              "  <thead>\n",
              "    <tr style=\"text-align: right;\">\n",
              "      <th></th>\n",
              "      <th>feature importance</th>\n",
              "    </tr>\n",
              "  </thead>\n",
              "  <tbody>\n",
              "    <tr>\n",
              "      <th>APP_N</th>\n",
              "      <td>0.113154</td>\n",
              "    </tr>\n",
              "    <tr>\n",
              "      <th>GluR3_N</th>\n",
              "      <td>0.057698</td>\n",
              "    </tr>\n",
              "    <tr>\n",
              "      <th>S6_N</th>\n",
              "      <td>0.053104</td>\n",
              "    </tr>\n",
              "    <tr>\n",
              "      <th>P38_N</th>\n",
              "      <td>0.051279</td>\n",
              "    </tr>\n",
              "    <tr>\n",
              "      <th>pNUMB_N</th>\n",
              "      <td>0.037445</td>\n",
              "    </tr>\n",
              "    <tr>\n",
              "      <th>...</th>\n",
              "      <td>...</td>\n",
              "    </tr>\n",
              "    <tr>\n",
              "      <th>pBRAF_N</th>\n",
              "      <td>0.000832</td>\n",
              "    </tr>\n",
              "    <tr>\n",
              "      <th>pP70S6_N</th>\n",
              "      <td>0.000410</td>\n",
              "    </tr>\n",
              "    <tr>\n",
              "      <th>SNCA_N</th>\n",
              "      <td>0.000000</td>\n",
              "    </tr>\n",
              "    <tr>\n",
              "      <th>pNR2A_N</th>\n",
              "      <td>0.000000</td>\n",
              "    </tr>\n",
              "    <tr>\n",
              "      <th>MEK_N</th>\n",
              "      <td>0.000000</td>\n",
              "    </tr>\n",
              "  </tbody>\n",
              "</table>\n",
              "<p>70 rows × 1 columns</p>\n",
              "</div>\n",
              "      <button class=\"colab-df-convert\" onclick=\"convertToInteractive('df-18579599-b496-444a-ab3c-0e2da6ac5b04')\"\n",
              "              title=\"Convert this dataframe to an interactive table.\"\n",
              "              style=\"display:none;\">\n",
              "        \n",
              "  <svg xmlns=\"http://www.w3.org/2000/svg\" height=\"24px\"viewBox=\"0 0 24 24\"\n",
              "       width=\"24px\">\n",
              "    <path d=\"M0 0h24v24H0V0z\" fill=\"none\"/>\n",
              "    <path d=\"M18.56 5.44l.94 2.06.94-2.06 2.06-.94-2.06-.94-.94-2.06-.94 2.06-2.06.94zm-11 1L8.5 8.5l.94-2.06 2.06-.94-2.06-.94L8.5 2.5l-.94 2.06-2.06.94zm10 10l.94 2.06.94-2.06 2.06-.94-2.06-.94-.94-2.06-.94 2.06-2.06.94z\"/><path d=\"M17.41 7.96l-1.37-1.37c-.4-.4-.92-.59-1.43-.59-.52 0-1.04.2-1.43.59L10.3 9.45l-7.72 7.72c-.78.78-.78 2.05 0 2.83L4 21.41c.39.39.9.59 1.41.59.51 0 1.02-.2 1.41-.59l7.78-7.78 2.81-2.81c.8-.78.8-2.07 0-2.86zM5.41 20L4 18.59l7.72-7.72 1.47 1.35L5.41 20z\"/>\n",
              "  </svg>\n",
              "      </button>\n",
              "      \n",
              "  <style>\n",
              "    .colab-df-container {\n",
              "      display:flex;\n",
              "      flex-wrap:wrap;\n",
              "      gap: 12px;\n",
              "    }\n",
              "\n",
              "    .colab-df-convert {\n",
              "      background-color: #E8F0FE;\n",
              "      border: none;\n",
              "      border-radius: 50%;\n",
              "      cursor: pointer;\n",
              "      display: none;\n",
              "      fill: #1967D2;\n",
              "      height: 32px;\n",
              "      padding: 0 0 0 0;\n",
              "      width: 32px;\n",
              "    }\n",
              "\n",
              "    .colab-df-convert:hover {\n",
              "      background-color: #E2EBFA;\n",
              "      box-shadow: 0px 1px 2px rgba(60, 64, 67, 0.3), 0px 1px 3px 1px rgba(60, 64, 67, 0.15);\n",
              "      fill: #174EA6;\n",
              "    }\n",
              "\n",
              "    [theme=dark] .colab-df-convert {\n",
              "      background-color: #3B4455;\n",
              "      fill: #D2E3FC;\n",
              "    }\n",
              "\n",
              "    [theme=dark] .colab-df-convert:hover {\n",
              "      background-color: #434B5C;\n",
              "      box-shadow: 0px 1px 3px 1px rgba(0, 0, 0, 0.15);\n",
              "      filter: drop-shadow(0px 1px 2px rgba(0, 0, 0, 0.3));\n",
              "      fill: #FFFFFF;\n",
              "    }\n",
              "  </style>\n",
              "\n",
              "      <script>\n",
              "        const buttonEl =\n",
              "          document.querySelector('#df-18579599-b496-444a-ab3c-0e2da6ac5b04 button.colab-df-convert');\n",
              "        buttonEl.style.display =\n",
              "          google.colab.kernel.accessAllowed ? 'block' : 'none';\n",
              "\n",
              "        async function convertToInteractive(key) {\n",
              "          const element = document.querySelector('#df-18579599-b496-444a-ab3c-0e2da6ac5b04');\n",
              "          const dataTable =\n",
              "            await google.colab.kernel.invokeFunction('convertToInteractive',\n",
              "                                                     [key], {});\n",
              "          if (!dataTable) return;\n",
              "\n",
              "          const docLinkHtml = 'Like what you see? Visit the ' +\n",
              "            '<a target=\"_blank\" href=https://colab.research.google.com/notebooks/data_table.ipynb>data table notebook</a>'\n",
              "            + ' to learn more about interactive tables.';\n",
              "          element.innerHTML = '';\n",
              "          dataTable['output_type'] = 'display_data';\n",
              "          await google.colab.output.renderOutput(dataTable, element);\n",
              "          const docLink = document.createElement('div');\n",
              "          docLink.innerHTML = docLinkHtml;\n",
              "          element.appendChild(docLink);\n",
              "        }\n",
              "      </script>\n",
              "    </div>\n",
              "  </div>\n",
              "  "
            ]
          },
          "metadata": {},
          "execution_count": 48
        }
      ],
      "source": [
        "'''Feature importance with random forest feature_importance_ attribute'''\n",
        "#Correlated features are dropped Before hand,and than feature importance has been checked for remaining features\n",
        "estimator = gs_rfc.best_estimator_\n",
        "estimator.fit(X_train, y1_train)\n",
        "df_feature_importance = pd.DataFrame(estimator.feature_importances_, index=X_train.columns, columns=['feature importance']).sort_values('feature importance', ascending=False)\n",
        "df_feature_importance\n",
        "#reference : https://machinelearningmastery.com/calculate-feature-importance-with-python/"
      ]
    },
    {
      "cell_type": "code",
      "execution_count": null,
      "id": "KqoSyKoZv383",
      "metadata": {
        "colab": {
          "base_uri": "https://localhost:8080/",
          "height": 484
        },
        "id": "KqoSyKoZv383",
        "outputId": "e8435100-4363-4fc5-cbb9-9fb87c3e821a"
      },
      "outputs": [
        {
          "output_type": "execute_result",
          "data": {
            "text/plain": [
              "<matplotlib.axes._subplots.AxesSubplot at 0x7fcdbdabae10>"
            ]
          },
          "metadata": {},
          "execution_count": 49
        },
        {
          "output_type": "display_data",
          "data": {
            "text/plain": [
              "<Figure size 1080x432 with 1 Axes>"
            ],
            "image/png": "[encoded data removed]"
          },
          "metadata": {}
        }
      ],
      "source": [
        "df_feature_importance.plot(kind='bar',figsize = (15,6))"
      ]
    },
    {
      "cell_type": "code",
      "execution_count": null,
      "id": "R7wrCWGQj6mH",
      "metadata": {
        "colab": {
          "base_uri": "https://localhost:8080/",
          "height": 485
        },
        "id": "R7wrCWGQj6mH",
        "outputId": "20e06b2a-bf9d-4bab-9a32-688bcedfe28e"
      },
      "outputs": [
        {
          "output_type": "display_data",
          "data": {
            "text/plain": [
              "<Figure size 1080x576 with 1 Axes>"
            ],
            "image/png": "[encoded data removed]"
          },
          "metadata": {}
        }
      ],
      "source": [
        "'''feature importance with Logistics regression importance attribute'''\n",
        "model = gs_ElasticNet.best_estimator_\n",
        "model.fit(X_train, y1_train)\n",
        "importance = model.coef_[0]\n",
        "plt.bar([x for x in range(len(importance))], importance)\n",
        "plt.show()\n",
        "\n",
        "### positive scores indicates features that predicts class 1, whereas the negative scores indicate a feature that predicts class 0"
      ]
    },
    {
      "cell_type": "markdown",
      "id": "M6GJJlFUytzR",
      "metadata": {
        "id": "M6GJJlFUytzR"
      },
      "source": [
        "##Recursive Feature Elimination"
      ]
    },
    {
      "cell_type": "markdown",
      "id": "VW9zIWkntp-m",
      "metadata": {
        "id": "VW9zIWkntp-m"
      },
      "source": [
        "With Random Forest as estimator"
      ]
    },
    {
      "cell_type": "code",
      "execution_count": null,
      "id": "t7PeiCDnD6z5",
      "metadata": {
        "colab": {
          "base_uri": "https://localhost:8080/",
          "height": 519
        },
        "id": "t7PeiCDnD6z5",
        "outputId": "57264998-91ed-4d18-d108-7fa7a54acb97"
      },
      "outputs": [
        {
          "output_type": "stream",
          "name": "stdout",
          "text": [
            "Optimal number of features : 39\n"
          ]
        },
        {
          "output_type": "display_data",
          "data": {
            "text/plain": [
              "<Figure size 1080x576 with 1 Axes>"
            ],
            "image/png": "[encoded data removed]"
          },
          "metadata": {}
        }
      ],
      "source": [
        "from sklearn.feature_selection import RFECV\n",
        "from sklearn.ensemble import RandomForestClassifier\n",
        "#from sklearn.model_selection import StratifiedKFold\n",
        "min_features_to_select =20             #Minimum number of features to consider\n",
        "rfecv_ = RFECV(\n",
        "    estimator=gs_rfc.best_estimator_, #passing the best estimator from previous grid search\n",
        "    step=1,\n",
        "    cv=5,#StratifiedKFold(5),\n",
        "    scoring=\"accuracy\",\n",
        "    min_features_to_select=min_features_to_select)\n",
        "rfecv_.fit(X_train, y1_train)\n",
        "\n",
        "print(\"Optimal number of features : %d\" % rfecv_.n_features_)\n",
        "# Plot number of features VS. cross-validation scores\n",
        "plt.figure()\n",
        "plt.xlabel(\"Number of features selected\")\n",
        "plt.ylabel(\"Mean test score (accuracy)\")\n",
        "plt.plot(range(min_features_to_select, len(rfecv_.grid_scores_) + min_features_to_select),rfecv_.cv_results_['mean_test_score'])\n",
        "plt.show()\n",
        " \n",
        "#https://scikit-learn.org/stable/auto_examples/feature_selection/plot_rfe_with_cross_validation.html"
      ]
    },
    {
      "cell_type": "code",
      "execution_count": null,
      "id": "7c0DCORoDcKK",
      "metadata": {
        "colab": {
          "base_uri": "https://localhost:8080/"
        },
        "id": "7c0DCORoDcKK",
        "outputId": "af718cf9-4f12-48c4-ae3e-d4568d9c6b3f"
      },
      "outputs": [
        {
          "output_type": "stream",
          "name": "stdout",
          "text": [
            "Optimal number of features : 39\n",
            "Accuracy after Feature Elimination 0.6797041623667011\n",
            "Accuracy Before Feature Elimination 0.684907120743034\n"
          ]
        }
      ],
      "source": [
        "print(\"Optimal number of features : %d\" % rfecv_.n_features_)\n",
        "print('Accuracy after Feature Elimination',rfecv_.cv_results_['mean_test_score'].max())\n",
        "print('Accuracy Before Feature Elimination',gs_rfc.best_score_)"
      ]
    },
    {
      "cell_type": "code",
      "execution_count": null,
      "id": "lZ1-nwjZDc1P",
      "metadata": {
        "colab": {
          "base_uri": "https://localhost:8080/"
        },
        "id": "lZ1-nwjZDc1P",
        "outputId": "fba69ba7-5d82-4c82-daf1-dd68c4753570"
      },
      "outputs": [
        {
          "output_type": "stream",
          "name": "stdout",
          "text": [
            "Features Eliminated :\n",
            " ['BDNF_N', 'pBRAF_N', 'pMEK_N', 'pRSK_N', 'AKT_N', 'CAMKII_N', 'JNK_N', 'MEK_N', 'TRKA_N', 'Bcatenin_N', 'AMPKA_N', 'NR2B_N', 'RAPTOR_N', 'TIAM1_N', 'NUMB_N', 'P70S6_N', 'pGSK3B_N', 'CDK5_N', 'AcetylH3K9_N', 'RRP1_N', 'ERBB4_N', 'nNOS_N', 'GFAP_N', 'P3525_N', 'SNCA_N', 'SHH_N', 'BAD_N', 'BCL2_N', 'pCFOS_N', 'EGR1_N', 'H3MeK4_N']\n",
            "Features used : \n",
            " ['NR2A_N', 'pAKT_N', 'pCAMKII_N', 'pCREB_N', 'pELK_N', 'pERK_N', 'pJNK_N', 'PKCA_N', 'pNR2A_N', 'pPKCAB_N', 'CREB_N', 'ELK_N', 'ERK_N', 'GSK3B_N', 'RSK_N', 'APP_N', 'SOD1_N', 'MTOR_N', 'P38_N', 'pMTOR_N', 'DSCR1_N', 'pNUMB_N', 'pP70S6_N', 'pPKCG_N', 'S6_N', 'ADARB1_N', 'BAX_N', 'ARC_N', 'Tau_N', 'GluR3_N', 'GluR4_N', 'IL1B_N', 'pCASP9_N', 'PSD95_N', 'Ubiquitin_N', 'pGSK3B_Tyr216_N', 'SYP_N', 'H3AcK18_N', 'CaNA_N']\n"
          ]
        }
      ],
      "source": [
        "print('Features Eliminated :\\n',list(X_train.columns[np.where(rfecv_.support_ == False)[0]]))\n",
        "print('Features used : \\n',list(X_train.columns[rfecv_.support_]))# [feature for feature in X_train.columns if feature not in rfecv.support_])"
      ]
    },
    {
      "cell_type": "markdown",
      "id": "-fLW5991tvgj",
      "metadata": {
        "id": "-fLW5991tvgj"
      },
      "source": [
        "With Logistics regressor as estimator"
      ]
    },
    {
      "cell_type": "code",
      "execution_count": null,
      "id": "Ytf-DXbrfkdM",
      "metadata": {
        "colab": {
          "base_uri": "https://localhost:8080/",
          "height": 502
        },
        "id": "Ytf-DXbrfkdM",
        "outputId": "ba06c404-d4e9-48dc-dcea-2993092f360b"
      },
      "outputs": [
        {
          "output_type": "display_data",
          "data": {
            "text/plain": [
              "<Figure size 1080x576 with 1 Axes>"
            ],
            "image/png": "[encoded data removed]"
          },
          "metadata": {}
        }
      ],
      "source": [
        "from sklearn.feature_selection import RFECV\n",
        "from sklearn.model_selection import StratifiedKFold\n",
        "min_features_to_select =1             #Minimum number of features to consider\n",
        "rfecv = RFECV(\n",
        "    estimator=gs_ElasticNet.best_estimator_, #passing the best estimator from previous grid search\n",
        "    step=1,\n",
        "    cv=StratifiedKFold(5),\n",
        "    scoring=\"accuracy\",\n",
        "    min_features_to_select=min_features_to_select)\n",
        "rfecv.fit(X_train, y1_train) #fitting on the model\n",
        "\n",
        "plt.figure() # Plotting each folds mean accuracy against no of feature used\n",
        "plt.xlabel(\"Number of features selected\")\n",
        "plt.ylabel(\"Mean_test_score(accuracy)\")\n",
        "plt.plot(range(min_features_to_select, len(rfecv.grid_scores_) + min_features_to_select),rfecv.cv_results_['mean_test_score'])\n",
        "plt.show()\n",
        " \n",
        "#reference https://scikit-learn.org/stable/auto_examples/feature_selection/plot_rfe_with_cross_validation.html"
      ]
    },
    {
      "cell_type": "code",
      "execution_count": null,
      "id": "cRTtZjuKn5og",
      "metadata": {
        "colab": {
          "base_uri": "https://localhost:8080/"
        },
        "id": "cRTtZjuKn5og",
        "outputId": "8e8e79f1-3c33-4e26-a0ec-db0d955a6da7"
      },
      "outputs": [
        {
          "output_type": "stream",
          "name": "stdout",
          "text": [
            "Optimal number of features : 23\n",
            "Accuracy after Feature Elimination 0.7860251117991056\n",
            "Accuracy Before Feature Elimination 0.7702614379084968\n"
          ]
        }
      ],
      "source": [
        "print(\"Optimal number of features : %d\" % rfecv.n_features_)\n",
        "print('Accuracy after Feature Elimination',rfecv.cv_results_['mean_test_score'].max())\n",
        "print('Accuracy Before Feature Elimination',gs_ElasticNet.best_score_)"
      ]
    },
    {
      "cell_type": "code",
      "execution_count": null,
      "id": "H4JauiR1HiZA",
      "metadata": {
        "colab": {
          "base_uri": "https://localhost:8080/"
        },
        "id": "H4JauiR1HiZA",
        "outputId": "121424ad-efda-4f82-815e-43ff81b9eea6"
      },
      "outputs": [
        {
          "output_type": "stream",
          "name": "stdout",
          "text": [
            "Features Eliminated :\n",
            " ['BDNF_N', 'pAKT_N', 'pBRAF_N', 'pCREB_N', 'pELK_N', 'pERK_N', 'pJNK_N', 'PKCA_N', 'pMEK_N', 'pNR2A_N', 'pRSK_N', 'AKT_N', 'CAMKII_N', 'CREB_N', 'GSK3B_N', 'JNK_N', 'MEK_N', 'RSK_N', 'SOD1_N', 'pMTOR_N', 'AMPKA_N', 'RAPTOR_N', 'pP70S6_N', 'NUMB_N', 'pGSK3B_N', 'CDK5_N', 'RRP1_N', 'BAX_N', 'ARC_N', 'ERBB4_N', 'nNOS_N', 'Tau_N', 'GFAP_N', 'GluR4_N', 'IL1B_N', 'P3525_N', 'PSD95_N', 'SNCA_N', 'pGSK3B_Tyr216_N', 'SHH_N', 'BAD_N', 'BCL2_N', 'pCFOS_N', 'H3AcK18_N', 'EGR1_N', 'H3MeK4_N', 'CaNA_N']\n",
            "Features used : \n",
            " ['NR2A_N', 'pCAMKII_N', 'pPKCAB_N', 'ELK_N', 'ERK_N', 'TRKA_N', 'APP_N', 'Bcatenin_N', 'MTOR_N', 'P38_N', 'DSCR1_N', 'NR2B_N', 'pNUMB_N', 'TIAM1_N', 'P70S6_N', 'pPKCG_N', 'S6_N', 'ADARB1_N', 'AcetylH3K9_N', 'GluR3_N', 'pCASP9_N', 'Ubiquitin_N', 'SYP_N']\n"
          ]
        }
      ],
      "source": [
        "print('Features Eliminated :\\n',list(X_train.columns[np.where(rfecv.support_ == False)[0]]))\n",
        "print('Features used : \\n',list(X_train.columns[rfecv.support_]))# [feature for feature in X_train.columns if feature not in rfecv.support_])"
      ]
    },
    {
      "cell_type": "markdown",
      "id": "Wa4OyL1em3Wg",
      "metadata": {
        "id": "Wa4OyL1em3Wg"
      },
      "source": [
        "##Observation\n",
        "\n",
        "\n",
        "Performance on test data\n",
        "#For Binary class\n",
        "\n",
        "SVM\n",
        "Accuracy:  0.853 ,\tF1_score: 0.854  \t\n",
        "\n",
        "Logistic Regression \n",
        "Accuracy:  0.813 ,\tF1_score: 0.815  \t\n",
        "\n",
        "Neural Network \n",
        "Accuracy:  0.777 ,\tF1_score: 0.78  \t\n",
        "\n",
        "Random Forest Classifier \n",
        "Accuracy:  0.751,\tF1_score: 0.751 \t             \n",
        "\n",
        "#For MultiClass \n",
        "SVM \n",
        "Accuracy:  0.68 ,\t            F1_score: 0.6786  \n",
        "\n",
        "Logistic Regression \n",
        "Accuracy:  0.791    ,        \tF1_score: 0.7910 \n",
        "\n",
        "Neural Network \n",
        "Accuracy:  0.751 \t ,           F1_score: 0.7507  \n",
        "\n",
        "Random Forest Classifier \n",
        "Accuracy:  0.72 \t ,           F1_score: 0.7191\n",
        "\n",
        "\n",
        "\n",
        "\n",
        "*   For Binary class SVM performs well, and for multiclass Neural network performs well, while Logistic regression seem to perform well on both and random forest perform OK in both cases\n",
        "\n",
        "*   Best models are SVM with parameters  {'alpha': 0.0001, 'hidden_layer_sizes': 200}, Neural Network with parameters {'alpha': 0.001, 'hidden_layer_sizes': 30} & Logistic Regression {'C': 1, 'l1_ratio': 1.0}\n",
        "\n",
        "\n",
        "\n",
        "\n",
        "\n",
        "\n"
      ]
    },
    {
      "cell_type": "markdown",
      "id": "O4Fy0mbQB__v",
      "metadata": {
        "id": "O4Fy0mbQB__v"
      },
      "source": [
        "Following are some comments that we can make observing the results:\n",
        "\n",
        "\n",
        "-Data provided is well distributed among classes which is evident through precision and recall\n",
        "\n",
        "-Removing correlated features improves model performance on test data \n",
        "\n",
        "\n",
        "\n",
        "\n",
        "-Dropping correlated feature with lower threshold value works best for logitics regression as we see significant improvement in accuracy\n",
        "{threshold:accuracy}->{0.8 :0.78},\n",
        "{0.85 : 0.82},\n",
        "{0.87 : 0.79}\n",
        "\n",
        "-While other models doesn't improve much on losing traning features\n",
        "\n",
        "-Neural Network took significant time as it too many layers were needed to get high accuracy (layer_size = 200) \n",
        "\n",
        "-Due to Cross validation the performance and hyperparameter tuning keeps changing\n",
        "\n",
        "\n"
      ]
    },
    {
      "cell_type": "markdown",
      "id": "y7zTj0oNDqpy",
      "metadata": {
        "id": "y7zTj0oNDqpy"
      },
      "source": [
        "Recursive Feature Elimination\n",
        "\n",
        "-One feature which is useless for one model can be useful for another. this can be seen while performing RFE for one type of model and fitting concluded feature to other model\n",
        "\n",
        "\n",
        "-We performed recursive feature elimination with feature_importance_ attribute of Random forest and Logistic regression and got 37 and 23 as optimum number of features\n",
        "\n",
        "-We didn't see much of performance improvement by RFE, except the case of logistic regression\n",
        "\n",
        "-Analysing feature importance in SVM with parameters is only possible with linear kernel, but our best estimator uses rbf\n"
      ]
    },
    {
      "cell_type": "markdown",
      "id": "f8HGpszODqxl",
      "metadata": {
        "id": "f8HGpszODqxl"
      },
      "source": [
        "With different threshold while dropping correlated features we obtained the following results(accuracy)\n",
        "\n",
        "\n",
        "-For Threshold : 0.8\n",
        "\n",
        "BinaryClass{Logistic Regression:0.787, Neural Net: 0.679, SVM:0.7794, Random Forest Classifier:0.677}\n",
        "\n",
        "\n",
        "Multiclass{Logistic Regression:0.650,Neural Net: 0.703,SVM:0.6849,Random Forest Classifier:0.6824}\n",
        "\n",
        "\n",
        "\n",
        "-For Threshold : 0.9 \n",
        "\n",
        "\n",
        "BinaryClass{Logistic Regression:0.77, Neural Net: 0.668, SVM:0.761, Random Forest Classifier:0.665}\n",
        "\n",
        "\n",
        " MultiClass{Logistic Regression:0.684, Neural Net: 0.730, SVM:0.698, Random Forest Classifier:0.665}\n",
        "\n",
        "\n"
      ]
    }
  ],
  "metadata": {
    "colab": {
      "collapsed_sections": [
        "VB1xArfwSqvC",
        "TSYFvaIzHz8V",
        "gukZssJpH9uL",
        "R3r8DrtBdxYq",
        "cUUkrV0VHKys",
        "-2sAyoUbjjnT",
        "nmO_QzCckZmz",
        "qweB_eesvcdl",
        "M6GJJlFUytzR",
        "Wa4OyL1em3Wg"
      ],
      "name": "A2.ipynb",
      "provenance": [],
      "include_colab_link": true
    },
    "kernelspec": {
      "display_name": "Python 3 (ipykernel)",
      "language": "python",
      "name": "python3"
    },
    "language_info": {
      "codemirror_mode": {
        "name": "ipython",
        "version": 3
      },
      "file_extension": ".py",
      "mimetype": "text/x-python",
      "name": "python",
      "nbconvert_exporter": "python",
      "pygments_lexer": "ipython3",
      "version": "3.9.7"
    }
  },
  "nbformat": 4,
  "nbformat_minor": 5
}