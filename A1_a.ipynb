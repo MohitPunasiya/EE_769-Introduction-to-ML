{
  "cells": [
    {
      "cell_type": "markdown",
      "metadata": {
        "id": "view-in-github",
        "colab_type": "text"
      },
      "source": [
        "<a href=\"https://colab.research.google.com/github/MohitPunasiya/EE_769-Introduction-to-ML/blob/main/A1_a.ipynb\" target=\"_parent\"><img src=\"https://colab.research.google.com/assets/colab-badge.svg\" alt=\"Open In Colab\"/></a>"
      ]
    },
    {
      "cell_type": "markdown",
      "metadata": {
        "deletable": false,
        "editable": false,
        "nbgrader": {
          "cell_type": "markdown",
          "checksum": "2a747369b91572b4ada4e32643e31bca",
          "grade": false,
          "grade_id": "Title",
          "locked": true,
          "schema_version": 3,
          "solution": false,
          "task": false
        },
        "id": "NxmccC1PwE30"
      },
      "source": [
        "#**EE769 Introduction to Machine Learning**\n",
        "\n",
        "#Assignment 1: Gradient Descent, Linear Regression, and Regularization\n",
        "\n",
        "\n",
        "**Template and Instructions**\n",
        "\n",
        "\n",
        "\n",
        "1. Up to two people can team up, but only one should submit, and both should understand the entire code.\n",
        "2. Every line of code should end in a comment explaining the line\n",
        "3. It is recommended to solve the assignment in Google Colab.\n",
        "Write your roll no.s separated by commas here: \n",
        "4. Write your names here: \n",
        "5. There are two parts to the assignment. In the Part 1, the code format has to be strictly followed to enable auto-grading. In the second part, you can be creative.\n",
        "6. **You can discuss with other groups or refer to the internet without being penalized, but you cannot copy their code and modify it. Write every line of code and comment on your own.**"
      ]
    },
    {
      "cell_type": "markdown",
      "metadata": {
        "deletable": false,
        "editable": false,
        "nbgrader": {
          "cell_type": "markdown",
          "checksum": "cae69541658b406d495bcffe0b7c0932",
          "grade": false,
          "grade_id": "cell-aa1aa8c8181f8810",
          "locked": true,
          "schema_version": 3,
          "solution": false,
          "task": false
        },
        "id": "0OD_eKsBwE35"
      },
      "source": [
        "#**Part 1 begins ...**\n",
        "**Instructions to be strictly followed:**\n",
        "\n",
        "1. Do not add any code cells or markdown cells until the end of this part. Especially, do not change the blocks that say \"TEST CASES, DO NOT CHANGE\"\n",
        "2. In all other cells only add code where it says \"CODE HERE\".\n",
        "3. If you encounter any raise NotImplementedError() calls you may comment them out.\n",
        "\n",
        "We cannot ensure correct grading if you change anything else, and you may be penalised for not following these instructions."
      ]
    },
    {
      "cell_type": "markdown",
      "metadata": {
        "deletable": false,
        "editable": false,
        "nbgrader": {
          "cell_type": "markdown",
          "checksum": "0ecbf8e96219ab11b7716eaae61cb7f9",
          "grade": false,
          "grade_id": "cell-1e940101f37c7af2",
          "locked": true,
          "schema_version": 3,
          "solution": false,
          "task": false
        },
        "id": "w7qpdxsKwE35"
      },
      "source": [
        "## Import Statements"
      ]
    },
    {
      "cell_type": "code",
      "execution_count": null,
      "metadata": {
        "deletable": false,
        "editable": false,
        "nbgrader": {
          "cell_type": "code",
          "checksum": "fe70877a859ee0a10e9d591778022f8a",
          "grade": false,
          "grade_id": "Import_Statements",
          "locked": true,
          "schema_version": 3,
          "solution": false,
          "task": false
        },
        "id": "dHso7imSwE36"
      },
      "outputs": [],
      "source": [
        "import numpy as np\n",
        "import pandas as pd\n",
        "from matplotlib import pyplot as plt\n"
      ]
    },
    {
      "cell_type": "markdown",
      "metadata": {
        "deletable": false,
        "editable": false,
        "nbgrader": {
          "cell_type": "markdown",
          "checksum": "e36a214573fc40f26b45e72215d61375",
          "grade": false,
          "grade_id": "Normalize_Title",
          "locked": true,
          "schema_version": 3,
          "solution": false,
          "task": false
        },
        "id": "g3gBfo2swE37"
      },
      "source": [
        "## Normalize function \n",
        "\n"
      ]
    },
    {
      "cell_type": "code",
      "execution_count": null,
      "metadata": {
        "deletable": false,
        "nbgrader": {
          "cell_type": "code",
          "checksum": "42293dda356d746ac19e9b6d81106261",
          "grade": false,
          "grade_id": "Normalize_Function",
          "locked": false,
          "schema_version": 3,
          "solution": true,
          "task": false
        },
        "id": "Bk3JneVYwE37"
      },
      "outputs": [],
      "source": [
        "def Normalize(X): # Output should be a normalized data matrix of the same dimension\n",
        "    '''\n",
        "    Normalize all columns of X using mean and standard deviation\n",
        "    '''\n",
        "    # YOUR CODE HERE\n",
        "    return((X-X.mean(axis=0))/X.std(axis=0))  #X.mean to take means along columns and X.std to take SD along columns\n",
        "    #raise NotImplementedError()"
      ]
    },
    {
      "cell_type": "code",
      "execution_count": null,
      "metadata": {
        "deletable": false,
        "editable": false,
        "nbgrader": {
          "cell_type": "code",
          "checksum": "7797dd606a68f028c945acd08850d108",
          "grade": true,
          "grade_id": "Normalize_Test",
          "locked": true,
          "points": 5,
          "schema_version": 3,
          "solution": false,
          "task": false
        },
        "id": "q642rn7DwE38"
      },
      "outputs": [],
      "source": [
        "'''\n",
        "TEST CASES, DO NOT CHANGE\n",
        "'''\n",
        "''' case 1 - 1 dimensional array'''\n",
        "#X=np.array([[1,2,3],[3,4,5],[7,8,9]])\n",
        "X1=np.array([1,2,3])\n",
        "np.testing.assert_array_almost_equal(Normalize(X1),np.array([-1.224,  0.      ,  1.224]),decimal=3)\n",
        "''' case 2 - 2 dimensional array'''\n",
        "X2=np.array([[4,7,6],[3,8,9],[5,11,10]])\n",
        "np.testing.assert_array_almost_equal(Normalize(X2),np.array([[ 0.  , -0.980581, -1.372813],[-1.224745, -0.392232,  0.392232],[ 1.224745,  1.372813,  0.980581]]))\n",
        "''' case 3 - 1 dimensional array with float'''\n",
        "X3=np.array([5.5,6.7,3.2,6.7])\n",
        "np.testing.assert_array_almost_equal(Normalize(X3),np.array([-0.017,  0.822, -1.627,  0.822]),decimal=3)"
      ]
    },
    {
      "cell_type": "markdown",
      "metadata": {
        "deletable": false,
        "editable": false,
        "nbgrader": {
          "cell_type": "markdown",
          "checksum": "63ee774a26a0438a0b2f5ec298eac80e",
          "grade": false,
          "grade_id": "cell-66ab98f84d3c58fa",
          "locked": true,
          "schema_version": 3,
          "solution": false,
          "task": false
        },
        "id": "f6q_WFsSwE39"
      },
      "source": [
        "## Prediction Function\n",
        "\n",
        "Given X and w, compute the predicted output. Do not forget to add 1's in X"
      ]
    },
    {
      "cell_type": "code",
      "execution_count": null,
      "metadata": {
        "deletable": false,
        "nbgrader": {
          "cell_type": "code",
          "checksum": "5976e32bd96bc4bdc2b2efd61e98441c",
          "grade": false,
          "grade_id": "Prediction",
          "locked": false,
          "schema_version": 3,
          "solution": true,
          "task": false
        },
        "id": "wQE3bg6lwE3-"
      },
      "outputs": [],
      "source": [
        "def Prediction (X, w): # Output should be a prediction vector y\n",
        "    '''\n",
        "    Compute Prediction given an input datamatrix X and weight vecor w. Output y = [X 1]w where 1 is a vector of all 1s \n",
        "    '''\n",
        "    # YOUR CODE HERE\n",
        "    ones = np.ones((X.shape[0],1)) #creating an array of (m*1) of all ones, with same number of raws(m) \n",
        "    X = np.hstack((X,ones))        #stacking ones horizontally to X to make coefficient of bias weight as 1\n",
        "    y = X.dot(w)                   #Getting the prediction, through multiplying each data point to corresponding weights\n",
        "    return(y)                      #returning the vector y\n",
        "    #raise NotImplementedError()\n"
      ]
    },
    {
      "cell_type": "code",
      "execution_count": null,
      "metadata": {
        "deletable": false,
        "editable": false,
        "nbgrader": {
          "cell_type": "code",
          "checksum": "741f088432fb2ac3c49d3c9711d5c9c5",
          "grade": true,
          "grade_id": "PredictionTest",
          "locked": true,
          "points": 5,
          "schema_version": 3,
          "solution": false,
          "task": false
        },
        "id": "FGqXoksvwE3-"
      },
      "outputs": [],
      "source": [
        "'''\n",
        "TEST CASES, DO NOT CHANGE\n",
        "'''\n",
        "''' case 1 - Known input output matrix and weights 1'''\n",
        "X1 = np.array([[3,2],[1,1]])\n",
        "w1 = np.array([2,1,1]) \n",
        "np.testing.assert_array_equal(Prediction(X1,w1),np.array([9,4]))\n"
      ]
    },
    {
      "cell_type": "markdown",
      "metadata": {
        "deletable": false,
        "editable": false,
        "nbgrader": {
          "cell_type": "markdown",
          "checksum": "227f6e0da2f8c6d631599c44041e3b65",
          "grade": false,
          "grade_id": "cell-6fda2832d5967072",
          "locked": true,
          "schema_version": 3,
          "solution": false,
          "task": false
        },
        "id": "OEOOFQlywE3_"
      },
      "source": [
        "## Loss Functions\n",
        "\n",
        "Code the four  loss functions:\n",
        "\n",
        "1. MSE loss is only for the error\n",
        "2. MAE loss is only for the error\n",
        "3. L2 loss is for MSE and L2 regularization, and can call MSE loss\n",
        "4. L1 loss is for MSE and L1 regularization, and can call MSE loss"
      ]
    },
    {
      "cell_type": "code",
      "execution_count": null,
      "metadata": {
        "deletable": false,
        "nbgrader": {
          "cell_type": "code",
          "checksum": "2c3e17b8559f0dfdfecdc8d242aba152",
          "grade": false,
          "grade_id": "MSE_Loss",
          "locked": false,
          "schema_version": 3,
          "solution": true,
          "task": false
        },
        "id": "FD7MEfCpwE3_"
      },
      "outputs": [],
      "source": [
        "def MSE_Loss (X, t, w, lamda =0): # Ouput should be a single number\n",
        "    '''\n",
        "    lamda=0 is a default argument to prevent errors if you pass lamda to a function that doesn't need it by mistake. \n",
        "    This allows us to call all loss functions with the same input format.\n",
        "    \n",
        "    You are encouraged read about default arguments by yourself online if you're not familiar.\n",
        "    '''\n",
        "    # YOUR CODE HERE\n",
        "    ones = np.ones((X.shape[0],1))\n",
        "    X = np.hstack((X,ones))                   #stacking ones horizontally to X to make coefficient of bias weight as 1\n",
        "    MSE_loss = np.sum((t - X.dot(w))**2) / X.shape[0]   #Calculating mean square error losses\n",
        "    return(MSE_loss)\n",
        "    raise NotImplementedError()"
      ]
    },
    {
      "cell_type": "code",
      "execution_count": null,
      "metadata": {
        "deletable": false,
        "editable": false,
        "nbgrader": {
          "cell_type": "code",
          "checksum": "923a1372a401b41d6ef6b0749a49ff66",
          "grade": true,
          "grade_id": "MSE_Loss_Test",
          "locked": true,
          "points": 2,
          "schema_version": 3,
          "solution": false,
          "task": false
        },
        "id": "U2cO-1DBwE4A"
      },
      "outputs": [],
      "source": [
        "'''\n",
        "TEST CASES, DO NOT CHANGE\n",
        "'''\n",
        "''' case 1 '''\n",
        "X=np.array([[3,6,5],[4.5,6.6,6]])\n",
        "t=np.array([4,5.5])\n",
        "w=np.array([2,-1,0.5,1])\n",
        "np.testing.assert_almost_equal(MSE_Loss(X,t,w),0.53,decimal=3)\n"
      ]
    },
    {
      "cell_type": "code",
      "execution_count": null,
      "metadata": {
        "deletable": false,
        "nbgrader": {
          "cell_type": "code",
          "checksum": "b0b3b381c7a3ac5d7dfbb5df647c0d85",
          "grade": false,
          "grade_id": "MAE_Loss",
          "locked": false,
          "schema_version": 3,
          "solution": true,
          "task": false
        },
        "id": "09-notFDwE4A"
      },
      "outputs": [],
      "source": [
        "def MAE_Loss (X, t, w, lamda = 0): # Output should be a single number\n",
        "    # YOUR CODE HERE\n",
        "    ones = np.ones((X.shape[0],1))  \n",
        "    X = np.hstack((X,ones))    #stacking ones horizontally to X to make coefficient of bias weight as 1\n",
        "    MAE_loss = np.sum(abs(t - X.dot(w))) / X.shape[0]  #Calculating mean absolute error, X.shape[0] gives the number of data points\n",
        "    return(MAE_loss) \n",
        "    #raise NotImplementedError()"
      ]
    },
    {
      "cell_type": "code",
      "execution_count": null,
      "metadata": {
        "deletable": false,
        "editable": false,
        "nbgrader": {
          "cell_type": "code",
          "checksum": "f11d5fde7220893a9809f2954d18c5e5",
          "grade": true,
          "grade_id": "MAE_Loss_Test",
          "locked": true,
          "points": 2,
          "schema_version": 3,
          "solution": false,
          "task": false
        },
        "id": "BegnaipDwE4A"
      },
      "outputs": [],
      "source": [
        "'''\n",
        "TEST CASES, DO NOT CHANGE\n",
        "'''\n",
        "''' case 1 '''\n",
        "X=np.array([[3,6,5],[4.5,6.6,6]])\n",
        "t=np.array([4,5.5])\n",
        "w=np.array([2,-1,0.5,1])\n",
        "np.testing.assert_almost_equal(MAE_Loss(X,t,w),0.700,decimal=3)\n"
      ]
    },
    {
      "cell_type": "code",
      "execution_count": null,
      "metadata": {
        "deletable": false,
        "nbgrader": {
          "cell_type": "code",
          "checksum": "a8309762ea56bb6b24bbbf4a19cb16bc",
          "grade": false,
          "grade_id": "L2_Loss",
          "locked": false,
          "schema_version": 3,
          "solution": true,
          "task": false
        },
        "id": "qFOa8aCAwE4B"
      },
      "outputs": [],
      "source": [
        "def L2_Loss (X, t, w, lamda): # Output should be a single number based on L2-norm (with sqrt)\n",
        "    ''' Need to specify what inputs are'''\n",
        "    # YOUR CODE HERE\n",
        "    ones = np.ones((X.shape[0],1))\n",
        "    X = np.hstack((X,ones))\n",
        "    MSE_loss = np.sum((t - X.dot(w))**2) / X.shape[0] \n",
        "    #L2_regulatisation loss = MSE loss + reglarisation term |Thetha|\n",
        "    L2_loss = MSE_loss + lamda*(np.sum((w[:-1])**2)**0.5) #bias term is not regularised\n",
        "    return(L2_loss)\n",
        "    #raise NotImplementedError()"
      ]
    },
    {
      "cell_type": "code",
      "execution_count": null,
      "metadata": {
        "deletable": false,
        "editable": false,
        "nbgrader": {
          "cell_type": "code",
          "checksum": "a5a409056f6797cdf8cbfab61b138c37",
          "grade": true,
          "grade_id": "L2_Loss_Test",
          "locked": true,
          "points": 2,
          "schema_version": 3,
          "solution": false,
          "task": false
        },
        "id": "jC-WVzAzwE4B"
      },
      "outputs": [],
      "source": [
        "'''\n",
        "TEST CASES, DO NOT CHANGE\n",
        "'''\n",
        "''' case 1 '''\n",
        "X=np.array([[3,6,5],[4.5,6.6,6]])\n",
        "t=np.array([4,5.5])\n",
        "w=np.array([2,-1,0.5,1])\n",
        "np.testing.assert_almost_equal(L2_Loss(X,t,w,0.5),1.675,decimal=3)\n"
      ]
    },
    {
      "cell_type": "code",
      "execution_count": null,
      "metadata": {
        "deletable": false,
        "nbgrader": {
          "cell_type": "code",
          "checksum": "1af69c123815524cdc71c72e09ece638",
          "grade": false,
          "grade_id": "L1_Loss",
          "locked": false,
          "schema_version": 3,
          "solution": true,
          "task": false
        },
        "id": "iw5t76vEwE4B"
      },
      "outputs": [],
      "source": [
        "def L1_Loss (X, t, w, lamda): # Output should be a single number\n",
        "    # YOUR CODE HERE\n",
        "    ones = np.ones((X.shape[0],1))\n",
        "    X = np.hstack((X,ones))\n",
        "    MSE_loss = np.sum((t - X.dot(w))**2) / X.shape[0] #Calculating MSE_loss\n",
        "    #L1 loss = MSE loss + reglarisation term |weights| except bias term\n",
        "    L1_loss = MSE_loss + lamda*(np.sum(abs(w[:-1])))\n",
        "    return(L1_loss)\n",
        "    #raise NotImplementedError()"
      ]
    },
    {
      "cell_type": "code",
      "execution_count": null,
      "metadata": {
        "deletable": false,
        "editable": false,
        "nbgrader": {
          "cell_type": "code",
          "checksum": "40224dd69dd8e6499a67271c33701bf4",
          "grade": true,
          "grade_id": "L1_Loss_Test",
          "locked": true,
          "points": 2,
          "schema_version": 3,
          "solution": false,
          "task": false
        },
        "id": "aIAoypTkwE4B"
      },
      "outputs": [],
      "source": [
        "'''\n",
        "TEST CASES, DO NOT CHANGE\n",
        "'''\n",
        "''' case 1 '''\n",
        "X=np.array([[3,6,5],[4.5,6.6,6]])\n",
        "t=np.array([4,5.5])\n",
        "w=np.array([2,-1,0.5,1])\n",
        "np.testing.assert_almost_equal(L1_Loss(X,t,w,0.5),2.280,decimal=3)\n"
      ]
    },
    {
      "cell_type": "code",
      "execution_count": null,
      "metadata": {
        "deletable": false,
        "nbgrader": {
          "cell_type": "code",
          "checksum": "855bd2ded492e567b20f1d9705d9a97a",
          "grade": false,
          "grade_id": "NRMSE_Metric",
          "locked": false,
          "schema_version": 3,
          "solution": true,
          "task": false
        },
        "id": "48KVGGCpwE4C"
      },
      "outputs": [],
      "source": [
        "def NRMSE_Metric (X, t, w, lamda=0): # Output should be a single number. RMSE/std_dev(t)\n",
        "    # YOUR CODE HERE\n",
        "    ones = np.ones((X.shape[0],1))\n",
        "    X = np.hstack((X,ones))    #stacking ones horizontally to X to make coefficient of bias weight as 1\n",
        "    NRMSE = ((np.sum((t-X.dot(w))**2)/t.shape[0])**0.5)/ t.std() #calculating NRMSE which is (RMSE)/(standard deviation of observations)\n",
        "    return(NRMSE)\n",
        "    #raise NotImplementedError()\n",
        "    ##Reference take : https://www.marinedatascience.co/blog/2019/01/07/normalizing-the-rmse/"
      ]
    },
    {
      "cell_type": "code",
      "execution_count": null,
      "metadata": {
        "deletable": false,
        "editable": false,
        "nbgrader": {
          "cell_type": "code",
          "checksum": "256795799ceb6dfa0b32ab75e8ef30c4",
          "grade": true,
          "grade_id": "NRMSE_Metric_Test",
          "locked": true,
          "points": 2,
          "schema_version": 3,
          "solution": false,
          "task": false
        },
        "id": "W0T0BVKxwE4C"
      },
      "outputs": [],
      "source": [
        "'''\n",
        "TEST CASES, DO NOT CHANGE\n",
        "'''\n",
        "''' Test case 1 '''\n",
        "X=np.array([[3,6,5],[4.5,6.6,6]])\n",
        "t=np.array([4,5.5])\n",
        "w=np.array([2,-1,0.5,1])\n",
        "np.testing.assert_almost_equal(NRMSE_Metric(X,t,w,0.5),0.970,decimal=3)\n"
      ]
    },
    {
      "cell_type": "markdown",
      "metadata": {
        "deletable": false,
        "editable": false,
        "nbgrader": {
          "cell_type": "markdown",
          "checksum": "cc5df30e29bbe17d4bc7aa89210eb5cf",
          "grade": false,
          "grade_id": "Gradient_Title",
          "locked": true,
          "schema_version": 3,
          "solution": false,
          "task": false
        },
        "id": "Gf9Q1s-MwE4C"
      },
      "source": [
        "## Gradient function\n",
        "Each Loss function will have its own gradient function:\n",
        "\n",
        "1. MSE gradient is only for the error\n",
        "2. MAE gradient is only for the error\n",
        "3. L2 gradient is for MSE and L2 regularization, and can call MSE gradient\n",
        "4. L1 gradient is for MSE and L1 regularization, and can call MSE gradient"
      ]
    },
    {
      "cell_type": "code",
      "execution_count": null,
      "metadata": {
        "deletable": false,
        "nbgrader": {
          "cell_type": "code",
          "checksum": "0190492ee216edce701f93e697572fc1",
          "grade": false,
          "grade_id": "MSE_Gradient",
          "locked": false,
          "schema_version": 3,
          "solution": true,
          "task": false
        },
        "id": "lPAcFCY-wE4C"
      },
      "outputs": [],
      "source": [
        "def MSE_Gradient (X, t, w, lamda=0): # Output should have the same size as w\n",
        "    # YOUR CODE HERE\n",
        "    ones = np.ones((X.shape[0],1)) \n",
        "    X = np.hstack((X,ones))            #stacking vector of all ones to make coefficient of bias term 1\n",
        "    Gradient = np.ones(w.shape[0])     #creating another vector to store the gradients corresponding to each weight\n",
        "    for i in range(w.shape[0]):        #setting loop to go for all weights\n",
        "        Gradient[i]=(2/X.shape[0])*np.sum((X.dot(w)-t)*X[:,i])  #This is the formulae of gradient\n",
        "    return(Gradient)                   #returning vector of gradient\n",
        "    #raise NotImplementedError()"
      ]
    },
    {
      "cell_type": "code",
      "execution_count": null,
      "metadata": {
        "deletable": false,
        "editable": false,
        "nbgrader": {
          "cell_type": "code",
          "checksum": "d61466927592a8776a8bfa688472bad4",
          "grade": true,
          "grade_id": "MSE_Gradient_Test",
          "locked": true,
          "points": 3,
          "schema_version": 3,
          "solution": false,
          "task": false
        },
        "id": "xXGi-KGAwE4D"
      },
      "outputs": [],
      "source": [
        "'''\n",
        "TEST CASES, DO NOT CHANGE\n",
        "'''\n",
        "''' case 1 '''\n",
        "X=np.array([[3,6,5],[4.5,6.6,6]])\n",
        "t=np.array([4,5.5])\n",
        "w=np.array([2,-1,0.5,1])\n",
        "np.testing.assert_array_almost_equal(MSE_Gradient(X,t,w),np.array([2.55, 2.94, 2.9 , 0.4 ]),decimal=3)\n"
      ]
    },
    {
      "cell_type": "code",
      "execution_count": null,
      "metadata": {
        "deletable": false,
        "nbgrader": {
          "cell_type": "code",
          "checksum": "49cc4e37cafad52f41853b4b0e71f89f",
          "grade": false,
          "grade_id": "MAE_Gradient",
          "locked": false,
          "schema_version": 3,
          "solution": true,
          "task": false
        },
        "id": "yY0LrcF0wE4D"
      },
      "outputs": [],
      "source": [
        "def MAE_Gradient (X, t, w, lamda=0): # Output should have the same size as w\n",
        "    # YOUR CODE HERE\n",
        "    ones = np.ones((X.shape[0],1))\n",
        "    X = np.hstack((X,ones))  #stacking ones as last column\n",
        "    gradient = (1/t.shape[0])*np.dot(X.T,np.sign(np.dot(X,w)-t))   #MAE Gradient formula\n",
        "    return(gradient)\n",
        "    #raise NotImplementedError()"
      ]
    },
    {
      "cell_type": "code",
      "execution_count": null,
      "metadata": {
        "deletable": false,
        "editable": false,
        "nbgrader": {
          "cell_type": "code",
          "checksum": "e1d418bf5351112ae8716877f8bb6359",
          "grade": true,
          "grade_id": "MAE_Gradient_Test",
          "locked": true,
          "points": 3,
          "schema_version": 3,
          "solution": false,
          "task": false
        },
        "id": "hmRaTWTHwE4D"
      },
      "outputs": [],
      "source": [
        "'''\n",
        "TEST CASES, DO NOT CHANGE\n",
        "'''\n",
        "''' case 1 '''\n",
        "X=np.array([[3,6,5],[4.5,6.6,6]])\n",
        "t=np.array([4,5.5])\n",
        "w=np.array([2,-1,0.5,1])\n",
        "np.testing.assert_array_almost_equal(MAE_Gradient(X,t,w),np.array([0.75,  0.3 ,  0.5 , 0.]),decimal=3)\n"
      ]
    },
    {
      "cell_type": "code",
      "execution_count": null,
      "metadata": {
        "deletable": false,
        "nbgrader": {
          "cell_type": "code",
          "checksum": "595829c0dd17df55a03d346fac507b4a",
          "grade": false,
          "grade_id": "L2_Gradient",
          "locked": false,
          "schema_version": 3,
          "solution": true,
          "task": false
        },
        "id": "qPAPbDsKwE4D"
      },
      "outputs": [],
      "source": [
        "def L2_Gradient (X, t, w, lamda): # Output should have the same size as w\n",
        "    # YOUR CODE HERE\n",
        "    #L2 gradient will be MSE gradient + lamda* gradient of regularisation term,without bias term\n",
        "    MSE_grad = MSE_Gradient(X,t,w)  #calling MSE Gradient function to get Gradient vector of MSE part in loss function\n",
        "    L2_Gradient= np.append(MSE_grad[:-1]+(lamda/np.sqrt(np.sum(w[:-1]**2)))*w[:-1],[MSE_grad[-1]])  #Adding gradient of regularisation term for all terms except bias of regularised term, MSE bias element has been appended later\n",
        "    return(L2_Gradient) #returning the Vector\n",
        "    #raise NotImplementedError()"
      ]
    },
    {
      "cell_type": "code",
      "execution_count": null,
      "metadata": {
        "deletable": false,
        "editable": false,
        "nbgrader": {
          "cell_type": "code",
          "checksum": "f292b42c3389b24e369234a7210b87bb",
          "grade": true,
          "grade_id": "L2_Gradient_Test",
          "locked": true,
          "points": 3,
          "schema_version": 3,
          "solution": false,
          "task": false
        },
        "id": "1lmOfW9kwE4E"
      },
      "outputs": [],
      "source": [
        "'''\n",
        "TEST CASES, DO NOT CHANGE\n",
        "'''\n",
        "''' case 1 '''\n",
        "X=np.array([[3,6,5],[4.5,6.6,6]])\n",
        "t=np.array([4,5.5])\n",
        "w=np.array([2,-1,0.5,1])\n",
        "np.testing.assert_array_almost_equal(L2_Gradient(X,t,w,0.5),np.array([2.986, 2.721, 3.009 , 0.4 ]),decimal=3)\n"
      ]
    },
    {
      "cell_type": "code",
      "execution_count": null,
      "metadata": {
        "deletable": false,
        "nbgrader": {
          "cell_type": "code",
          "checksum": "141736f1feda5aa225e008d749f0015c",
          "grade": false,
          "grade_id": "L1_Gradient",
          "locked": false,
          "schema_version": 3,
          "solution": true,
          "task": false
        },
        "id": "L61EIEWTwE4E"
      },
      "outputs": [],
      "source": [
        "def L1_Gradient (X, t, w, lamda): # Output should have the same size as w\n",
        "    # YOUR CODE HERE\n",
        "    MSE_grad = MSE_Gradient(X,t,w)  #calling MSE Gradient function to get Gradient vector of MSE part in loss function\n",
        "    L1_Gradient= np.append(MSE_grad[:-1]+lamda*np.sign(w[:-1]),[MSE_grad[-1]]) #Adding gradient of regularisation term for all terms except bias of regularised term, MSE bias element has been appended later\n",
        "    return(L1_Gradient)\n",
        "    #raise NotImplementedError()"
      ]
    },
    {
      "cell_type": "code",
      "execution_count": null,
      "metadata": {
        "deletable": false,
        "editable": false,
        "nbgrader": {
          "cell_type": "code",
          "checksum": "9097b61320e470f429a9f46c7da0b219",
          "grade": true,
          "grade_id": "L1_Gradient_Test",
          "locked": true,
          "points": 3,
          "schema_version": 3,
          "solution": false,
          "task": false
        },
        "id": "etHHUgB0wE4E"
      },
      "outputs": [],
      "source": [
        "'''\n",
        "TEST CASES, DO NOT CHANGE\n",
        "'''\n",
        "''' case 1 '''\n",
        "X=np.array([[3,6,5],[4.5,6.6,6]])\n",
        "t=np.array([4,5.5])\n",
        "w=np.array([2,-1,0.5,1])\n",
        "np.testing.assert_array_almost_equal(L1_Gradient(X,t,w,0.5),np.array([3.05, 2.44, 3.4 , 0.4 ]),decimal=3)\n"
      ]
    },
    {
      "cell_type": "markdown",
      "metadata": {
        "deletable": false,
        "editable": false,
        "nbgrader": {
          "cell_type": "markdown",
          "checksum": "1980a2f831b5e1ddc9b510c22ef502c7",
          "grade": false,
          "grade_id": "Gradient_Desc_Title",
          "locked": true,
          "schema_version": 3,
          "solution": false,
          "task": false
        },
        "id": "smVJcDozwE4E"
      },
      "source": [
        "## Gradient Descent Function\n"
      ]
    },
    {
      "cell_type": "code",
      "execution_count": null,
      "metadata": {
        "deletable": false,
        "nbgrader": {
          "cell_type": "code",
          "checksum": "78cdd5ffa4590c10e19281722ccd537f",
          "grade": false,
          "grade_id": "Gradient_Descent",
          "locked": false,
          "schema_version": 3,
          "solution": true,
          "task": false
        },
        "id": "sNKuzmjVwE4E"
      },
      "outputs": [],
      "source": [
        "def Gradient_Descent (X, X_val, t, t_val, w, lamda, max_iter, epsilon, lr, lossfunc, gradfunc): # See output format in 'return' statement\n",
        "    # YOUR CODE HERE\n",
        "    w_prev = np.zeros(w.shape[0])  #initialising with zero weights\n",
        "    i = 0 \n",
        "    while abs(lossfunc(X,t,w_prev,lamda)- lossfunc(X,t,w,lamda)) >= epsilon and i <= max_iter :\n",
        "                      w_prev = w\n",
        "                      w = w - lr*gradfunc(X,t,w,lamda)\n",
        "                      i = i + 1\n",
        "    \n",
        "    w_final = w\n",
        "    train_loss_final = lossfunc(X,t,w_final,lamda)              #storing training loss\n",
        "    validation_loss_final = lossfunc(X_val,t_val,w_final,lamda) #storing validation loss\n",
        "    validation_NRMSE = NRMSE_Metric(X_val,t_val,w_final)        #storing Validation NRMSE\n",
        "    return w_final, train_loss_final, validation_loss_final, validation_NRMSE #You should return variables structured like this.\n",
        "    #raise NotImplementedError()"
      ]
    },
    {
      "cell_type": "code",
      "execution_count": null,
      "metadata": {
        "deletable": false,
        "editable": false,
        "nbgrader": {
          "cell_type": "code",
          "checksum": "15a67336bed20a51f33820bf615186e8",
          "grade": true,
          "grade_id": "Gradient_Check",
          "locked": true,
          "points": 20,
          "schema_version": 3,
          "solution": false,
          "task": false
        },
        "id": "Ee9bMIvwwE4E"
      },
      "outputs": [],
      "source": [
        "'''\n",
        "TEST CASES, DO NOT CHANGE\n",
        "'''\n",
        "X=np.array([[23,24],[1,2]])\n",
        "t=np.array([4,5])\n",
        "X_val=np.array([[3,4],[5,6]])\n",
        "t_val=np.array([3,4])\n",
        "w=np.array([3,2,1])\n",
        "results =Gradient_Descent (X, X_val, t, t_val, w, 0.1, 100, 1e-10, 1e-5, L2_Loss,L2_Gradient) \n",
        "np.testing.assert_allclose([results[1]],[697.919],rtol =0.05)\n",
        "np.testing.assert_allclose([results[2]],[20],atol=5) # we expect around 17.5  but some students got 24 which we will also accept\n",
        "#Instructor Values of results[1] and results [2] are 697.919 and 17.512 respectively"
      ]
    },
    {
      "cell_type": "markdown",
      "metadata": {
        "deletable": false,
        "editable": false,
        "nbgrader": {
          "cell_type": "markdown",
          "checksum": "24f327aa6a14590077f907ee8323724c",
          "grade": false,
          "grade_id": "PseudoInvTitle",
          "locked": true,
          "schema_version": 3,
          "solution": false,
          "task": false
        },
        "id": "Ml38j2WGwE4F"
      },
      "source": [
        "## Pseudo Inverse Method\n",
        "\n",
        "You have to implement a slightly more advanced version, with L2 penalty:\n",
        "\n",
        "w = (X' X + lambda I)^(-1) X' t.\n",
        "\n",
        "See, for example: Section 2 of https://web.mit.edu/zoya/www/linearRegression.pdf\n",
        "\n",
        "Here, the column of 1's in assumed to be included in X"
      ]
    },
    {
      "cell_type": "code",
      "execution_count": null,
      "metadata": {
        "deletable": false,
        "nbgrader": {
          "cell_type": "code",
          "checksum": "928c9b105c4bcf3c132c7520a140d509",
          "grade": false,
          "grade_id": "PseudoInv",
          "locked": false,
          "schema_version": 3,
          "solution": true,
          "task": false
        },
        "id": "mDPlURdpwE4F"
      },
      "outputs": [],
      "source": [
        "def Pseudo_Inverse (X, t, lamda): # Output should be weight vector\n",
        "    # YOUR CODE HERE\n",
        "    ones = np.ones((X.shape[0],1)) \n",
        "    X = np.hstack((X,ones))\n",
        "    n = X.shape[1]\n",
        "    w = np.dot(np.linalg.pinv(np.dot(X.T,X) +lamda * np.eye(n)),np.dot(X.T,t))\n",
        "    return(w)\n",
        "    #raise NotImplementedError()"
      ]
    },
    {
      "cell_type": "code",
      "execution_count": null,
      "metadata": {
        "deletable": false,
        "editable": false,
        "nbgrader": {
          "cell_type": "code",
          "checksum": "a5178b8280650ed5d1d55dc6bbb38a29",
          "grade": true,
          "grade_id": "PseudoInvTest",
          "locked": true,
          "points": 10,
          "schema_version": 3,
          "solution": false,
          "task": false
        },
        "id": "7zL7tCd1wE4F"
      },
      "outputs": [],
      "source": [
        "'''\n",
        "TEST CASES, DO NOT CHANGE\n",
        "'''\n",
        "''' case 1 - other data'''\n",
        "X=np.array([[3,6,5],[4.5,6.6,6]])\n",
        "t=np.array([4,5.5])\n",
        "np.testing.assert_array_almost_equal(Pseudo_Inverse(X,t,0.5),np.array([ 0.491,  0.183,  0.319, -0.002]),decimal=3)"
      ]
    },
    {
      "cell_type": "markdown",
      "metadata": {
        "deletable": false,
        "editable": false,
        "nbgrader": {
          "cell_type": "markdown",
          "checksum": "8748fcc0dc96df6e7bb48a4e315927d3",
          "grade": false,
          "grade_id": "cell-e0fa02d7eecfb851",
          "locked": true,
          "schema_version": 3,
          "solution": false,
          "task": false
        },
        "id": "Q7GiKaplwE4F"
      },
      "source": [
        "#... Part 1 ends Below this you be more creative. Just comment out the lines where you save files (e.g. test predictions)."
      ]
    },
    {
      "cell_type": "markdown",
      "metadata": {
        "deletable": false,
        "editable": false,
        "nbgrader": {
          "cell_type": "markdown",
          "checksum": "c9047f75587bfee6b7b0a4b244efc7fa",
          "grade": false,
          "grade_id": "cell-10f0d275f5cd36f6",
          "locked": true,
          "schema_version": 3,
          "solution": false,
          "task": false
        },
        "id": "LEv3UmgiwE4G"
      },
      "source": [
        "#**Part 2 begins ...**\n",
        "\n",
        "**Instructions to be loosely followed (except number 8):**\n",
        "\n",
        "1. Add more code and text cells between this and the last cell.\n",
        "2. Read training data from: https://www.ee.iitb.ac.in/~asethi/Dump/TempTrain.csv only. Do not use a local copy of the dataset.\n",
        "3. Find the best lamda for **MSE+lamda*L2(w)** loss function. Plot training and validation RMSE vs. 1/lamda (1/lamda represents model complexity). Print weights, validation RMSE, validation NRMSE for the best lamda.\n",
        "4. Find the best lamda for **MSE+lamda*L1(w)** loss function. Plot training and validation RMSE vs. 1/lamda (1/lamda represents model complexity). Print weights, validation RMSE, validation NRMSE for the best lamda.\n",
        "5. Find the best lamda for the **pseudo-inv method**. Plot training and validation RMSE vs. 1/lamda (1/lamda represents model complexity). Print weights, validation RMSE, validation NRMSE for the best lamda.\n",
        "6. Write your observations and conclusions.\n",
        "7. Read test data from: https://www.ee.iitb.ac.in/~asethi/Dump/TempTest.csv only. Do not use a local copy of the dataset. Predict its dependent (missing last column) using the model with the lowest MSE, RMSE, or NRMSE. Save it as a file RollNo1_RollNo2_1.csv.\n",
        "8. **Disable the prediction csv file saving statement and submit this entire .ipynb file, .py file, and .csv file as a single RollNo1_RollNo2_1.zip file.**\n"
      ]
    },
    {
      "cell_type": "code",
      "execution_count": null,
      "metadata": {
        "id": "uw0gvlQswE4G"
      },
      "outputs": [],
      "source": [
        "df = pd.read_csv('https://www.ee.iitb.ac.in/~asethi/Dump/TempTrain.csv')"
      ]
    },
    {
      "cell_type": "code",
      "execution_count": null,
      "metadata": {
        "id": "NpMy1bw5wE4G"
      },
      "outputs": [],
      "source": [
        "'''This code block splits data in training and validation set by randomisation each time when we run this block\n",
        "   training and validation data changes, training and validation data does not overlap anywhere'''\n",
        "\n",
        "train_size = 0.7  #input traininig data size\n",
        "X_TrainSample = df.sample(int(df.shape[0]*train_size)) #Taking random sample values of training data size from our whole data\n",
        "X_train = Normalize(X_TrainSample.drop(['Next_Tmax'],axis = 1)).to_numpy()  #Taking all X columns from our training data and converting DataFrame to np arrray after normalising X\n",
        "t_train = X_TrainSample['Next_Tmax'].to_numpy()   #Taking out corresponding true values for training set\n",
        "X_ValSample = df.drop(X_TrainSample.index,axis = 0) #Taking out validation data this excludes all the rows which we had taken for training\n",
        "X_val = Normalize(X_ValSample.drop(['Next_Tmax'],axis = 1)).to_numpy() #Getting Validation X\n",
        "t_val = X_ValSample['Next_Tmax'].to_numpy()  #Getting true observation for reliability\n",
        "wL2 = np.ones(df.shape[1])  #initialising with weights for"
      ]
    },
    {
      "cell_type": "markdown",
      "metadata": {
        "id": "0ThNdeVxwE4G"
      },
      "source": [
        "# Best Lamda for L2 Regularisation"
      ]
    },
    {
      "cell_type": "code",
      "execution_count": null,
      "metadata": {
        "id": "H7zp461NwE4G"
      },
      "outputs": [],
      "source": [
        "lamdas = np.arange(0.01,1,0.01) #getting an array of lamdas to try\n",
        "Array_final_L2 = np.ones((len(lamdas),22+3+2)) #creating an numpy array to store everything corresponding to lamdas\n",
        "for i,lamda in enumerate(lamdas):    \n",
        "    results = Gradient_Descent (X_train, X_val, t_train, t_val, wL2, lamda,200 ,1e-10, 1e-1, L2_Loss, L2_Gradient)\n",
        "    Array_final_L2[i,:22] = results[0]     #storing weights in array\n",
        "    Array_final_L2[i,22:25] = results[1:4] #Storing TrainLoss ValLoss and NRMSE in array\n",
        "    Array_final_L2[i,25:] = MSE_Loss(X_train,t_train,results[0]) , MSE_Loss(X_val,t_val,results[0]) ##storing MSE traning and validation loss"
      ]
    },
    {
      "cell_type": "code",
      "execution_count": null,
      "metadata": {
        "id": "guI1v4newE4G"
      },
      "outputs": [],
      "source": [
        "columns_name = ['w'+str(i) for i in np.arange(22)] + [ 'train_loss_final',' validation_loss_final', 'validation_NRMSE','MSE_Train_loss','MSE_val_loss']\n",
        "Final_DataFrame_L2 = pd.DataFrame(Array_final_L2,lamdas,columns_name) #the above line is to create column name and this line create a data frame which is shown below"
      ]
    },
    {
      "cell_type": "code",
      "execution_count": null,
      "metadata": {
        "scrolled": true,
        "id": "NPieCSbZwE4G",
        "outputId": "33f66572-b18a-41ba-a42d-5ed2a588472d"
      },
      "outputs": [
        {
          "data": {
            "text/html": [
              "<div>\n",
              "<style scoped>\n",
              "    .dataframe tbody tr th:only-of-type {\n",
              "        vertical-align: middle;\n",
              "    }\n",
              "\n",
              "    .dataframe tbody tr th {\n",
              "        vertical-align: top;\n",
              "    }\n",
              "\n",
              "    .dataframe thead th {\n",
              "        text-align: right;\n",
              "    }\n",
              "</style>\n",
              "<table border=\"1\" class=\"dataframe\">\n",
              "  <thead>\n",
              "    <tr style=\"text-align: right;\">\n",
              "      <th></th>\n",
              "      <th>w0</th>\n",
              "      <th>w1</th>\n",
              "      <th>w2</th>\n",
              "      <th>w3</th>\n",
              "      <th>w4</th>\n",
              "      <th>w5</th>\n",
              "      <th>w6</th>\n",
              "      <th>w7</th>\n",
              "      <th>w8</th>\n",
              "      <th>w9</th>\n",
              "      <th>...</th>\n",
              "      <th>w17</th>\n",
              "      <th>w18</th>\n",
              "      <th>w19</th>\n",
              "      <th>w20</th>\n",
              "      <th>w21</th>\n",
              "      <th>train_loss_final</th>\n",
              "      <th>validation_loss_final</th>\n",
              "      <th>validation_NRMSE</th>\n",
              "      <th>MSE_Train_loss</th>\n",
              "      <th>MSE_val_loss</th>\n",
              "    </tr>\n",
              "  </thead>\n",
              "  <tbody>\n",
              "    <tr>\n",
              "      <th>0.01</th>\n",
              "      <td>0.525534</td>\n",
              "      <td>0.099767</td>\n",
              "      <td>0.388369</td>\n",
              "      <td>-0.101826</td>\n",
              "      <td>1.807435</td>\n",
              "      <td>0.257393</td>\n",
              "      <td>-0.400126</td>\n",
              "      <td>0.245363</td>\n",
              "      <td>-0.314813</td>\n",
              "      <td>-0.250592</td>\n",
              "      <td>...</td>\n",
              "      <td>-0.120636</td>\n",
              "      <td>-0.212789</td>\n",
              "      <td>0.286804</td>\n",
              "      <td>0.042081</td>\n",
              "      <td>30.273737</td>\n",
              "      <td>2.026130</td>\n",
              "      <td>1.970650</td>\n",
              "      <td>0.463416</td>\n",
              "      <td>2.005057</td>\n",
              "      <td>1.949578</td>\n",
              "    </tr>\n",
              "    <tr>\n",
              "      <th>0.02</th>\n",
              "      <td>0.523812</td>\n",
              "      <td>0.102426</td>\n",
              "      <td>0.369553</td>\n",
              "      <td>-0.099252</td>\n",
              "      <td>1.780203</td>\n",
              "      <td>0.274447</td>\n",
              "      <td>-0.400321</td>\n",
              "      <td>0.245546</td>\n",
              "      <td>-0.316303</td>\n",
              "      <td>-0.251241</td>\n",
              "      <td>...</td>\n",
              "      <td>-0.118989</td>\n",
              "      <td>-0.210539</td>\n",
              "      <td>0.284756</td>\n",
              "      <td>0.044200</td>\n",
              "      <td>30.273737</td>\n",
              "      <td>2.047357</td>\n",
              "      <td>1.990695</td>\n",
              "      <td>0.463354</td>\n",
              "      <td>2.005720</td>\n",
              "      <td>1.949057</td>\n",
              "    </tr>\n",
              "    <tr>\n",
              "      <th>0.03</th>\n",
              "      <td>0.522183</td>\n",
              "      <td>0.105152</td>\n",
              "      <td>0.351388</td>\n",
              "      <td>-0.096805</td>\n",
              "      <td>1.753751</td>\n",
              "      <td>0.290748</td>\n",
              "      <td>-0.400490</td>\n",
              "      <td>0.245659</td>\n",
              "      <td>-0.317699</td>\n",
              "      <td>-0.251870</td>\n",
              "      <td>...</td>\n",
              "      <td>-0.117360</td>\n",
              "      <td>-0.208248</td>\n",
              "      <td>0.282638</td>\n",
              "      <td>0.046242</td>\n",
              "      <td>30.273737</td>\n",
              "      <td>2.068300</td>\n",
              "      <td>2.010493</td>\n",
              "      <td>0.463320</td>\n",
              "      <td>2.006573</td>\n",
              "      <td>1.948766</td>\n",
              "    </tr>\n",
              "    <tr>\n",
              "      <th>0.04</th>\n",
              "      <td>0.520643</td>\n",
              "      <td>0.107937</td>\n",
              "      <td>0.333866</td>\n",
              "      <td>-0.094481</td>\n",
              "      <td>1.728074</td>\n",
              "      <td>0.306311</td>\n",
              "      <td>-0.400634</td>\n",
              "      <td>0.245705</td>\n",
              "      <td>-0.319002</td>\n",
              "      <td>-0.252481</td>\n",
              "      <td>...</td>\n",
              "      <td>-0.115749</td>\n",
              "      <td>-0.205922</td>\n",
              "      <td>0.280456</td>\n",
              "      <td>0.048207</td>\n",
              "      <td>30.273737</td>\n",
              "      <td>2.088971</td>\n",
              "      <td>2.030057</td>\n",
              "      <td>0.463310</td>\n",
              "      <td>2.007601</td>\n",
              "      <td>1.948687</td>\n",
              "    </tr>\n",
              "    <tr>\n",
              "      <th>0.05</th>\n",
              "      <td>0.519190</td>\n",
              "      <td>0.110773</td>\n",
              "      <td>0.316977</td>\n",
              "      <td>-0.092278</td>\n",
              "      <td>1.703165</td>\n",
              "      <td>0.321150</td>\n",
              "      <td>-0.400752</td>\n",
              "      <td>0.245686</td>\n",
              "      <td>-0.320215</td>\n",
              "      <td>-0.253073</td>\n",
              "      <td>...</td>\n",
              "      <td>-0.114156</td>\n",
              "      <td>-0.203567</td>\n",
              "      <td>0.278216</td>\n",
              "      <td>0.050096</td>\n",
              "      <td>30.273737</td>\n",
              "      <td>2.109385</td>\n",
              "      <td>2.049399</td>\n",
              "      <td>0.463324</td>\n",
              "      <td>2.008789</td>\n",
              "      <td>1.948802</td>\n",
              "    </tr>\n",
              "    <tr>\n",
              "      <th>...</th>\n",
              "      <td>...</td>\n",
              "      <td>...</td>\n",
              "      <td>...</td>\n",
              "      <td>...</td>\n",
              "      <td>...</td>\n",
              "      <td>...</td>\n",
              "      <td>...</td>\n",
              "      <td>...</td>\n",
              "      <td>...</td>\n",
              "      <td>...</td>\n",
              "      <td>...</td>\n",
              "      <td>...</td>\n",
              "      <td>...</td>\n",
              "      <td>...</td>\n",
              "      <td>...</td>\n",
              "      <td>...</td>\n",
              "      <td>...</td>\n",
              "      <td>...</td>\n",
              "      <td>...</td>\n",
              "      <td>...</td>\n",
              "      <td>...</td>\n",
              "    </tr>\n",
              "    <tr>\n",
              "      <th>0.95</th>\n",
              "      <td>0.481403</td>\n",
              "      <td>0.279272</td>\n",
              "      <td>-0.115455</td>\n",
              "      <td>-0.075234</td>\n",
              "      <td>0.902984</td>\n",
              "      <td>0.555829</td>\n",
              "      <td>-0.353274</td>\n",
              "      <td>0.185763</td>\n",
              "      <td>-0.301924</td>\n",
              "      <td>-0.260546</td>\n",
              "      <td>...</td>\n",
              "      <td>-0.037063</td>\n",
              "      <td>-0.082241</td>\n",
              "      <td>0.120655</td>\n",
              "      <td>0.072948</td>\n",
              "      <td>30.273737</td>\n",
              "      <td>3.541342</td>\n",
              "      <td>3.428283</td>\n",
              "      <td>0.482568</td>\n",
              "      <td>2.227107</td>\n",
              "      <td>2.114048</td>\n",
              "    </tr>\n",
              "    <tr>\n",
              "      <th>0.96</th>\n",
              "      <td>0.481031</td>\n",
              "      <td>0.279979</td>\n",
              "      <td>-0.116503</td>\n",
              "      <td>-0.075492</td>\n",
              "      <td>0.899678</td>\n",
              "      <td>0.555313</td>\n",
              "      <td>-0.352541</td>\n",
              "      <td>0.185156</td>\n",
              "      <td>-0.301442</td>\n",
              "      <td>-0.260402</td>\n",
              "      <td>...</td>\n",
              "      <td>-0.036628</td>\n",
              "      <td>-0.081781</td>\n",
              "      <td>0.119681</td>\n",
              "      <td>0.072666</td>\n",
              "      <td>30.273737</td>\n",
              "      <td>3.555162</td>\n",
              "      <td>3.441612</td>\n",
              "      <td>0.482821</td>\n",
              "      <td>2.229815</td>\n",
              "      <td>2.116265</td>\n",
              "    </tr>\n",
              "    <tr>\n",
              "      <th>0.97</th>\n",
              "      <td>0.480656</td>\n",
              "      <td>0.280670</td>\n",
              "      <td>-0.117531</td>\n",
              "      <td>-0.075749</td>\n",
              "      <td>0.896410</td>\n",
              "      <td>0.554788</td>\n",
              "      <td>-0.351809</td>\n",
              "      <td>0.184552</td>\n",
              "      <td>-0.300962</td>\n",
              "      <td>-0.260257</td>\n",
              "      <td>...</td>\n",
              "      <td>-0.036197</td>\n",
              "      <td>-0.081330</td>\n",
              "      <td>0.118716</td>\n",
              "      <td>0.072382</td>\n",
              "      <td>30.273737</td>\n",
              "      <td>3.568954</td>\n",
              "      <td>3.454913</td>\n",
              "      <td>0.483075</td>\n",
              "      <td>2.232530</td>\n",
              "      <td>2.118489</td>\n",
              "    </tr>\n",
              "    <tr>\n",
              "      <th>0.98</th>\n",
              "      <td>0.480279</td>\n",
              "      <td>0.281346</td>\n",
              "      <td>-0.118538</td>\n",
              "      <td>-0.076005</td>\n",
              "      <td>0.893178</td>\n",
              "      <td>0.554254</td>\n",
              "      <td>-0.351077</td>\n",
              "      <td>0.183952</td>\n",
              "      <td>-0.300482</td>\n",
              "      <td>-0.260111</td>\n",
              "      <td>...</td>\n",
              "      <td>-0.035772</td>\n",
              "      <td>-0.080888</td>\n",
              "      <td>0.117762</td>\n",
              "      <td>0.072096</td>\n",
              "      <td>30.273737</td>\n",
              "      <td>3.582717</td>\n",
              "      <td>3.468185</td>\n",
              "      <td>0.483329</td>\n",
              "      <td>2.235253</td>\n",
              "      <td>2.120721</td>\n",
              "    </tr>\n",
              "    <tr>\n",
              "      <th>0.99</th>\n",
              "      <td>0.479899</td>\n",
              "      <td>0.282007</td>\n",
              "      <td>-0.119526</td>\n",
              "      <td>-0.076261</td>\n",
              "      <td>0.889983</td>\n",
              "      <td>0.553711</td>\n",
              "      <td>-0.350346</td>\n",
              "      <td>0.183355</td>\n",
              "      <td>-0.300003</td>\n",
              "      <td>-0.259962</td>\n",
              "      <td>...</td>\n",
              "      <td>-0.035351</td>\n",
              "      <td>-0.080454</td>\n",
              "      <td>0.116818</td>\n",
              "      <td>0.071808</td>\n",
              "      <td>30.273737</td>\n",
              "      <td>3.596453</td>\n",
              "      <td>3.481430</td>\n",
              "      <td>0.483584</td>\n",
              "      <td>2.237983</td>\n",
              "      <td>2.122960</td>\n",
              "    </tr>\n",
              "  </tbody>\n",
              "</table>\n",
              "<p>99 rows × 27 columns</p>\n",
              "</div>"
            ],
            "text/plain": [
              "            w0        w1        w2        w3        w4        w5        w6  \\\n",
              "0.01  0.525534  0.099767  0.388369 -0.101826  1.807435  0.257393 -0.400126   \n",
              "0.02  0.523812  0.102426  0.369553 -0.099252  1.780203  0.274447 -0.400321   \n",
              "0.03  0.522183  0.105152  0.351388 -0.096805  1.753751  0.290748 -0.400490   \n",
              "0.04  0.520643  0.107937  0.333866 -0.094481  1.728074  0.306311 -0.400634   \n",
              "0.05  0.519190  0.110773  0.316977 -0.092278  1.703165  0.321150 -0.400752   \n",
              "...        ...       ...       ...       ...       ...       ...       ...   \n",
              "0.95  0.481403  0.279272 -0.115455 -0.075234  0.902984  0.555829 -0.353274   \n",
              "0.96  0.481031  0.279979 -0.116503 -0.075492  0.899678  0.555313 -0.352541   \n",
              "0.97  0.480656  0.280670 -0.117531 -0.075749  0.896410  0.554788 -0.351809   \n",
              "0.98  0.480279  0.281346 -0.118538 -0.076005  0.893178  0.554254 -0.351077   \n",
              "0.99  0.479899  0.282007 -0.119526 -0.076261  0.889983  0.553711 -0.350346   \n",
              "\n",
              "            w7        w8        w9  ...       w17       w18       w19  \\\n",
              "0.01  0.245363 -0.314813 -0.250592  ... -0.120636 -0.212789  0.286804   \n",
              "0.02  0.245546 -0.316303 -0.251241  ... -0.118989 -0.210539  0.284756   \n",
              "0.03  0.245659 -0.317699 -0.251870  ... -0.117360 -0.208248  0.282638   \n",
              "0.04  0.245705 -0.319002 -0.252481  ... -0.115749 -0.205922  0.280456   \n",
              "0.05  0.245686 -0.320215 -0.253073  ... -0.114156 -0.203567  0.278216   \n",
              "...        ...       ...       ...  ...       ...       ...       ...   \n",
              "0.95  0.185763 -0.301924 -0.260546  ... -0.037063 -0.082241  0.120655   \n",
              "0.96  0.185156 -0.301442 -0.260402  ... -0.036628 -0.081781  0.119681   \n",
              "0.97  0.184552 -0.300962 -0.260257  ... -0.036197 -0.081330  0.118716   \n",
              "0.98  0.183952 -0.300482 -0.260111  ... -0.035772 -0.080888  0.117762   \n",
              "0.99  0.183355 -0.300003 -0.259962  ... -0.035351 -0.080454  0.116818   \n",
              "\n",
              "           w20        w21  train_loss_final   validation_loss_final  \\\n",
              "0.01  0.042081  30.273737          2.026130                1.970650   \n",
              "0.02  0.044200  30.273737          2.047357                1.990695   \n",
              "0.03  0.046242  30.273737          2.068300                2.010493   \n",
              "0.04  0.048207  30.273737          2.088971                2.030057   \n",
              "0.05  0.050096  30.273737          2.109385                2.049399   \n",
              "...        ...        ...               ...                     ...   \n",
              "0.95  0.072948  30.273737          3.541342                3.428283   \n",
              "0.96  0.072666  30.273737          3.555162                3.441612   \n",
              "0.97  0.072382  30.273737          3.568954                3.454913   \n",
              "0.98  0.072096  30.273737          3.582717                3.468185   \n",
              "0.99  0.071808  30.273737          3.596453                3.481430   \n",
              "\n",
              "      validation_NRMSE  MSE_Train_loss  MSE_val_loss  \n",
              "0.01          0.463416        2.005057      1.949578  \n",
              "0.02          0.463354        2.005720      1.949057  \n",
              "0.03          0.463320        2.006573      1.948766  \n",
              "0.04          0.463310        2.007601      1.948687  \n",
              "0.05          0.463324        2.008789      1.948802  \n",
              "...                ...             ...           ...  \n",
              "0.95          0.482568        2.227107      2.114048  \n",
              "0.96          0.482821        2.229815      2.116265  \n",
              "0.97          0.483075        2.232530      2.118489  \n",
              "0.98          0.483329        2.235253      2.120721  \n",
              "0.99          0.483584        2.237983      2.122960  \n",
              "\n",
              "[99 rows x 27 columns]"
            ]
          },
          "execution_count": 152,
          "metadata": {},
          "output_type": "execute_result"
        }
      ],
      "source": [
        "Final_DataFrame_L2"
      ]
    },
    {
      "cell_type": "code",
      "execution_count": null,
      "metadata": {
        "scrolled": true,
        "id": "Wqs0NFJ0wE4H",
        "outputId": "6b93135b-7163-42db-9798-ce20968873b2"
      },
      "outputs": [
        {
          "data": {
            "text/plain": [
              "Text(0, 0.5, 'Losses')"
            ]
          },
          "execution_count": 153,
          "metadata": {},
          "output_type": "execute_result"
        },
        {
          "data": {
            "image/png": "[encoded data removed]",
            "text/plain": [
              "<Figure size 432x288 with 1 Axes>"
            ]
          },
          "metadata": {
            "needs_background": "light"
          },
          "output_type": "display_data"
        }
      ],
      "source": [
        "%matplotlib inline\n",
        "fig = plt.figure()\n",
        "ax = fig.add_axes([0,0,1,1])\n",
        "ax.plot(np.reciprocal(lamdas),Final_DataFrame_L2[:]['MSE_Train_loss'],'-b', label='Training_Loss')\n",
        "ax.plot(np.reciprocal(lamdas),Final_DataFrame_L2[:]['MSE_val_loss'],'r', label='Validation_Loss')\n",
        "ax.legend()\n",
        "plt.title('ModelComplexity_VS_losses')\n",
        "plt.xlabel('ModelComplexity')\n",
        "plt.ylabel('Losses')"
      ]
    },
    {
      "cell_type": "code",
      "execution_count": null,
      "metadata": {
        "id": "JMtDZe8SwE4H",
        "outputId": "476ea108-2a95-49db-8fab-5c1788f7a9e0"
      },
      "outputs": [
        {
          "name": "stdout",
          "output_type": "stream",
          "text": [
            "Minimum training loss(RMSE) :  1.4160002967880119 \n",
            "Minimum Validation Loss (RMSE) :  1.3959536676310509\n",
            "Corresponding Minimum NRMSE  0.46331043216992507\n",
            "Corresponding weights considering minimum val loss\n",
            " w0      0.520643\n",
            "w1      0.107937\n",
            "w2      0.333866\n",
            "w3     -0.094481\n",
            "w4      1.728074\n",
            "w5      0.306311\n",
            "w6     -0.400634\n",
            "w7      0.245705\n",
            "w8     -0.319002\n",
            "w9     -0.252481\n",
            "w10    -0.107423\n",
            "w11    -0.265019\n",
            "w12    -0.048411\n",
            "w13     0.213382\n",
            "w14    -0.012165\n",
            "w15    -0.014548\n",
            "w16    -0.042971\n",
            "w17    -0.115749\n",
            "w18    -0.205922\n",
            "w19     0.280456\n",
            "w20     0.048207\n",
            "w21    30.273737\n",
            "Name: 0.04, dtype: float64\n",
            "Best Lamda  0.04\n"
          ]
        }
      ],
      "source": [
        "print('Minimum training loss(RMSE) : ', min(Final_DataFrame_L2[:]['MSE_Train_loss'])**0.5,'\\nMinimum Validation Loss (RMSE) : ', min(Final_DataFrame_L2[:]['MSE_val_loss'])**0.5)  #finding minimum traning and validation losses in all lamda \n",
        "print('Corresponding Minimum NRMSE ', min(Final_DataFrame_L2[:]['validation_NRMSE'])) #printing minimum NRMSE\n",
        "print('Corresponding weights considering minimum val loss\\n',Final_DataFrame_L2.iloc[np.argmin(Final_DataFrame_L2[:]['MSE_val_loss']), 0:22]) #printing weights corresponding to minimum validation loss \n",
        "print('Best Lamda ',lamdas[np.argmin(Final_DataFrame_L2[:]['MSE_val_loss'])]) #printing best lamda which gives minimum validation loss\n",
        "wL2 = Final_DataFrame_L2.iloc[np.argmin(Final_DataFrame_L2[:]['MSE_val_loss']), 0:22].values #storing this weights to wL1 so if we rerun this weights be taken for intialistion in gradient descent\n"
      ]
    },
    {
      "cell_type": "code",
      "execution_count": null,
      "metadata": {
        "id": "0niI3jT4wE4I"
      },
      "outputs": [],
      "source": [
        "#pd.DataFrame(wL2).to_csv('BestModelWeights.csv',index = False)  ##saving weights for reference"
      ]
    },
    {
      "cell_type": "markdown",
      "metadata": {
        "id": "wxNeQaCLwE4I"
      },
      "source": [
        "# Best lamda for L1 Regularisation"
      ]
    },
    {
      "cell_type": "code",
      "execution_count": null,
      "metadata": {
        "id": "YDQMK_hgwE4I"
      },
      "outputs": [],
      "source": [
        "wL1 = np.ones(df.shape[1]) ##Initialising with some weights,, we run it for first time only \n",
        "                           #after initialising with some value, we save and input the new best weights for rerun"
      ]
    },
    {
      "cell_type": "code",
      "execution_count": null,
      "metadata": {
        "id": "-1KujCGswE4I"
      },
      "outputs": [],
      "source": [
        "lamdas1 = np.arange(0.0,1,0.01) #getting an array of lamdas to try for\n",
        "Array_final_L1 = np.ones((len(lamdas1),22+3+2)) #creating an array matrix to store everything\n",
        "for i,lamda in enumerate(lamdas1):\n",
        "    result = Gradient_Descent (X_train, X_val, t_train, t_val, wL1, lamda,200 ,1e-10, 1e-1, L1_Loss, L1_Gradient)\n",
        "    Array_final_L1[i,:22] = result[0]     #storing weights \n",
        "    Array_final_L1[i,22:25] = result[1:4] #Storing TrainLoss ValLoss and NRMSE \n",
        "    Array_final_L1[i,25:] = MSE_Loss(X_train,t_train,result[0]) , MSE_Loss(X_val,t_val,result[0]) #storing MSE Loss for traning and validation\n"
      ]
    },
    {
      "cell_type": "code",
      "execution_count": null,
      "metadata": {
        "id": "_qcvmDG5wE4I"
      },
      "outputs": [],
      "source": [
        "columns_name = ['w'+str(i) for i in np.arange(22)] + [ 'train_loss_final',' validation_loss_final', 'validation_NRMSE','MSE_Train_loss','MSE_val_loss']\n",
        "Final_DataFrame_L1 = pd.DataFrame(Array_final_L1,lamdas1,columns_name) "
      ]
    },
    {
      "cell_type": "code",
      "execution_count": null,
      "metadata": {
        "id": "CkAOR3FxwE4I",
        "outputId": "be072893-9f45-422e-f116-38e5b538934c"
      },
      "outputs": [
        {
          "data": {
            "text/html": [
              "<div>\n",
              "<style scoped>\n",
              "    .dataframe tbody tr th:only-of-type {\n",
              "        vertical-align: middle;\n",
              "    }\n",
              "\n",
              "    .dataframe tbody tr th {\n",
              "        vertical-align: top;\n",
              "    }\n",
              "\n",
              "    .dataframe thead th {\n",
              "        text-align: right;\n",
              "    }\n",
              "</style>\n",
              "<table border=\"1\" class=\"dataframe\">\n",
              "  <thead>\n",
              "    <tr style=\"text-align: right;\">\n",
              "      <th></th>\n",
              "      <th>w0</th>\n",
              "      <th>w1</th>\n",
              "      <th>w2</th>\n",
              "      <th>w3</th>\n",
              "      <th>w4</th>\n",
              "      <th>w5</th>\n",
              "      <th>w6</th>\n",
              "      <th>w7</th>\n",
              "      <th>w8</th>\n",
              "      <th>w9</th>\n",
              "      <th>...</th>\n",
              "      <th>w17</th>\n",
              "      <th>w18</th>\n",
              "      <th>w19</th>\n",
              "      <th>w20</th>\n",
              "      <th>w21</th>\n",
              "      <th>train_loss_final</th>\n",
              "      <th>validation_loss_final</th>\n",
              "      <th>validation_NRMSE</th>\n",
              "      <th>MSE_Train_loss</th>\n",
              "      <th>MSE_val_loss</th>\n",
              "    </tr>\n",
              "  </thead>\n",
              "  <tbody>\n",
              "    <tr>\n",
              "      <th>0.00</th>\n",
              "      <td>0.534105</td>\n",
              "      <td>0.102216</td>\n",
              "      <td>0.446173</td>\n",
              "      <td>-0.111255</td>\n",
              "      <td>1.881284</td>\n",
              "      <td>0.195610</td>\n",
              "      <td>-0.399834</td>\n",
              "      <td>0.240875</td>\n",
              "      <td>-0.308185</td>\n",
              "      <td>-0.248910</td>\n",
              "      <td>...</td>\n",
              "      <td>-0.123366</td>\n",
              "      <td>-0.210042</td>\n",
              "      <td>0.282784</td>\n",
              "      <td>0.036313</td>\n",
              "      <td>30.273737</td>\n",
              "      <td>2.004258</td>\n",
              "      <td>1.950592</td>\n",
              "      <td>0.463537</td>\n",
              "      <td>2.004258</td>\n",
              "      <td>1.950592</td>\n",
              "    </tr>\n",
              "    <tr>\n",
              "      <th>0.01</th>\n",
              "      <td>0.537856</td>\n",
              "      <td>0.102292</td>\n",
              "      <td>0.401028</td>\n",
              "      <td>-0.091922</td>\n",
              "      <td>1.860429</td>\n",
              "      <td>0.208123</td>\n",
              "      <td>-0.393285</td>\n",
              "      <td>0.233523</td>\n",
              "      <td>-0.307567</td>\n",
              "      <td>-0.236789</td>\n",
              "      <td>...</td>\n",
              "      <td>-0.121058</td>\n",
              "      <td>-0.186275</td>\n",
              "      <td>0.259155</td>\n",
              "      <td>0.031391</td>\n",
              "      <td>30.273737</td>\n",
              "      <td>2.061672</td>\n",
              "      <td>2.007995</td>\n",
              "      <td>0.463649</td>\n",
              "      <td>2.005210</td>\n",
              "      <td>1.951534</td>\n",
              "    </tr>\n",
              "    <tr>\n",
              "      <th>0.02</th>\n",
              "      <td>0.541608</td>\n",
              "      <td>0.102368</td>\n",
              "      <td>0.355883</td>\n",
              "      <td>-0.072589</td>\n",
              "      <td>1.839574</td>\n",
              "      <td>0.220635</td>\n",
              "      <td>-0.386735</td>\n",
              "      <td>0.226171</td>\n",
              "      <td>-0.306950</td>\n",
              "      <td>-0.224668</td>\n",
              "      <td>...</td>\n",
              "      <td>-0.118749</td>\n",
              "      <td>-0.162509</td>\n",
              "      <td>0.235526</td>\n",
              "      <td>0.026469</td>\n",
              "      <td>30.273737</td>\n",
              "      <td>2.117145</td>\n",
              "      <td>2.063590</td>\n",
              "      <td>0.464002</td>\n",
              "      <td>2.008065</td>\n",
              "      <td>1.954511</td>\n",
              "    </tr>\n",
              "    <tr>\n",
              "      <th>0.03</th>\n",
              "      <td>0.545360</td>\n",
              "      <td>0.102443</td>\n",
              "      <td>0.310738</td>\n",
              "      <td>-0.053256</td>\n",
              "      <td>1.818718</td>\n",
              "      <td>0.233148</td>\n",
              "      <td>-0.380185</td>\n",
              "      <td>0.218819</td>\n",
              "      <td>-0.306332</td>\n",
              "      <td>-0.212547</td>\n",
              "      <td>...</td>\n",
              "      <td>-0.116441</td>\n",
              "      <td>-0.138743</td>\n",
              "      <td>0.211897</td>\n",
              "      <td>0.021547</td>\n",
              "      <td>30.273737</td>\n",
              "      <td>2.170677</td>\n",
              "      <td>2.117378</td>\n",
              "      <td>0.464597</td>\n",
              "      <td>2.012822</td>\n",
              "      <td>1.959523</td>\n",
              "    </tr>\n",
              "    <tr>\n",
              "      <th>0.04</th>\n",
              "      <td>0.549111</td>\n",
              "      <td>0.102519</td>\n",
              "      <td>0.265593</td>\n",
              "      <td>-0.033922</td>\n",
              "      <td>1.797863</td>\n",
              "      <td>0.245661</td>\n",
              "      <td>-0.373636</td>\n",
              "      <td>0.211467</td>\n",
              "      <td>-0.305715</td>\n",
              "      <td>-0.200426</td>\n",
              "      <td>...</td>\n",
              "      <td>-0.114132</td>\n",
              "      <td>-0.114977</td>\n",
              "      <td>0.188269</td>\n",
              "      <td>0.016624</td>\n",
              "      <td>30.273737</td>\n",
              "      <td>2.222268</td>\n",
              "      <td>2.169358</td>\n",
              "      <td>0.465432</td>\n",
              "      <td>2.019482</td>\n",
              "      <td>1.966571</td>\n",
              "    </tr>\n",
              "    <tr>\n",
              "      <th>...</th>\n",
              "      <td>...</td>\n",
              "      <td>...</td>\n",
              "      <td>...</td>\n",
              "      <td>...</td>\n",
              "      <td>...</td>\n",
              "      <td>...</td>\n",
              "      <td>...</td>\n",
              "      <td>...</td>\n",
              "      <td>...</td>\n",
              "      <td>...</td>\n",
              "      <td>...</td>\n",
              "      <td>...</td>\n",
              "      <td>...</td>\n",
              "      <td>...</td>\n",
              "      <td>...</td>\n",
              "      <td>...</td>\n",
              "      <td>...</td>\n",
              "      <td>...</td>\n",
              "      <td>...</td>\n",
              "      <td>...</td>\n",
              "      <td>...</td>\n",
              "    </tr>\n",
              "    <tr>\n",
              "      <th>0.95</th>\n",
              "      <td>0.389408</td>\n",
              "      <td>0.010079</td>\n",
              "      <td>0.013564</td>\n",
              "      <td>0.004192</td>\n",
              "      <td>1.611261</td>\n",
              "      <td>0.067845</td>\n",
              "      <td>-0.131751</td>\n",
              "      <td>0.115471</td>\n",
              "      <td>-0.072600</td>\n",
              "      <td>0.035985</td>\n",
              "      <td>...</td>\n",
              "      <td>-0.011104</td>\n",
              "      <td>-0.058933</td>\n",
              "      <td>0.104269</td>\n",
              "      <td>0.099956</td>\n",
              "      <td>30.273737</td>\n",
              "      <td>5.762766</td>\n",
              "      <td>5.491909</td>\n",
              "      <td>0.530981</td>\n",
              "      <td>2.830364</td>\n",
              "      <td>2.559507</td>\n",
              "    </tr>\n",
              "    <tr>\n",
              "      <th>0.96</th>\n",
              "      <td>0.400495</td>\n",
              "      <td>0.135449</td>\n",
              "      <td>0.038958</td>\n",
              "      <td>-0.108798</td>\n",
              "      <td>1.659553</td>\n",
              "      <td>0.026342</td>\n",
              "      <td>0.006057</td>\n",
              "      <td>-0.041345</td>\n",
              "      <td>-0.142096</td>\n",
              "      <td>-0.003454</td>\n",
              "      <td>...</td>\n",
              "      <td>-0.059381</td>\n",
              "      <td>-0.057553</td>\n",
              "      <td>0.087911</td>\n",
              "      <td>0.020870</td>\n",
              "      <td>30.273737</td>\n",
              "      <td>5.844457</td>\n",
              "      <td>5.623580</td>\n",
              "      <td>0.539600</td>\n",
              "      <td>2.864152</td>\n",
              "      <td>2.643275</td>\n",
              "    </tr>\n",
              "    <tr>\n",
              "      <th>0.97</th>\n",
              "      <td>0.395486</td>\n",
              "      <td>0.135881</td>\n",
              "      <td>-0.152226</td>\n",
              "      <td>0.050014</td>\n",
              "      <td>1.644804</td>\n",
              "      <td>0.038497</td>\n",
              "      <td>-0.096099</td>\n",
              "      <td>-0.030303</td>\n",
              "      <td>-0.074175</td>\n",
              "      <td>-0.193029</td>\n",
              "      <td>...</td>\n",
              "      <td>-0.062289</td>\n",
              "      <td>-0.017789</td>\n",
              "      <td>0.021997</td>\n",
              "      <td>-0.072727</td>\n",
              "      <td>30.273737</td>\n",
              "      <td>5.780935</td>\n",
              "      <td>5.614265</td>\n",
              "      <td>0.519010</td>\n",
              "      <td>2.612062</td>\n",
              "      <td>2.445393</td>\n",
              "    </tr>\n",
              "    <tr>\n",
              "      <th>0.98</th>\n",
              "      <td>0.408966</td>\n",
              "      <td>0.128580</td>\n",
              "      <td>0.085732</td>\n",
              "      <td>-0.019830</td>\n",
              "      <td>1.655300</td>\n",
              "      <td>0.025669</td>\n",
              "      <td>-0.003664</td>\n",
              "      <td>0.071247</td>\n",
              "      <td>0.014600</td>\n",
              "      <td>0.017782</td>\n",
              "      <td>...</td>\n",
              "      <td>-0.064934</td>\n",
              "      <td>-0.089529</td>\n",
              "      <td>-0.075530</td>\n",
              "      <td>-0.011154</td>\n",
              "      <td>30.273737</td>\n",
              "      <td>5.984483</td>\n",
              "      <td>5.701041</td>\n",
              "      <td>0.540842</td>\n",
              "      <td>2.938900</td>\n",
              "      <td>2.655458</td>\n",
              "    </tr>\n",
              "    <tr>\n",
              "      <th>0.99</th>\n",
              "      <td>0.392463</td>\n",
              "      <td>-0.005450</td>\n",
              "      <td>0.056316</td>\n",
              "      <td>-0.018218</td>\n",
              "      <td>1.635801</td>\n",
              "      <td>0.067498</td>\n",
              "      <td>0.003120</td>\n",
              "      <td>0.151234</td>\n",
              "      <td>-0.017920</td>\n",
              "      <td>0.012205</td>\n",
              "      <td>...</td>\n",
              "      <td>-0.096782</td>\n",
              "      <td>0.007762</td>\n",
              "      <td>-0.010900</td>\n",
              "      <td>0.081109</td>\n",
              "      <td>30.273737</td>\n",
              "      <td>5.898872</td>\n",
              "      <td>5.600737</td>\n",
              "      <td>0.542984</td>\n",
              "      <td>2.974659</td>\n",
              "      <td>2.676524</td>\n",
              "    </tr>\n",
              "  </tbody>\n",
              "</table>\n",
              "<p>100 rows × 27 columns</p>\n",
              "</div>"
            ],
            "text/plain": [
              "            w0        w1        w2        w3        w4        w5        w6  \\\n",
              "0.00  0.534105  0.102216  0.446173 -0.111255  1.881284  0.195610 -0.399834   \n",
              "0.01  0.537856  0.102292  0.401028 -0.091922  1.860429  0.208123 -0.393285   \n",
              "0.02  0.541608  0.102368  0.355883 -0.072589  1.839574  0.220635 -0.386735   \n",
              "0.03  0.545360  0.102443  0.310738 -0.053256  1.818718  0.233148 -0.380185   \n",
              "0.04  0.549111  0.102519  0.265593 -0.033922  1.797863  0.245661 -0.373636   \n",
              "...        ...       ...       ...       ...       ...       ...       ...   \n",
              "0.95  0.389408  0.010079  0.013564  0.004192  1.611261  0.067845 -0.131751   \n",
              "0.96  0.400495  0.135449  0.038958 -0.108798  1.659553  0.026342  0.006057   \n",
              "0.97  0.395486  0.135881 -0.152226  0.050014  1.644804  0.038497 -0.096099   \n",
              "0.98  0.408966  0.128580  0.085732 -0.019830  1.655300  0.025669 -0.003664   \n",
              "0.99  0.392463 -0.005450  0.056316 -0.018218  1.635801  0.067498  0.003120   \n",
              "\n",
              "            w7        w8        w9  ...       w17       w18       w19  \\\n",
              "0.00  0.240875 -0.308185 -0.248910  ... -0.123366 -0.210042  0.282784   \n",
              "0.01  0.233523 -0.307567 -0.236789  ... -0.121058 -0.186275  0.259155   \n",
              "0.02  0.226171 -0.306950 -0.224668  ... -0.118749 -0.162509  0.235526   \n",
              "0.03  0.218819 -0.306332 -0.212547  ... -0.116441 -0.138743  0.211897   \n",
              "0.04  0.211467 -0.305715 -0.200426  ... -0.114132 -0.114977  0.188269   \n",
              "...        ...       ...       ...  ...       ...       ...       ...   \n",
              "0.95  0.115471 -0.072600  0.035985  ... -0.011104 -0.058933  0.104269   \n",
              "0.96 -0.041345 -0.142096 -0.003454  ... -0.059381 -0.057553  0.087911   \n",
              "0.97 -0.030303 -0.074175 -0.193029  ... -0.062289 -0.017789  0.021997   \n",
              "0.98  0.071247  0.014600  0.017782  ... -0.064934 -0.089529 -0.075530   \n",
              "0.99  0.151234 -0.017920  0.012205  ... -0.096782  0.007762 -0.010900   \n",
              "\n",
              "           w20        w21  train_loss_final   validation_loss_final  \\\n",
              "0.00  0.036313  30.273737          2.004258                1.950592   \n",
              "0.01  0.031391  30.273737          2.061672                2.007995   \n",
              "0.02  0.026469  30.273737          2.117145                2.063590   \n",
              "0.03  0.021547  30.273737          2.170677                2.117378   \n",
              "0.04  0.016624  30.273737          2.222268                2.169358   \n",
              "...        ...        ...               ...                     ...   \n",
              "0.95  0.099956  30.273737          5.762766                5.491909   \n",
              "0.96  0.020870  30.273737          5.844457                5.623580   \n",
              "0.97 -0.072727  30.273737          5.780935                5.614265   \n",
              "0.98 -0.011154  30.273737          5.984483                5.701041   \n",
              "0.99  0.081109  30.273737          5.898872                5.600737   \n",
              "\n",
              "      validation_NRMSE  MSE_Train_loss  MSE_val_loss  \n",
              "0.00          0.463537        2.004258      1.950592  \n",
              "0.01          0.463649        2.005210      1.951534  \n",
              "0.02          0.464002        2.008065      1.954511  \n",
              "0.03          0.464597        2.012822      1.959523  \n",
              "0.04          0.465432        2.019482      1.966571  \n",
              "...                ...             ...           ...  \n",
              "0.95          0.530981        2.830364      2.559507  \n",
              "0.96          0.539600        2.864152      2.643275  \n",
              "0.97          0.519010        2.612062      2.445393  \n",
              "0.98          0.540842        2.938900      2.655458  \n",
              "0.99          0.542984        2.974659      2.676524  \n",
              "\n",
              "[100 rows x 27 columns]"
            ]
          },
          "execution_count": 157,
          "metadata": {},
          "output_type": "execute_result"
        }
      ],
      "source": [
        "Final_DataFrame_L1"
      ]
    },
    {
      "cell_type": "code",
      "execution_count": null,
      "metadata": {
        "id": "BkKBRtQ3wE4I",
        "outputId": "b2e103de-ed03-404e-eacb-63c74abd3fd7"
      },
      "outputs": [
        {
          "name": "stderr",
          "output_type": "stream",
          "text": [
            "C:\\Users\\mohit\\AppData\\Local\\Temp/ipykernel_28752/2055293308.py:3: RuntimeWarning: divide by zero encountered in reciprocal\n",
            "  ax.plot(np.reciprocal(lamdas1),Final_DataFrame_L1[:]['MSE_Train_loss'],'-b', label='Training_Loss')\n",
            "C:\\Users\\mohit\\AppData\\Local\\Temp/ipykernel_28752/2055293308.py:4: RuntimeWarning: divide by zero encountered in reciprocal\n",
            "  ax.plot(np.reciprocal(lamdas1),Final_DataFrame_L1[:]['MSE_val_loss'],'r', label='Validation_Loss')\n"
          ]
        },
        {
          "data": {
            "text/plain": [
              "Text(0, 0.5, 'Losses')"
            ]
          },
          "execution_count": 158,
          "metadata": {},
          "output_type": "execute_result"
        },
        {
          "data": {
            "image/png": "[encoded data removed]",
            "text/plain": [
              "<Figure size 432x288 with 1 Axes>"
            ]
          },
          "metadata": {
            "needs_background": "light"
          },
          "output_type": "display_data"
        }
      ],
      "source": [
        "fig = plt.figure()\n",
        "ax = fig.add_axes([0,0,1,1])\n",
        "ax.plot(np.reciprocal(lamdas1),Final_DataFrame_L1[:]['MSE_Train_loss'],'-b', label='Training_Loss')\n",
        "ax.plot(np.reciprocal(lamdas1),Final_DataFrame_L1[:]['MSE_val_loss'],'r', label='Validation_Loss')\n",
        "ax.legend()\n",
        "plt.title('ModelComplexity_VS_losses')\n",
        "plt.xlabel('ModelComplexity')\n",
        "plt.ylabel('Losses')"
      ]
    },
    {
      "cell_type": "code",
      "execution_count": null,
      "metadata": {
        "id": "FGBWVJXzwE4J",
        "outputId": "d2066977-3100-4a5f-bc09-b86e526eb7c7"
      },
      "outputs": [
        {
          "name": "stdout",
          "output_type": "stream",
          "text": [
            "Best Lamda  0.0\n",
            "Minimum training loss(RMSE) :  1.4157182423815833 \n",
            "Minimum Validation Loss (RMSE) :  1.396635997832915\n",
            "Corresponding Minimum NRMSE  0.4635368943427311\n",
            "Corresponding weights considering minimum val loss\n",
            " w0      0.534105\n",
            "w1      0.102216\n",
            "w2      0.446173\n",
            "w3     -0.111255\n",
            "w4      1.881284\n",
            "w5      0.195610\n",
            "w6     -0.399834\n",
            "w7      0.240875\n",
            "w8     -0.308185\n",
            "w9     -0.248910\n",
            "w10    -0.094676\n",
            "w11    -0.277301\n",
            "w12    -0.052459\n",
            "w13     0.209487\n",
            "w14    -0.020242\n",
            "w15    -0.014212\n",
            "w16    -0.048939\n",
            "w17    -0.123366\n",
            "w18    -0.210042\n",
            "w19     0.282784\n",
            "w20     0.036313\n",
            "w21    30.273737\n",
            "Name: 0.0, dtype: float64\n"
          ]
        }
      ],
      "source": [
        "print('Best Lamda ',lamdas1[np.argmin(Final_DataFrame_L1[:]['MSE_val_loss'])]) \n",
        "print('Minimum training loss(RMSE) : ', min(Final_DataFrame_L1[:]['MSE_Train_loss'])**0.5,'\\nMinimum Validation Loss (RMSE) : ', min(Final_DataFrame_L1[:]['MSE_val_loss'])**0.5)\n",
        "print('Corresponding Minimum NRMSE ', min(Final_DataFrame_L1[:]['validation_NRMSE']))\n",
        "print('Corresponding weights considering minimum val loss\\n',Final_DataFrame_L1.iloc[np.argmin(Final_DataFrame_L1[:]['MSE_val_loss']), 0:22])\n",
        "wL1 = Final_DataFrame_L1.iloc[np.argmin(Final_DataFrame_L1[:]['MSE_val_loss']), 0:22]\n"
      ]
    },
    {
      "cell_type": "markdown",
      "metadata": {
        "id": "gkJXDExQwE4J"
      },
      "source": [
        "# Best lamda for Pseudo Inverse"
      ]
    },
    {
      "cell_type": "code",
      "execution_count": null,
      "metadata": {
        "id": "WD3jocjuwE4J"
      },
      "outputs": [],
      "source": [
        "lamdas3 = np.arange(0.0,10,0.01)  #getting an array of lamda value to try\n",
        "Array_final_psd = np.ones((len(lamdas3),22+2))  #creating an array to store everything\n",
        "for i,lamda in enumerate(lamdas3):\n",
        "    Array_final_psd[i,:22] = Pseudo_Inverse(X_train,t_train,lamda)\n",
        "    Array_final_psd[i,22] =  MSE_Loss(X_train,t_train,Pseudo_Inverse(X_train,t_train,lamda))  #storing mse loss trianing\n",
        "    Array_final_psd[i,23] = MSE_Loss(X_val,t_val,Pseudo_Inverse(X_train,t_train,lamda))       #Storing  mse loss validation"
      ]
    },
    {
      "cell_type": "code",
      "execution_count": null,
      "metadata": {
        "id": "n-kI86V_wE4J"
      },
      "outputs": [],
      "source": [
        "Final_DataFrame_psd = pd.DataFrame(Array_final_psd,lamdas3,['w'+str(i) for i in np.arange(22)]+['Validation_loss','Training_loss'])  #converting array to dataframe for convenience"
      ]
    },
    {
      "cell_type": "code",
      "execution_count": null,
      "metadata": {
        "id": "lrrPlVy7wE4J",
        "outputId": "c685e410-a7fb-4760-ba5d-f024b355b9d6"
      },
      "outputs": [
        {
          "data": {
            "text/html": [
              "<div>\n",
              "<style scoped>\n",
              "    .dataframe tbody tr th:only-of-type {\n",
              "        vertical-align: middle;\n",
              "    }\n",
              "\n",
              "    .dataframe tbody tr th {\n",
              "        vertical-align: top;\n",
              "    }\n",
              "\n",
              "    .dataframe thead th {\n",
              "        text-align: right;\n",
              "    }\n",
              "</style>\n",
              "<table border=\"1\" class=\"dataframe\">\n",
              "  <thead>\n",
              "    <tr style=\"text-align: right;\">\n",
              "      <th></th>\n",
              "      <th>w0</th>\n",
              "      <th>w1</th>\n",
              "      <th>w2</th>\n",
              "      <th>w3</th>\n",
              "      <th>w4</th>\n",
              "      <th>w5</th>\n",
              "      <th>w6</th>\n",
              "      <th>w7</th>\n",
              "      <th>w8</th>\n",
              "      <th>w9</th>\n",
              "      <th>...</th>\n",
              "      <th>w14</th>\n",
              "      <th>w15</th>\n",
              "      <th>w16</th>\n",
              "      <th>w17</th>\n",
              "      <th>w18</th>\n",
              "      <th>w19</th>\n",
              "      <th>w20</th>\n",
              "      <th>w21</th>\n",
              "      <th>Validation_loss</th>\n",
              "      <th>Training_loss</th>\n",
              "    </tr>\n",
              "  </thead>\n",
              "  <tbody>\n",
              "    <tr>\n",
              "      <th>0.00</th>\n",
              "      <td>0.534151</td>\n",
              "      <td>0.102110</td>\n",
              "      <td>0.446167</td>\n",
              "      <td>-0.111232</td>\n",
              "      <td>1.881200</td>\n",
              "      <td>0.195741</td>\n",
              "      <td>-0.399835</td>\n",
              "      <td>0.240848</td>\n",
              "      <td>-0.307965</td>\n",
              "      <td>-0.249263</td>\n",
              "      <td>...</td>\n",
              "      <td>-0.020252</td>\n",
              "      <td>-0.014206</td>\n",
              "      <td>-0.048940</td>\n",
              "      <td>-0.123363</td>\n",
              "      <td>-0.210085</td>\n",
              "      <td>0.282818</td>\n",
              "      <td>0.036289</td>\n",
              "      <td>30.273737</td>\n",
              "      <td>2.004258</td>\n",
              "      <td>1.950624</td>\n",
              "    </tr>\n",
              "    <tr>\n",
              "      <th>0.01</th>\n",
              "      <td>0.534148</td>\n",
              "      <td>0.102112</td>\n",
              "      <td>0.446142</td>\n",
              "      <td>-0.111228</td>\n",
              "      <td>1.881165</td>\n",
              "      <td>0.195765</td>\n",
              "      <td>-0.399835</td>\n",
              "      <td>0.240849</td>\n",
              "      <td>-0.307967</td>\n",
              "      <td>-0.249263</td>\n",
              "      <td>...</td>\n",
              "      <td>-0.020250</td>\n",
              "      <td>-0.014206</td>\n",
              "      <td>-0.048939</td>\n",
              "      <td>-0.123361</td>\n",
              "      <td>-0.210084</td>\n",
              "      <td>0.282817</td>\n",
              "      <td>0.036292</td>\n",
              "      <td>30.273666</td>\n",
              "      <td>2.004258</td>\n",
              "      <td>1.950636</td>\n",
              "    </tr>\n",
              "    <tr>\n",
              "      <th>0.02</th>\n",
              "      <td>0.534145</td>\n",
              "      <td>0.102114</td>\n",
              "      <td>0.446117</td>\n",
              "      <td>-0.111224</td>\n",
              "      <td>1.881131</td>\n",
              "      <td>0.195790</td>\n",
              "      <td>-0.399835</td>\n",
              "      <td>0.240850</td>\n",
              "      <td>-0.307970</td>\n",
              "      <td>-0.249264</td>\n",
              "      <td>...</td>\n",
              "      <td>-0.020248</td>\n",
              "      <td>-0.014206</td>\n",
              "      <td>-0.048937</td>\n",
              "      <td>-0.123360</td>\n",
              "      <td>-0.210083</td>\n",
              "      <td>0.282816</td>\n",
              "      <td>0.036295</td>\n",
              "      <td>30.273595</td>\n",
              "      <td>2.004258</td>\n",
              "      <td>1.950649</td>\n",
              "    </tr>\n",
              "    <tr>\n",
              "      <th>0.03</th>\n",
              "      <td>0.534142</td>\n",
              "      <td>0.102116</td>\n",
              "      <td>0.446091</td>\n",
              "      <td>-0.111221</td>\n",
              "      <td>1.881096</td>\n",
              "      <td>0.195814</td>\n",
              "      <td>-0.399836</td>\n",
              "      <td>0.240851</td>\n",
              "      <td>-0.307972</td>\n",
              "      <td>-0.249265</td>\n",
              "      <td>...</td>\n",
              "      <td>-0.020247</td>\n",
              "      <td>-0.014206</td>\n",
              "      <td>-0.048936</td>\n",
              "      <td>-0.123358</td>\n",
              "      <td>-0.210081</td>\n",
              "      <td>0.282815</td>\n",
              "      <td>0.036298</td>\n",
              "      <td>30.273524</td>\n",
              "      <td>2.004258</td>\n",
              "      <td>1.950661</td>\n",
              "    </tr>\n",
              "    <tr>\n",
              "      <th>0.04</th>\n",
              "      <td>0.534139</td>\n",
              "      <td>0.102118</td>\n",
              "      <td>0.446066</td>\n",
              "      <td>-0.111217</td>\n",
              "      <td>1.881061</td>\n",
              "      <td>0.195838</td>\n",
              "      <td>-0.399836</td>\n",
              "      <td>0.240852</td>\n",
              "      <td>-0.307974</td>\n",
              "      <td>-0.249266</td>\n",
              "      <td>...</td>\n",
              "      <td>-0.020245</td>\n",
              "      <td>-0.014206</td>\n",
              "      <td>-0.048935</td>\n",
              "      <td>-0.123356</td>\n",
              "      <td>-0.210080</td>\n",
              "      <td>0.282814</td>\n",
              "      <td>0.036300</td>\n",
              "      <td>30.273453</td>\n",
              "      <td>2.004258</td>\n",
              "      <td>1.950674</td>\n",
              "    </tr>\n",
              "  </tbody>\n",
              "</table>\n",
              "<p>5 rows × 24 columns</p>\n",
              "</div>"
            ],
            "text/plain": [
              "            w0        w1        w2        w3        w4        w5        w6  \\\n",
              "0.00  0.534151  0.102110  0.446167 -0.111232  1.881200  0.195741 -0.399835   \n",
              "0.01  0.534148  0.102112  0.446142 -0.111228  1.881165  0.195765 -0.399835   \n",
              "0.02  0.534145  0.102114  0.446117 -0.111224  1.881131  0.195790 -0.399835   \n",
              "0.03  0.534142  0.102116  0.446091 -0.111221  1.881096  0.195814 -0.399836   \n",
              "0.04  0.534139  0.102118  0.446066 -0.111217  1.881061  0.195838 -0.399836   \n",
              "\n",
              "            w7        w8        w9  ...       w14       w15       w16  \\\n",
              "0.00  0.240848 -0.307965 -0.249263  ... -0.020252 -0.014206 -0.048940   \n",
              "0.01  0.240849 -0.307967 -0.249263  ... -0.020250 -0.014206 -0.048939   \n",
              "0.02  0.240850 -0.307970 -0.249264  ... -0.020248 -0.014206 -0.048937   \n",
              "0.03  0.240851 -0.307972 -0.249265  ... -0.020247 -0.014206 -0.048936   \n",
              "0.04  0.240852 -0.307974 -0.249266  ... -0.020245 -0.014206 -0.048935   \n",
              "\n",
              "           w17       w18       w19       w20        w21  Validation_loss  \\\n",
              "0.00 -0.123363 -0.210085  0.282818  0.036289  30.273737         2.004258   \n",
              "0.01 -0.123361 -0.210084  0.282817  0.036292  30.273666         2.004258   \n",
              "0.02 -0.123360 -0.210083  0.282816  0.036295  30.273595         2.004258   \n",
              "0.03 -0.123358 -0.210081  0.282815  0.036298  30.273524         2.004258   \n",
              "0.04 -0.123356 -0.210080  0.282814  0.036300  30.273453         2.004258   \n",
              "\n",
              "      Training_loss  \n",
              "0.00       1.950624  \n",
              "0.01       1.950636  \n",
              "0.02       1.950649  \n",
              "0.03       1.950661  \n",
              "0.04       1.950674  \n",
              "\n",
              "[5 rows x 24 columns]"
            ]
          },
          "execution_count": 162,
          "metadata": {},
          "output_type": "execute_result"
        }
      ],
      "source": [
        "Final_DataFrame_psd.head(5) "
      ]
    },
    {
      "cell_type": "code",
      "execution_count": null,
      "metadata": {
        "scrolled": true,
        "id": "YpPw0A86wE4J",
        "outputId": "0ccb8d0b-f5f1-4c2f-b0b5-1b7a9f398e24"
      },
      "outputs": [
        {
          "name": "stderr",
          "output_type": "stream",
          "text": [
            "C:\\Users\\mohit\\AppData\\Local\\Temp/ipykernel_28752/2728661870.py:3: RuntimeWarning: divide by zero encountered in reciprocal\n",
            "  ax3.plot(np.reciprocal(lamdas3),Final_DataFrame_psd[:]['Validation_loss'],label='ValidationLoss')\n",
            "C:\\Users\\mohit\\AppData\\Local\\Temp/ipykernel_28752/2728661870.py:4: RuntimeWarning: divide by zero encountered in reciprocal\n",
            "  ax3.plot(np.reciprocal(lamdas3),Final_DataFrame_psd[:]['Training_loss'],label='TrainingLoss')\n"
          ]
        },
        {
          "data": {
            "text/plain": [
              "Text(0, 0.5, 'Losses')"
            ]
          },
          "execution_count": 163,
          "metadata": {},
          "output_type": "execute_result"
        },
        {
          "data": {
            "image/png": "[encoded data removed]",
            "text/plain": [
              "<Figure size 432x288 with 1 Axes>"
            ]
          },
          "metadata": {
            "needs_background": "light"
          },
          "output_type": "display_data"
        }
      ],
      "source": [
        "fig3 = plt.figure()\n",
        "ax3 =  fig3.add_axes([0,0,1,1])\n",
        "ax3.plot(np.reciprocal(lamdas3),Final_DataFrame_psd[:]['Validation_loss'],label='ValidationLoss')\n",
        "ax3.plot(np.reciprocal(lamdas3),Final_DataFrame_psd[:]['Training_loss'],label='TrainingLoss')\n",
        "plt.legend()\n",
        "plt.title('ModelComplexity_VS_losses')\n",
        "plt.xlabel('ModelComplexity')\n",
        "plt.ylabel('Losses')"
      ]
    },
    {
      "cell_type": "code",
      "execution_count": null,
      "metadata": {
        "id": "d1-b11BswE4K",
        "outputId": "37e485dc-960b-4162-9891-511689fe56ed"
      },
      "outputs": [
        {
          "name": "stdout",
          "output_type": "stream",
          "text": [
            "Best Lamda  0.0\n",
            "Minimum training loss(RMSE) :  1.4157182312047316 \n",
            "Minimum Validation Loss (RMSE) :  1.3966473420169139\n",
            "Corresponding weights considering minimum val loss\n",
            " w0      0.534151\n",
            "w1      0.102110\n",
            "w2      0.446167\n",
            "w3     -0.111232\n",
            "w4      1.881200\n",
            "w5      0.195741\n",
            "w6     -0.399835\n",
            "w7      0.240848\n",
            "w8     -0.307965\n",
            "w9     -0.249263\n",
            "w10    -0.094509\n",
            "w11    -0.277373\n",
            "w12    -0.052488\n",
            "w13     0.209544\n",
            "w14    -0.020252\n",
            "w15    -0.014206\n",
            "w16    -0.048940\n",
            "w17    -0.123363\n",
            "w18    -0.210085\n",
            "w19     0.282818\n",
            "w20     0.036289\n",
            "w21    30.273737\n",
            "Name: 0.0, dtype: float64\n"
          ]
        }
      ],
      "source": [
        "print('Best Lamda ',lamdas3[np.argmin(Final_DataFrame_psd[:]['Validation_loss'])])\n",
        "print('Minimum training loss(RMSE) : ', min(Final_DataFrame_psd[:]['Validation_loss'])**0.5,'\\nMinimum Validation Loss (RMSE) : ', min(Final_DataFrame_psd[:]['Training_loss'])**0.5)\n",
        "print('Corresponding weights considering minimum val loss\\n',Final_DataFrame_psd.iloc[np.argmin(Final_DataFrame_psd[:]['Validation_loss']), 0:22])\n",
        "W_psd = Final_DataFrame_psd.iloc[np.argmin(Final_DataFrame_psd[:]['Validation_loss']), 0:22]\n",
        "#Best_Lamda_psd = lamdas3[np.argmin(Final_DataFrame_psd[:]['Validation_loss'])]"
      ]
    },
    {
      "cell_type": "markdown",
      "metadata": {
        "id": "HmRTtHLDwE4K"
      },
      "source": [
        "# Testing "
      ]
    },
    {
      "cell_type": "code",
      "execution_count": null,
      "metadata": {
        "id": "shvnX0AfwE4K"
      },
      "outputs": [],
      "source": [
        "df1 = pd.read_csv('https://www.ee.iitb.ac.in/~asethi/Dump/TempTest.csv')"
      ]
    },
    {
      "cell_type": "code",
      "execution_count": null,
      "metadata": {
        "id": "oS3BOsn_wE4K"
      },
      "outputs": [],
      "source": [
        "X_test = Normalize(df1).to_numpy()"
      ]
    },
    {
      "cell_type": "code",
      "execution_count": null,
      "metadata": {
        "id": "Ig6zs3kEwE4K"
      },
      "outputs": [],
      "source": [
        "Predictions = Prediction(X_test,wL2)"
      ]
    },
    {
      "cell_type": "code",
      "execution_count": null,
      "metadata": {
        "id": "nVKSfluhwE4K"
      },
      "outputs": [],
      "source": [
        "#pd.DataFrame(Predictions,columns=[\"Next_Tmax\"]).to_csv('213170006_213170001.csv',index = False)  ##saving Predictions"
      ]
    },
    {
      "cell_type": "code",
      "execution_count": null,
      "metadata": {
        "id": "ps8-wS5QwE4L",
        "outputId": "e9eac143-4a58-44be-a67c-b916f3e766ec"
      },
      "outputs": [
        {
          "data": {
            "text/plain": [
              "Text(0.5, 1.0, 'TestPredictionSpread')"
            ]
          },
          "execution_count": 167,
          "metadata": {},
          "output_type": "execute_result"
        },
        {
          "data": {
            "image/png": "[encoded data removed]",
            "text/plain": [
              "<Figure size 432x288 with 1 Axes>"
            ]
          },
          "metadata": {
            "needs_background": "light"
          },
          "output_type": "display_data"
        }
      ],
      "source": [
        "plt.plot(Predictions) ##plotting Prediction to visulasing\n",
        "plt.title('TestPredictionSpread')"
      ]
    },
    {
      "cell_type": "code",
      "execution_count": null,
      "metadata": {
        "id": "aboAiDEZwE4L"
      },
      "outputs": [],
      "source": [
        ""
      ]
    },
    {
      "cell_type": "code",
      "execution_count": null,
      "metadata": {
        "id": "2oWp0G01wE4L"
      },
      "outputs": [],
      "source": [
        ""
      ]
    },
    {
      "cell_type": "markdown",
      "metadata": {
        "id": "G6q_tlVbwE4L"
      },
      "source": [
        "\n",
        "\n",
        "Plotting best model prediction vs true values for validation data"
      ]
    },
    {
      "cell_type": "code",
      "execution_count": null,
      "metadata": {
        "id": "Zw4-8slswE4L",
        "outputId": "c361a7aa-87e8-44c9-f56e-a3c8fee53298"
      },
      "outputs": [
        {
          "data": {
            "text/plain": [
              "Text(0, 0.5, 'NextTmax')"
            ]
          },
          "execution_count": 168,
          "metadata": {},
          "output_type": "execute_result"
        },
        {
          "data": {
            "image/png": "[encoded data removed]",
            "text/plain": [
              "<Figure size 432x288 with 1 Axes>"
            ]
          },
          "metadata": {
            "needs_background": "light"
          },
          "output_type": "display_data"
        }
      ],
      "source": [
        "Prediction_on_validation = Prediction(X_val,wL2)\n",
        "fig4 = plt.figure()\n",
        "ax4 =  fig4.add_axes([0,0,1,1])\n",
        "ax4.plot(Prediction_on_validation,label = 'Predicted')\n",
        "ax4.plot(t_val,label = 'True')\n",
        "plt.legend()\n",
        "plt.title('Predicted Vs True for validation set')\n",
        "plt.xlabel('Datapoints')\n",
        "plt.ylabel('NextTmax')"
      ]
    },
    {
      "cell_type": "code",
      "execution_count": null,
      "metadata": {
        "id": "mOlfL_BawE4L",
        "outputId": "dcea0504-ea0e-406c-ccba-c354e08071d4"
      },
      "outputs": [
        {
          "data": {
            "text/plain": [
              "'We read about R2 and how we call it from here https://www.askpython.com/python/coefficient-of-determination'"
            ]
          },
          "execution_count": 53,
          "metadata": {},
          "output_type": "execute_result"
        }
      ],
      "source": [
        "'''We read about R2 and how we call it from here https://www.askpython.com/python/coefficient-of-determination'''"
      ]
    },
    {
      "cell_type": "code",
      "execution_count": null,
      "metadata": {
        "id": "cSTmE2VYwE4L",
        "outputId": "550e4cad-2768-4c89-e40e-1a85459dd38a"
      },
      "outputs": [
        {
          "name": "stdout",
          "output_type": "stream",
          "text": [
            "R2 for true and predicted value for validation set is : 0.8873794480913091\n"
          ]
        }
      ],
      "source": [
        "corr_matrix = np.corrcoef(t_val,Prediction_on_validation) \n",
        "corr = corr_matrix[0][1]\n",
        "print('R2 for true and predicted value for validation set is :',corr)"
      ]
    },
    {
      "cell_type": "markdown",
      "metadata": {
        "id": "qxJ--ocewE4M"
      },
      "source": [
        "# Observations"
      ]
    },
    {
      "cell_type": "markdown",
      "metadata": {
        "id": "qjj9R_P8wE4M"
      },
      "source": [
        "L2 Regularisation\n",
        "best lamda  = 0.04\n",
        "minimum validation loss = 1.3959536676310509\n",
        "\n",
        "\n",
        "L1 Regularisation\n",
        "Best lamda  0.0\n",
        "minimum validation loss 1.396635997832915\n",
        "\n",
        "\n",
        "\n",
        "Pseudo inverse\n",
        "Best lamda  0\n",
        "minimum validation loss   1.3966473420169139\n",
        "\n",
        "\n",
        "\n",
        "Comparing all three minimum RMSE we can observe that validation losses are minimum for L2 regularised loss function with weights \n",
        "best_model weights =      \n",
        "       [ 5.20643024e-01,  1.07936690e-01,  3.33866461e-01, -9.44809369e-02,\n",
        "        1.72807420e+00,  3.06310552e-01, -4.00633825e-01,  2.45704554e-01,\n",
        "       -3.19002083e-01, -2.52481079e-01, -1.07422826e-01, -2.65018672e-01,\n",
        "       -4.84114263e-02,  2.13381905e-01, -1.21645595e-02, -1.45480378e-02,\n",
        "       -4.29705919e-02, -1.15748534e-01, -2.05921894e-01,  2.80455780e-01,\n",
        "        4.82073611e-02,  3.02737374e+01]\n",
        "\n"
      ]
    },
    {
      "cell_type": "markdown",
      "metadata": {
        "id": "bTMV1WVAwE4M"
      },
      "source": [
        "# Conclusion"
      ]
    },
    {
      "cell_type": "markdown",
      "metadata": {
        "id": "fyGLSltJwE4M"
      },
      "source": [
        "1) an unique value of lamda is obtained where validation losses are minimum\n",
        "\n",
        "2) an overall trend we witnessed is that traning and validation losses follow almost similiar trend that may be because problem is simple to learn for model\n",
        "\n",
        "3) best lamda changes and is subjected to with what weights we start the iterations else we can also increase max_iter to reach similar weights\n",
        "\n",
        "4) The validation MSE does not go below a certain value (2) no matter what number of iteration we do\n",
        "\n",
        "5) best model can be found using L2 regualrised loss function \n",
        "\n",
        "6) the best lamda corresponding to best lamda is 0.04 but we also got 0.05 when we randomise our training sample\n",
        "\n",
        "7) Best lamda is zero for L1 regularisation and pseudo inverse method which indicates there no need of regularisation in this cases\n",
        "\n",
        "8) A complex model is proving to be better for both validation and training in terms of losses\n",
        "\n",
        "9) With change in traning sample model change, and all other observation change as well\n",
        "\n",
        "10) Best model seems to perform good on validation set looking at true and predicted plot\n"
      ]
    },
    {
      "cell_type": "markdown",
      "metadata": {
        "deletable": false,
        "editable": false,
        "nbgrader": {
          "cell_type": "markdown",
          "checksum": "de7f27538e4ad9db84b046b2752843f1",
          "grade": false,
          "grade_id": "cell-8a98f665f9567cec",
          "locked": true,
          "schema_version": 3,
          "solution": false,
          "task": false
        },
        "id": "9aFgStKLwE4M"
      },
      "source": [
        "#**... Part 2 ends.**\n",
        "\n",
        "1. Write the name or roll no.s of friends from outside your group with whom you discussed the assignment here (no penalty for mere discussion without copying code): \n",
        "2. Write the links of sources on the internet referred here (no penalty for mere consultation without copying code): "
      ]
    },
    {
      "cell_type": "markdown",
      "metadata": {
        "id": "KoX-Nj1KwE4M"
      },
      "source": [
        "# References"
      ]
    },
    {
      "cell_type": "code",
      "execution_count": null,
      "metadata": {
        "id": "Q_KPDx88wE4M"
      },
      "outputs": [],
      "source": [
        "#For MAE Gradient : https://stats.stackexchange.com/questions/312737/mean-absolute-error-mae-derivative \n",
        "## for understanding L2 and L1 loss ; http://www.chioka.in/differences-between-l1-and-l2-as-loss-function-and-regularization/\n",
        "## For plotting we took reference from an online course on udemy where we found it difficult\n",
        "##https://stackoverflow.com/questions/332289/how-do-you-change-the-size-of-figures-drawn-with-matplotlib for figure size and all\n",
        "##How to save file https://stackoverflow.com/questions/51878601/pandas-dataframe-to-csv-how-to-set-column-names\n",
        "##pseudo inverse https://web.mit.edu/zoya/www/linearRegression.pdf\n",
        "## We had discussions with our friends but we made sure to not share code"
      ]
    },
    {
      "cell_type": "markdown",
      "metadata": {
        "id": "KBfQMvrmwE4M"
      },
      "source": [
        "# Submitted by Ankur Kumar(213170001) & Mohit Punasiya(213170006)"
      ]
    }
  ],
  "metadata": {
    "kernelspec": {
      "display_name": "Python 3 (ipykernel)",
      "language": "python",
      "name": "python3"
    },
    "language_info": {
      "codemirror_mode": {
        "name": "ipython",
        "version": 3
      },
      "file_extension": ".py",
      "mimetype": "text/x-python",
      "name": "python",
      "nbconvert_exporter": "python",
      "pygments_lexer": "ipython3",
      "version": "3.9.7"
    },
    "colab": {
      "name": "A1_a.ipynb",
      "provenance": [],
      "include_colab_link": true
    }
  },
  "nbformat": 4,
  "nbformat_minor": 0
}